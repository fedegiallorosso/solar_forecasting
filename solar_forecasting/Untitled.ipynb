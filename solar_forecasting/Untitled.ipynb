{
 "cells": [
  {
   "cell_type": "code",
   "execution_count": 1,
   "id": "b5580e61",
   "metadata": {},
   "outputs": [],
   "source": [
    "import numpy as np"
   ]
  },
  {
   "cell_type": "code",
   "execution_count": 2,
   "id": "4055bddc",
   "metadata": {},
   "outputs": [],
   "source": [
    "X = np.load('X_train_copernicus.npz', allow_pickle=True)"
   ]
  },
  {
   "cell_type": "code",
   "execution_count": 3,
   "id": "f8409261",
   "metadata": {},
   "outputs": [
    {
     "data": {
      "text/plain": [
       "['datetime', 'GHI', 'CLS', 'SZA', 'SAA']"
      ]
     },
     "execution_count": 3,
     "metadata": {},
     "output_type": "execute_result"
    }
   ],
   "source": [
    "# Display the contents of the .npz file\n",
    "X.files"
   ]
  },
  {
   "cell_type": "code",
   "execution_count": 4,
   "id": "8629cd01",
   "metadata": {},
   "outputs": [],
   "source": [
    "GHI = X['GHI']"
   ]
  },
  {
   "cell_type": "code",
   "execution_count": 5,
   "id": "ca85c746",
   "metadata": {},
   "outputs": [
    {
     "data": {
      "text/plain": [
       "4"
      ]
     },
     "execution_count": 5,
     "metadata": {},
     "output_type": "execute_result"
    }
   ],
   "source": [
    "GHI.ndim"
   ]
  },
  {
   "cell_type": "code",
   "execution_count": 6,
   "id": "a16671fe",
   "metadata": {},
   "outputs": [
    {
     "data": {
      "text/plain": [
       "numpy.ndarray"
      ]
     },
     "execution_count": 6,
     "metadata": {},
     "output_type": "execute_result"
    }
   ],
   "source": [
    "type(GHI)"
   ]
  },
  {
   "cell_type": "code",
   "execution_count": 7,
   "id": "dbf0e17d",
   "metadata": {},
   "outputs": [
    {
     "data": {
      "text/plain": [
       "(1845, 4, 81, 81)"
      ]
     },
     "execution_count": 7,
     "metadata": {},
     "output_type": "execute_result"
    }
   ],
   "source": [
    "GHI.shape"
   ]
  },
  {
   "cell_type": "code",
   "execution_count": 8,
   "id": "34a4c096",
   "metadata": {},
   "outputs": [
    {
     "data": {
      "text/plain": [
       "array([[[ 88.29,  88.66,  89.  , ..., 113.86, 114.01, 114.25],\n",
       "        [ 88.58,  88.95,  89.35, ..., 113.76, 113.87, 114.1 ],\n",
       "        [ 88.85,  89.23,  89.62, ..., 114.  , 114.11, 114.35],\n",
       "        ...,\n",
       "        [106.58, 106.93, 107.28, ..., 131.65, 132.07, 132.49],\n",
       "        [106.81, 107.16, 107.51, ..., 131.9 , 132.33, 132.75],\n",
       "        [107.03, 107.38, 107.73, ..., 132.16, 132.58, 133.01]],\n",
       "\n",
       "       [[127.63, 128.01, 128.36, ..., 153.39, 153.49, 153.71],\n",
       "        [127.97, 128.36, 128.78, ..., 153.19, 153.24, 153.45],\n",
       "        [128.27, 128.67, 129.09, ..., 153.46, 153.51, 153.73],\n",
       "        ...,\n",
       "        [147.49, 147.85, 148.21, ..., 172.42, 172.85, 173.28],\n",
       "        [147.73, 148.09, 148.44, ..., 172.7 , 173.13, 173.57],\n",
       "        [147.98, 148.33, 148.68, ..., 172.98, 173.42, 173.86]],\n",
       "\n",
       "       [[167.57, 167.96, 168.3 , ..., 192.81, 192.86, 193.05],\n",
       "        [167.95, 168.34, 168.78, ..., 192.52, 192.5 , 192.68],\n",
       "        [168.28, 168.55, 169.12, ..., 192.8 , 192.79, 192.98],\n",
       "        ...,\n",
       "        [188.64, 188.99, 189.35, ..., 212.9 , 213.34, 213.77],\n",
       "        [188.9 , 189.25, 189.6 , ..., 213.2 , 213.64, 214.08],\n",
       "        [189.16, 189.5 , 189.85, ..., 213.5 , 213.95, 214.39]],\n",
       "\n",
       "       [[207.06, 207.44, 207.76, ..., 231.27, 231.28, 231.43],\n",
       "        [207.47, 207.86, 208.31, ..., 230.91, 230.83, 230.98],\n",
       "        [207.82, 205.58, 208.67, ..., 231.21, 231.13, 231.29],\n",
       "        ...,\n",
       "        [229.12, 229.47, 229.81, ..., 252.34, 252.77, 253.2 ],\n",
       "        [229.39, 229.74, 230.08, ..., 252.66, 253.1 , 253.53],\n",
       "        [229.67, 230.  , 230.34, ..., 252.98, 253.42, 253.86]]])"
      ]
     },
     "execution_count": 8,
     "metadata": {},
     "output_type": "execute_result"
    }
   ],
   "source": [
    "GHI[0,:,:,:]"
   ]
  },
  {
   "cell_type": "code",
   "execution_count": 9,
   "id": "78841ea4",
   "metadata": {},
   "outputs": [],
   "source": [
    "CLS = X['CLS']"
   ]
  },
  {
   "cell_type": "code",
   "execution_count": 10,
   "id": "edbd0ded",
   "metadata": {},
   "outputs": [
    {
     "data": {
      "text/plain": [
       "(1845, 8, 81, 81)"
      ]
     },
     "execution_count": 10,
     "metadata": {},
     "output_type": "execute_result"
    }
   ],
   "source": [
    "CLS.shape"
   ]
  },
  {
   "cell_type": "code",
   "execution_count": 11,
   "id": "534c1ebc",
   "metadata": {},
   "outputs": [
    {
     "data": {
      "text/plain": [
       "array([[[ 99.87, 100.27, 100.63, ..., 126.96, 127.12, 127.36],\n",
       "        [100.19, 100.58, 101.  , ..., 126.84, 126.94, 127.19],\n",
       "        [100.48, 100.88, 101.3 , ..., 127.1 , 127.2 , 127.45],\n",
       "        ...,\n",
       "        [119.31, 119.68, 120.05, ..., 145.52, 145.96, 146.4 ],\n",
       "        [119.54, 119.91, 120.28, ..., 145.78, 146.23, 146.68],\n",
       "        [119.77, 120.14, 120.51, ..., 146.05, 146.5 , 146.95]],\n",
       "\n",
       "       [[141.58, 141.99, 142.35, ..., 168.5 , 168.6 , 168.81],\n",
       "        [141.94, 142.35, 142.79, ..., 168.27, 168.3 , 168.52],\n",
       "        [142.27, 142.68, 143.12, ..., 168.55, 168.58, 168.8 ],\n",
       "        ...,\n",
       "        [162.32, 162.69, 163.06, ..., 188.03, 188.48, 188.93],\n",
       "        [162.57, 162.94, 163.31, ..., 188.32, 188.77, 189.23],\n",
       "        [162.82, 163.19, 163.55, ..., 188.6 , 189.07, 189.53]],\n",
       "\n",
       "       [[183.39, 183.79, 184.14, ..., 209.46, 209.51, 209.69],\n",
       "        [183.78, 184.19, 184.63, ..., 209.14, 209.1 , 209.28],\n",
       "        [184.14, 184.54, 184.99, ..., 209.43, 209.39, 209.58],\n",
       "        ...,\n",
       "        [205.05, 205.42, 205.78, ..., 229.78, 230.23, 230.69],\n",
       "        [205.31, 205.67, 206.04, ..., 230.09, 230.55, 231.  ],\n",
       "        [205.57, 205.93, 206.29, ..., 230.4 , 230.86, 231.32]],\n",
       "\n",
       "       ...,\n",
       "\n",
       "       [[301.06, 301.42, 301.68, ..., 322.34, 322.26, 322.34],\n",
       "        [301.51, 301.88, 302.31, ..., 321.8 , 321.57, 321.65],\n",
       "        [301.93, 302.3 , 302.73, ..., 322.13, 321.9 , 321.98],\n",
       "        ...,\n",
       "        [324.66, 324.97, 325.28, ..., 344.65, 345.06, 345.47],\n",
       "        [324.95, 325.26, 325.57, ..., 345.  , 345.42, 345.84],\n",
       "        [325.24, 325.55, 325.86, ..., 345.36, 345.78, 346.21]],\n",
       "\n",
       "       [[336.05, 336.38, 336.62, ..., 355.29, 355.17, 355.22],\n",
       "        [336.52, 336.87, 337.28, ..., 354.7 , 354.41, 354.46],\n",
       "        [336.95, 337.3 , 337.71, ..., 355.04, 354.75, 354.8 ],\n",
       "        ...,\n",
       "        [360.15, 360.44, 360.73, ..., 378.13, 378.52, 378.91],\n",
       "        [360.45, 360.73, 361.02, ..., 378.49, 378.89, 379.29],\n",
       "        [360.75, 361.03, 361.31, ..., 378.86, 379.26, 379.67]],\n",
       "\n",
       "       [[368.36, 368.67, 368.87, ..., 385.41, 385.26, 385.27],\n",
       "        [368.85, 369.17, 369.57, ..., 384.78, 384.43, 384.45],\n",
       "        [369.29, 369.62, 370.01, ..., 385.13, 384.78, 384.8 ],\n",
       "        ...,\n",
       "        [392.9 , 393.16, 393.43, ..., 408.71, 409.08, 409.45],\n",
       "        [393.21, 393.47, 393.73, ..., 409.09, 409.46, 409.84],\n",
       "        [393.51, 393.77, 394.03, ..., 409.46, 409.84, 410.23]]])"
      ]
     },
     "execution_count": 11,
     "metadata": {},
     "output_type": "execute_result"
    }
   ],
   "source": [
    "CLS[0,:,:,:]"
   ]
  },
  {
   "cell_type": "code",
   "execution_count": 12,
   "id": "49c63052",
   "metadata": {},
   "outputs": [
    {
     "data": {
      "text/plain": [
       "array([datetime.datetime(2012, 1, 1, 9, 15),\n",
       "       datetime.datetime(2012, 1, 1, 11, 15),\n",
       "       datetime.datetime(2012, 1, 1, 13, 15),\n",
       "       datetime.datetime(2012, 1, 1, 15, 15),\n",
       "       datetime.datetime(2012, 1, 2, 9, 15),\n",
       "       datetime.datetime(2012, 1, 2, 11, 15),\n",
       "       datetime.datetime(2012, 1, 2, 13, 15),\n",
       "       datetime.datetime(2012, 1, 2, 15, 15),\n",
       "       datetime.datetime(2012, 1, 3, 9, 15),\n",
       "       datetime.datetime(2012, 1, 3, 11, 15),\n",
       "       datetime.datetime(2012, 1, 3, 13, 15),\n",
       "       datetime.datetime(2012, 1, 3, 15, 15),\n",
       "       datetime.datetime(2012, 1, 4, 9, 15),\n",
       "       datetime.datetime(2012, 1, 4, 11, 15),\n",
       "       datetime.datetime(2012, 1, 4, 13, 15),\n",
       "       datetime.datetime(2012, 1, 4, 15, 15),\n",
       "       datetime.datetime(2012, 1, 5, 9, 15),\n",
       "       datetime.datetime(2012, 1, 5, 11, 15),\n",
       "       datetime.datetime(2012, 1, 5, 13, 15),\n",
       "       datetime.datetime(2012, 1, 5, 15, 15)], dtype=object)"
      ]
     },
     "execution_count": 12,
     "metadata": {},
     "output_type": "execute_result"
    }
   ],
   "source": [
    "X['datetime'][:20]"
   ]
  },
  {
   "cell_type": "code",
   "execution_count": 14,
   "id": "bdf8de01",
   "metadata": {},
   "outputs": [
    {
     "data": {
      "text/plain": [
       "datetime.datetime"
      ]
     },
     "execution_count": 14,
     "metadata": {},
     "output_type": "execute_result"
    }
   ],
   "source": [
    "type(X['datetime'][0])"
   ]
  }
 ],
 "metadata": {
  "kernelspec": {
   "display_name": "Python 3 (ipykernel)",
   "language": "python",
   "name": "python3"
  },
  "language_info": {
   "codemirror_mode": {
    "name": "ipython",
    "version": 3
   },
   "file_extension": ".py",
   "mimetype": "text/x-python",
   "name": "python",
   "nbconvert_exporter": "python",
   "pygments_lexer": "ipython3",
   "version": "3.8.12"
  },
  "toc": {
   "base_numbering": 1,
   "nav_menu": {},
   "number_sections": true,
   "sideBar": true,
   "skip_h1_title": false,
   "title_cell": "Table of Contents",
   "title_sidebar": "Contents",
   "toc_cell": false,
   "toc_position": {},
   "toc_section_display": true,
   "toc_window_display": false
  }
 },
 "nbformat": 4,
 "nbformat_minor": 5
}
