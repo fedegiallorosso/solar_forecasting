{
 "cells": [
  {
   "cell_type": "code",
   "execution_count": 1,
   "id": "b5580e61",
   "metadata": {},
   "outputs": [],
   "source": [
    "import numpy as np"
   ]
  },
  {
   "cell_type": "code",
   "execution_count": 3,
   "id": "4055bddc",
   "metadata": {},
   "outputs": [],
   "source": [
    "X = np.load('../raw_data/X_train_copernicus.npz', allow_pickle=True)"
   ]
  },
  {
   "cell_type": "code",
   "execution_count": 4,
   "id": "f8409261",
   "metadata": {},
   "outputs": [
    {
     "data": {
      "text/plain": [
       "['datetime', 'GHI', 'CLS', 'SZA', 'SAA']"
      ]
     },
     "execution_count": 4,
     "metadata": {},
     "output_type": "execute_result"
    }
   ],
   "source": [
    "# Display the contents of the .npz file\n",
    "#X.files"
   ]
  },
  {
   "cell_type": "code",
   "execution_count": 5,
   "id": "8629cd01",
   "metadata": {},
   "outputs": [
    {
     "data": {
      "text/plain": [
       "numpy.lib.npyio.NpzFile"
      ]
     },
     "execution_count": 5,
     "metadata": {},
     "output_type": "execute_result"
    }
   ],
   "source": [
    "type(X)"
   ]
  },
  {
   "cell_type": "code",
   "execution_count": 13,
   "id": "90511727",
   "metadata": {},
   "outputs": [
    {
     "data": {
      "text/plain": [
       "numpy.ndarray"
      ]
     },
     "execution_count": 13,
     "metadata": {},
     "output_type": "execute_result"
    }
   ],
   "source": [
    "type(X['GHI'])"
   ]
  },
  {
   "cell_type": "code",
   "execution_count": null,
   "id": "ccdae709",
   "metadata": {},
   "outputs": [],
   "source": [
    "np.savez_compressed('../raw_data/X_train_copernicus.npz', array1=array1, array2=array2)\n",
    "b = np.load('filename.npz')\n"
   ]
  },
  {
   "cell_type": "code",
   "execution_count": 12,
   "id": "ca85c746",
   "metadata": {},
   "outputs": [
    {
     "ename": "ValueError",
     "evalue": "Expected 1D or 2D array, got 4D array instead",
     "output_type": "error",
     "traceback": [
      "\u001b[0;31m---------------------------------------------------------------------------\u001b[0m",
      "\u001b[0;31mValueError\u001b[0m                                Traceback (most recent call last)",
      "Cell \u001b[0;32mIn [12], line 1\u001b[0m\n\u001b[0;32m----> 1\u001b[0m \u001b[43mnp\u001b[49m\u001b[38;5;241;43m.\u001b[39;49m\u001b[43msavetxt\u001b[49m\u001b[43m(\u001b[49m\u001b[38;5;124;43m'\u001b[39;49m\u001b[38;5;124;43mX_train.csv\u001b[39;49m\u001b[38;5;124;43m'\u001b[39;49m\u001b[43m,\u001b[49m\u001b[43m \u001b[49m\u001b[43mX\u001b[49m\u001b[43m[\u001b[49m\u001b[38;5;124;43m'\u001b[39;49m\u001b[38;5;124;43mGHI\u001b[39;49m\u001b[38;5;124;43m'\u001b[39;49m\u001b[43m]\u001b[49m\u001b[43m,\u001b[49m\u001b[43m \u001b[49m\u001b[43mdelimiter\u001b[49m\u001b[38;5;241;43m=\u001b[39;49m\u001b[38;5;124;43m\"\u001b[39;49m\u001b[38;5;124;43m,\u001b[39;49m\u001b[38;5;124;43m\"\u001b[39;49m\u001b[43m,\u001b[49m\u001b[43m \u001b[49m\u001b[43mfmt\u001b[49m\u001b[38;5;241;43m=\u001b[39;49m\u001b[38;5;124;43m'\u001b[39;49m\u001b[38;5;132;43;01m%s\u001b[39;49;00m\u001b[38;5;124;43m'\u001b[39;49m\u001b[43m)\u001b[49m\n",
      "File \u001b[0;32m<__array_function__ internals>:180\u001b[0m, in \u001b[0;36msavetxt\u001b[0;34m(*args, **kwargs)\u001b[0m\n",
      "File \u001b[0;32m~/.pyenv/versions/3.8.12/envs/solar_forecasting/lib/python3.8/site-packages/numpy/lib/npyio.py:1517\u001b[0m, in \u001b[0;36msavetxt\u001b[0;34m(fname, X, fmt, delimiter, newline, header, footer, comments, encoding)\u001b[0m\n\u001b[1;32m   1515\u001b[0m \u001b[38;5;66;03m# Handle 1-dimensional arrays\u001b[39;00m\n\u001b[1;32m   1516\u001b[0m \u001b[38;5;28;01mif\u001b[39;00m X\u001b[38;5;241m.\u001b[39mndim \u001b[38;5;241m==\u001b[39m \u001b[38;5;241m0\u001b[39m \u001b[38;5;129;01mor\u001b[39;00m X\u001b[38;5;241m.\u001b[39mndim \u001b[38;5;241m>\u001b[39m \u001b[38;5;241m2\u001b[39m:\n\u001b[0;32m-> 1517\u001b[0m     \u001b[38;5;28;01mraise\u001b[39;00m \u001b[38;5;167;01mValueError\u001b[39;00m(\n\u001b[1;32m   1518\u001b[0m         \u001b[38;5;124m\"\u001b[39m\u001b[38;5;124mExpected 1D or 2D array, got \u001b[39m\u001b[38;5;132;01m%d\u001b[39;00m\u001b[38;5;124mD array instead\u001b[39m\u001b[38;5;124m\"\u001b[39m \u001b[38;5;241m%\u001b[39m X\u001b[38;5;241m.\u001b[39mndim)\n\u001b[1;32m   1519\u001b[0m \u001b[38;5;28;01melif\u001b[39;00m X\u001b[38;5;241m.\u001b[39mndim \u001b[38;5;241m==\u001b[39m \u001b[38;5;241m1\u001b[39m:\n\u001b[1;32m   1520\u001b[0m     \u001b[38;5;66;03m# Common case -- 1d array of numbers\u001b[39;00m\n\u001b[1;32m   1521\u001b[0m     \u001b[38;5;28;01mif\u001b[39;00m X\u001b[38;5;241m.\u001b[39mdtype\u001b[38;5;241m.\u001b[39mnames \u001b[38;5;129;01mis\u001b[39;00m \u001b[38;5;28;01mNone\u001b[39;00m:\n",
      "\u001b[0;31mValueError\u001b[0m: Expected 1D or 2D array, got 4D array instead"
     ]
    }
   ],
   "source": [
    "np.savetxt('X_train.csv', X['GHI'], delimiter=\",\", fmt='%s')"
   ]
  },
  {
   "cell_type": "code",
   "execution_count": 6,
   "id": "a16671fe",
   "metadata": {},
   "outputs": [
    {
     "data": {
      "text/plain": [
       "numpy.ndarray"
      ]
     },
     "execution_count": 6,
     "metadata": {},
     "output_type": "execute_result"
    }
   ],
   "source": [
    "type(GHI)"
   ]
  },
  {
   "cell_type": "code",
   "execution_count": 7,
   "id": "dbf0e17d",
   "metadata": {},
   "outputs": [
    {
     "data": {
      "text/plain": [
       "(1845, 4, 81, 81)"
      ]
     },
     "execution_count": 7,
     "metadata": {},
     "output_type": "execute_result"
    }
   ],
   "source": [
    "GHI.shape"
   ]
  },
  {
   "cell_type": "code",
   "execution_count": 15,
   "id": "34a4c096",
   "metadata": {},
   "outputs": [
    {
     "data": {
      "text/plain": [
       "array([ 88.29, 127.63, 167.57, 207.06])"
      ]
     },
     "execution_count": 15,
     "metadata": {},
     "output_type": "execute_result"
    }
   ],
   "source": [
    "X['GHI'][0,:,0,0]"
   ]
  },
  {
   "cell_type": "code",
   "execution_count": 9,
   "id": "78841ea4",
   "metadata": {},
   "outputs": [],
   "source": [
    "CLS = X['CLS']"
   ]
  },
  {
   "cell_type": "code",
   "execution_count": 10,
   "id": "edbd0ded",
   "metadata": {},
   "outputs": [
    {
     "data": {
      "text/plain": [
       "(1845, 8, 81, 81)"
      ]
     },
     "execution_count": 10,
     "metadata": {},
     "output_type": "execute_result"
    }
   ],
   "source": [
    "CLS.shape"
   ]
  },
  {
   "cell_type": "code",
   "execution_count": 11,
   "id": "534c1ebc",
   "metadata": {},
   "outputs": [
    {
     "data": {
      "text/plain": [
       "array([[[ 99.87, 100.27, 100.63, ..., 126.96, 127.12, 127.36],\n",
       "        [100.19, 100.58, 101.  , ..., 126.84, 126.94, 127.19],\n",
       "        [100.48, 100.88, 101.3 , ..., 127.1 , 127.2 , 127.45],\n",
       "        ...,\n",
       "        [119.31, 119.68, 120.05, ..., 145.52, 145.96, 146.4 ],\n",
       "        [119.54, 119.91, 120.28, ..., 145.78, 146.23, 146.68],\n",
       "        [119.77, 120.14, 120.51, ..., 146.05, 146.5 , 146.95]],\n",
       "\n",
       "       [[141.58, 141.99, 142.35, ..., 168.5 , 168.6 , 168.81],\n",
       "        [141.94, 142.35, 142.79, ..., 168.27, 168.3 , 168.52],\n",
       "        [142.27, 142.68, 143.12, ..., 168.55, 168.58, 168.8 ],\n",
       "        ...,\n",
       "        [162.32, 162.69, 163.06, ..., 188.03, 188.48, 188.93],\n",
       "        [162.57, 162.94, 163.31, ..., 188.32, 188.77, 189.23],\n",
       "        [162.82, 163.19, 163.55, ..., 188.6 , 189.07, 189.53]],\n",
       "\n",
       "       [[183.39, 183.79, 184.14, ..., 209.46, 209.51, 209.69],\n",
       "        [183.78, 184.19, 184.63, ..., 209.14, 209.1 , 209.28],\n",
       "        [184.14, 184.54, 184.99, ..., 209.43, 209.39, 209.58],\n",
       "        ...,\n",
       "        [205.05, 205.42, 205.78, ..., 229.78, 230.23, 230.69],\n",
       "        [205.31, 205.67, 206.04, ..., 230.09, 230.55, 231.  ],\n",
       "        [205.57, 205.93, 206.29, ..., 230.4 , 230.86, 231.32]],\n",
       "\n",
       "       ...,\n",
       "\n",
       "       [[301.06, 301.42, 301.68, ..., 322.34, 322.26, 322.34],\n",
       "        [301.51, 301.88, 302.31, ..., 321.8 , 321.57, 321.65],\n",
       "        [301.93, 302.3 , 302.73, ..., 322.13, 321.9 , 321.98],\n",
       "        ...,\n",
       "        [324.66, 324.97, 325.28, ..., 344.65, 345.06, 345.47],\n",
       "        [324.95, 325.26, 325.57, ..., 345.  , 345.42, 345.84],\n",
       "        [325.24, 325.55, 325.86, ..., 345.36, 345.78, 346.21]],\n",
       "\n",
       "       [[336.05, 336.38, 336.62, ..., 355.29, 355.17, 355.22],\n",
       "        [336.52, 336.87, 337.28, ..., 354.7 , 354.41, 354.46],\n",
       "        [336.95, 337.3 , 337.71, ..., 355.04, 354.75, 354.8 ],\n",
       "        ...,\n",
       "        [360.15, 360.44, 360.73, ..., 378.13, 378.52, 378.91],\n",
       "        [360.45, 360.73, 361.02, ..., 378.49, 378.89, 379.29],\n",
       "        [360.75, 361.03, 361.31, ..., 378.86, 379.26, 379.67]],\n",
       "\n",
       "       [[368.36, 368.67, 368.87, ..., 385.41, 385.26, 385.27],\n",
       "        [368.85, 369.17, 369.57, ..., 384.78, 384.43, 384.45],\n",
       "        [369.29, 369.62, 370.01, ..., 385.13, 384.78, 384.8 ],\n",
       "        ...,\n",
       "        [392.9 , 393.16, 393.43, ..., 408.71, 409.08, 409.45],\n",
       "        [393.21, 393.47, 393.73, ..., 409.09, 409.46, 409.84],\n",
       "        [393.51, 393.77, 394.03, ..., 409.46, 409.84, 410.23]]])"
      ]
     },
     "execution_count": 11,
     "metadata": {},
     "output_type": "execute_result"
    }
   ],
   "source": [
    "CLS[0,:,:,:]"
   ]
  },
  {
   "cell_type": "code",
   "execution_count": 12,
   "id": "49c63052",
   "metadata": {},
   "outputs": [
    {
     "data": {
      "text/plain": [
       "array([datetime.datetime(2012, 1, 1, 9, 15),\n",
       "       datetime.datetime(2012, 1, 1, 11, 15),\n",
       "       datetime.datetime(2012, 1, 1, 13, 15),\n",
       "       datetime.datetime(2012, 1, 1, 15, 15),\n",
       "       datetime.datetime(2012, 1, 2, 9, 15),\n",
       "       datetime.datetime(2012, 1, 2, 11, 15),\n",
       "       datetime.datetime(2012, 1, 2, 13, 15),\n",
       "       datetime.datetime(2012, 1, 2, 15, 15),\n",
       "       datetime.datetime(2012, 1, 3, 9, 15),\n",
       "       datetime.datetime(2012, 1, 3, 11, 15),\n",
       "       datetime.datetime(2012, 1, 3, 13, 15),\n",
       "       datetime.datetime(2012, 1, 3, 15, 15),\n",
       "       datetime.datetime(2012, 1, 4, 9, 15),\n",
       "       datetime.datetime(2012, 1, 4, 11, 15),\n",
       "       datetime.datetime(2012, 1, 4, 13, 15),\n",
       "       datetime.datetime(2012, 1, 4, 15, 15),\n",
       "       datetime.datetime(2012, 1, 5, 9, 15),\n",
       "       datetime.datetime(2012, 1, 5, 11, 15),\n",
       "       datetime.datetime(2012, 1, 5, 13, 15),\n",
       "       datetime.datetime(2012, 1, 5, 15, 15)], dtype=object)"
      ]
     },
     "execution_count": 12,
     "metadata": {},
     "output_type": "execute_result"
    }
   ],
   "source": [
    "X['datetime'][:20]"
   ]
  },
  {
   "cell_type": "code",
   "execution_count": 14,
   "id": "bdf8de01",
   "metadata": {},
   "outputs": [
    {
     "data": {
      "text/plain": [
       "datetime.datetime"
      ]
     },
     "execution_count": 14,
     "metadata": {},
     "output_type": "execute_result"
    }
   ],
   "source": [
    "type(X['datetime'][0])"
   ]
  }
 ],
 "metadata": {
  "kernelspec": {
   "display_name": "Python 3 (ipykernel)",
   "language": "python",
   "name": "python3"
  },
  "language_info": {
   "codemirror_mode": {
    "name": "ipython",
    "version": 3
   },
   "file_extension": ".py",
   "mimetype": "text/x-python",
   "name": "python",
   "nbconvert_exporter": "python",
   "pygments_lexer": "ipython3",
   "version": "3.8.12"
  },
  "toc": {
   "base_numbering": 1,
   "nav_menu": {},
   "number_sections": true,
   "sideBar": true,
   "skip_h1_title": false,
   "title_cell": "Table of Contents",
   "title_sidebar": "Contents",
   "toc_cell": false,
   "toc_position": {},
   "toc_section_display": true,
   "toc_window_display": false
  }
 },
 "nbformat": 4,
 "nbformat_minor": 5
}
