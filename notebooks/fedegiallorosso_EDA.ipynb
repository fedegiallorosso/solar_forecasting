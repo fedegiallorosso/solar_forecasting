{
 "cells": [
  {
   "cell_type": "code",
   "execution_count": 64,
   "id": "b5580e61",
   "metadata": {},
   "outputs": [],
   "source": [
    "import numpy as np\n",
    "import matplotlib.pyplot as plt\n",
    "import pandas as pd"
   ]
  },
  {
   "cell_type": "code",
   "execution_count": 2,
   "id": "4055bddc",
   "metadata": {},
   "outputs": [],
   "source": [
    "data = np.load('../raw_data/data.npz', allow_pickle=True)"
   ]
  },
  {
   "cell_type": "code",
   "execution_count": 3,
   "id": "f8409261",
   "metadata": {},
   "outputs": [
    {
     "data": {
      "text/plain": [
       "['datetime', 'GHI', 'CLS', 'SZA', 'SAA']"
      ]
     },
     "execution_count": 3,
     "metadata": {},
     "output_type": "execute_result"
    }
   ],
   "source": [
    "# Display the contents of the .npz file\n",
    "data.files"
   ]
  },
  {
   "cell_type": "code",
   "execution_count": 4,
   "id": "d7640ffe",
   "metadata": {},
   "outputs": [],
   "source": [
    "datetime= data['datetime']"
   ]
  },
  {
   "cell_type": "code",
   "execution_count": 5,
   "id": "56abb51f",
   "metadata": {},
   "outputs": [
    {
     "data": {
      "text/plain": [
       "numpy.ndarray"
      ]
     },
     "execution_count": 5,
     "metadata": {},
     "output_type": "execute_result"
    }
   ],
   "source": [
    "type(datetime)"
   ]
  },
  {
   "cell_type": "code",
   "execution_count": 6,
   "id": "fbc51f35",
   "metadata": {},
   "outputs": [
    {
     "data": {
      "text/plain": [
       "(1845,)"
      ]
     },
     "execution_count": 6,
     "metadata": {},
     "output_type": "execute_result"
    }
   ],
   "source": [
    "datetime.shape"
   ]
  },
  {
   "cell_type": "code",
   "execution_count": 7,
   "id": "90511727",
   "metadata": {},
   "outputs": [],
   "source": [
    "X=data['GHI']"
   ]
  },
  {
   "cell_type": "code",
   "execution_count": 8,
   "id": "a4664a49",
   "metadata": {},
   "outputs": [],
   "source": [
    "Y=data['CLS']"
   ]
  },
  {
   "cell_type": "code",
   "execution_count": 9,
   "id": "a16671fe",
   "metadata": {},
   "outputs": [
    {
     "data": {
      "text/plain": [
       "numpy.ndarray"
      ]
     },
     "execution_count": 9,
     "metadata": {},
     "output_type": "execute_result"
    }
   ],
   "source": [
    "type(X)"
   ]
  },
  {
   "cell_type": "code",
   "execution_count": 10,
   "id": "dbf0e17d",
   "metadata": {},
   "outputs": [
    {
     "data": {
      "text/plain": [
       "(1845, 4, 81, 81)"
      ]
     },
     "execution_count": 10,
     "metadata": {},
     "output_type": "execute_result"
    }
   ],
   "source": [
    "X.shape"
   ]
  },
  {
   "cell_type": "code",
   "execution_count": 11,
   "id": "34a4c096",
   "metadata": {},
   "outputs": [
    {
     "data": {
      "text/plain": [
       "array([[179.27, 179.46, 186.71, ..., 216.46, 216.56, 216.8 ],\n",
       "       [179.43, 179.61, 187.  , ..., 215.74, 215.72, 215.94],\n",
       "       [176.17, 178.27, 189.95, ..., 215.72, 215.71, 215.96],\n",
       "       ...,\n",
       "       [188.73, 197.16, 199.88, ..., 175.8 , 171.85, 181.76],\n",
       "       [199.56, 199.82, 200.08, ..., 156.04, 174.97, 177.5 ],\n",
       "       [199.76, 200.02, 200.27, ..., 156.26, 175.22, 177.77]])"
      ]
     },
     "execution_count": 11,
     "metadata": {},
     "output_type": "execute_result"
    }
   ],
   "source": [
    "X[100,3,:,:]"
   ]
  },
  {
   "cell_type": "code",
   "execution_count": 12,
   "id": "1206084b",
   "metadata": {},
   "outputs": [
    {
     "data": {
      "text/plain": [
       "array([ 99.87, 141.58, 183.39, 224.3 , 263.68, 301.06, 336.05, 368.36])"
      ]
     },
     "execution_count": 12,
     "metadata": {},
     "output_type": "execute_result"
    }
   ],
   "source": [
    "Y[0,:,0,0]"
   ]
  },
  {
   "cell_type": "code",
   "execution_count": 13,
   "id": "b5e1d3cf",
   "metadata": {},
   "outputs": [
    {
     "data": {
      "text/plain": [
       "array([397.75, 423.99, 446.92, 466.39, 482.28, 494.5 , 502.97, 507.6 ])"
      ]
     },
     "execution_count": 13,
     "metadata": {},
     "output_type": "execute_result"
    }
   ],
   "source": [
    "Y[1,:,0,0]"
   ]
  },
  {
   "cell_type": "code",
   "execution_count": 14,
   "id": "571d3937",
   "metadata": {},
   "outputs": [
    {
     "data": {
      "text/plain": [
       "138.03"
      ]
     },
     "execution_count": 14,
     "metadata": {},
     "output_type": "execute_result"
    }
   ],
   "source": [
    "a=[]\n",
    "for x in X[99,0,:,:]:\n",
    "    a.append(np.min(x))\n",
    "vmin=np.min(a)\n",
    "vmin"
   ]
  },
  {
   "cell_type": "code",
   "execution_count": 15,
   "id": "e88d2f37",
   "metadata": {},
   "outputs": [
    {
     "data": {
      "text/plain": [
       "536.55"
      ]
     },
     "execution_count": 15,
     "metadata": {},
     "output_type": "execute_result"
    }
   ],
   "source": [
    "b=[]\n",
    "for x in X[99,0,:,:]:\n",
    "    b.append(np.max(x))\n",
    "vmax=np.max(b)  \n",
    "vmax"
   ]
  },
  {
   "cell_type": "code",
   "execution_count": 16,
   "id": "9e660bdd",
   "metadata": {},
   "outputs": [
    {
     "name": "stdout",
     "output_type": "stream",
     "text": [
      "138.03\n",
      "536.55\n"
     ]
    }
   ],
   "source": [
    "print (vmin)\n",
    "print (vmax)"
   ]
  },
  {
   "cell_type": "code",
   "execution_count": 17,
   "id": "3e3c0d13",
   "metadata": {},
   "outputs": [
    {
     "data": {
      "text/plain": [
       "(81, 81)"
      ]
     },
     "execution_count": 17,
     "metadata": {},
     "output_type": "execute_result"
    }
   ],
   "source": [
    "X[100,3,:,:].shape"
   ]
  },
  {
   "cell_type": "code",
   "execution_count": 34,
   "id": "07925c93",
   "metadata": {},
   "outputs": [
    {
     "data": {
      "text/plain": [
       "<matplotlib.image.AxesImage at 0x7f8b4c00cd90>"
      ]
     },
     "execution_count": 34,
     "metadata": {},
     "output_type": "execute_result"
    },
    {
     "data": {
      "image/png": "[encoded data removed]",
      "text/plain": [
       "<Figure size 640x480 with 1 Axes>"
      ]
     },
     "metadata": {},
     "output_type": "display_data"
    }
   ],
   "source": [
    "plt.imshow(X[99,0,:,:], cmap='jet', norm='linear', vmin=vmin, vmax=vmax)"
   ]
  },
  {
   "cell_type": "code",
   "execution_count": 71,
   "id": "28120753",
   "metadata": {},
   "outputs": [
    {
     "data": {
      "text/plain": [
       "0"
      ]
     },
     "execution_count": 71,
     "metadata": {},
     "output_type": "execute_result"
    }
   ],
   "source": [
    "tot=0\n",
    "stat=[]\n",
    "for x in range(X.shape[0]):\n",
    "    for y in range(X.shape[1]):\n",
    "        for z in range(X.shape[2]):\n",
    "            for t in range (X.shape[3]):\n",
    "                stat.append(X[x,y,z,t])\n",
    "                if type(X[x,y,z,t]) != np.float64:\n",
    "                    tot+=1\n",
    "tot"
   ]
  },
  {
   "cell_type": "code",
   "execution_count": 72,
   "id": "34d49574",
   "metadata": {},
   "outputs": [],
   "source": [
    "df_GHI=pd.DataFrame(stat, columns=['GHI'])"
   ]
  },
  {
   "cell_type": "code",
   "execution_count": 73,
   "id": "72baabf8",
   "metadata": {},
   "outputs": [
    {
     "name": "stdout",
     "output_type": "stream",
     "text": [
      "<class 'pandas.core.frame.DataFrame'>\n",
      "RangeIndex: 48420180 entries, 0 to 48420179\n",
      "Data columns (total 1 columns):\n",
      " #   Column  Dtype  \n",
      "---  ------  -----  \n",
      " 0   GHI     float64\n",
      "dtypes: float64(1)\n",
      "memory usage: 369.4 MB\n"
     ]
    }
   ],
   "source": [
    "df_GHI.info()"
   ]
  },
  {
   "cell_type": "code",
   "execution_count": 74,
   "id": "0ba19224",
   "metadata": {},
   "outputs": [
    {
     "data": {
      "text/html": [
       "<div>\n",
       "<style scoped>\n",
       "    .dataframe tbody tr th:only-of-type {\n",
       "        vertical-align: middle;\n",
       "    }\n",
       "\n",
       "    .dataframe tbody tr th {\n",
       "        vertical-align: top;\n",
       "    }\n",
       "\n",
       "    .dataframe thead th {\n",
       "        text-align: right;\n",
       "    }\n",
       "</style>\n",
       "<table border=\"1\" class=\"dataframe\">\n",
       "  <thead>\n",
       "    <tr style=\"text-align: right;\">\n",
       "      <th></th>\n",
       "      <th>GHI</th>\n",
       "    </tr>\n",
       "  </thead>\n",
       "  <tbody>\n",
       "    <tr>\n",
       "      <th>count</th>\n",
       "      <td>4.842018e+07</td>\n",
       "    </tr>\n",
       "    <tr>\n",
       "      <th>mean</th>\n",
       "      <td>4.949039e+02</td>\n",
       "    </tr>\n",
       "    <tr>\n",
       "      <th>std</th>\n",
       "      <td>2.737931e+02</td>\n",
       "    </tr>\n",
       "    <tr>\n",
       "      <th>min</th>\n",
       "      <td>8.040000e+00</td>\n",
       "    </tr>\n",
       "    <tr>\n",
       "      <th>25%</th>\n",
       "      <td>2.507800e+02</td>\n",
       "    </tr>\n",
       "    <tr>\n",
       "      <th>50%</th>\n",
       "      <td>4.926200e+02</td>\n",
       "    </tr>\n",
       "    <tr>\n",
       "      <th>75%</th>\n",
       "      <td>7.184500e+02</td>\n",
       "    </tr>\n",
       "    <tr>\n",
       "      <th>max</th>\n",
       "      <td>1.101740e+03</td>\n",
       "    </tr>\n",
       "  </tbody>\n",
       "</table>\n",
       "</div>"
      ],
      "text/plain": [
       "                GHI\n",
       "count  4.842018e+07\n",
       "mean   4.949039e+02\n",
       "std    2.737931e+02\n",
       "min    8.040000e+00\n",
       "25%    2.507800e+02\n",
       "50%    4.926200e+02\n",
       "75%    7.184500e+02\n",
       "max    1.101740e+03"
      ]
     },
     "execution_count": 74,
     "metadata": {},
     "output_type": "execute_result"
    }
   ],
   "source": [
    "df_GHI.describe()"
   ]
  }
 ],
 "metadata": {
  "kernelspec": {
   "display_name": "Python 3 (ipykernel)",
   "language": "python",
   "name": "python3"
  },
  "language_info": {
   "codemirror_mode": {
    "name": "ipython",
    "version": 3
   },
   "file_extension": ".py",
   "mimetype": "text/x-python",
   "name": "python",
   "nbconvert_exporter": "python",
   "pygments_lexer": "ipython3",
   "version": "3.8.12"
  },
  "toc": {
   "base_numbering": 1,
   "nav_menu": {},
   "number_sections": true,
   "sideBar": true,
   "skip_h1_title": false,
   "title_cell": "Table of Contents",
   "title_sidebar": "Contents",
   "toc_cell": false,
   "toc_position": {},
   "toc_section_display": true,
   "toc_window_display": false
  }
 },
 "nbformat": 4,
 "nbformat_minor": 5
}
