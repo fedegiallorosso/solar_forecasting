{
 "cells": [
  {
   "cell_type": "code",
   "execution_count": 1,
   "metadata": {},
   "outputs": [],
   "source": [
    "import pandas as pd\n",
    "import matplotlib.pyplot as plt\n",
    "\n",
    "\n",
    "from statsmodels.tsa.stattools import adfuller\n",
    "from statsmodels.graphics.tsaplots import plot_acf, plot_pacf\n",
    "from statsmodels.tsa.arima.model import ARIMA\n",
    "from statsmodels.graphics.tsaplots import plot_predict\n",
    "from sklearn.linear_model import LinearRegression\n",
    "import pandas as pd\n",
    "import numpy as np\n",
    "import datetime\n",
    "import calendar\n",
    "\n",
    "from scipy.stats import pearsonr\n"
   ]
  },
  {
   "cell_type": "code",
   "execution_count": 2,
   "metadata": {},
   "outputs": [],
   "source": [
    "# Load data from raw_data\n",
    "data = np.load('../raw_data/X_train_copernicus.npz', allow_pickle=True)"
   ]
  },
  {
   "cell_type": "code",
   "execution_count": 3,
   "metadata": {},
   "outputs": [],
   "source": [
    "# Extract features from data\n",
    "GHI = data['GHI']\n",
    "CLS = data['CLS']\n",
    "SAA = data['SAA']\n",
    "SZA = data['SZA']\n",
    "DATE = data['datetime']"
   ]
  },
  {
   "cell_type": "code",
   "execution_count": 4,
   "metadata": {},
   "outputs": [
    {
     "data": {
      "text/plain": [
       "4"
      ]
     },
     "execution_count": 4,
     "metadata": {},
     "output_type": "execute_result"
    }
   ],
   "source": [
    "def n_obs_in_day(observation = 96):\n",
    "    DATE[observation]\n",
    "    number_obs_day = 0 \n",
    "    for i in range(8):\n",
    "        if DATE[observation+i].day == DATE[observation].day:\n",
    "            number_obs_day += 1\n",
    "    return number_obs_day\n",
    "    \n",
    "n_obs_in_day()\n",
    "   "
   ]
  },
  {
   "cell_type": "code",
   "execution_count": 5,
   "metadata": {},
   "outputs": [],
   "source": [
    "# defining time variable \n",
    "def arr_time(observation= 96):\n",
    "    arr_time_day = []\n",
    "    \n",
    "    time = datetime.datetime(year=DATE[observation].year,\\\n",
    "                                    month=DATE[observation].month,\n",
    "                                    day=DATE[observation].day,\n",
    "                                    hour=DATE[observation].hour,\n",
    "                                    minute=DATE[observation].minute)\n",
    "    delta = datetime.timedelta(minutes=15)\n",
    "    time = time - datetime.timedelta(minutes=60)\n",
    "    # we're setting the num of obs in day\\n\",\n",
    "    observation_max = n_obs_in_day(observation)\n",
    "    for j in range(observation_max):\n",
    "        for i in range(8):\n",
    "            time = time+delta\n",
    "            arr_time_day.append(time)\n",
    "    \n",
    "    arr_time_day  = np.array(arr_time_day)\n",
    "    return arr_time_day"
   ]
  },
  {
   "cell_type": "code",
   "execution_count": 6,
   "metadata": {},
   "outputs": [
    {
     "data": {
      "text/plain": [
       "(32,)"
      ]
     },
     "execution_count": 6,
     "metadata": {},
     "output_type": "execute_result"
    }
   ],
   "source": [
    "arr_time().shape"
   ]
  },
  {
   "cell_type": "code",
   "execution_count": 7,
   "metadata": {},
   "outputs": [],
   "source": [
    "def arr_feature(\n",
    "    feature = CLS,\n",
    "    observation = 96): \n",
    "    arr_day = []\n",
    "    \n",
    "    # we're setting the num of obs in day\\n\",\n",
    "    observation_max = n_obs_in_day(observation)\n",
    "    \n",
    "    for j in range(observation_max):\n",
    "        for i in range(8):\n",
    "            arr_day.append(round((feature[observation+j,i,:,:]).mean(),2))\n",
    "    arr_day = np.array(arr_day)\n",
    "    return arr_day\n",
    "\n",
    "    "
   ]
  },
  {
   "cell_type": "code",
   "execution_count": 8,
   "metadata": {},
   "outputs": [],
   "source": [
    "# defining arrays \n",
    "arr_CLS = arr_feature(feature = CLS, observation = 96)\n",
    "arr_SAA = arr_feature(feature = SAA, observation = 96)\n",
    "arr_SZA = arr_feature(feature = SZA, observation = 96)\n",
    "arr_time_obs = arr_time(observation= 96)"
   ]
  },
  {
   "cell_type": "code",
   "execution_count": 9,
   "metadata": {},
   "outputs": [
    {
     "ename": "TypeError",
     "evalue": "unsupported operand type(s) for +: 'float' and 'datetime.datetime'",
     "output_type": "error",
     "traceback": [
      "\u001b[0;31m---------------------------------------------------------------------------\u001b[0m",
      "\u001b[0;31mTypeError\u001b[0m                                 Traceback (most recent call last)",
      "Cell \u001b[0;32mIn [9], line 7\u001b[0m\n\u001b[1;32m      1\u001b[0m \u001b[39m# apply the pearsonr()\u001b[39;00m\n\u001b[1;32m      2\u001b[0m \u001b[39m# CLS and time features\u001b[39;00m\n\u001b[1;32m      3\u001b[0m \u001b[39m# this analysis is missing \u001b[39;00m\n\u001b[1;32m      4\u001b[0m \u001b[39m# I can take a look at this\u001b[39;00m\n\u001b[1;32m      5\u001b[0m \u001b[39m# https://stackoverflow.com/questions/61517303/how-to-convert-datetime-to-numeric-format-in-python\u001b[39;00m\n\u001b[1;32m      6\u001b[0m \u001b[39m# so its possible to transform datetime into numeric\u001b[39;00m\n\u001b[0;32m----> 7\u001b[0m corr, _ \u001b[39m=\u001b[39m pearsonr(arr_CLS, arr_time_obs)\n\u001b[1;32m      8\u001b[0m \u001b[39mprint\u001b[39m(\u001b[39m'\u001b[39m\u001b[39mPearsons correlation: \u001b[39m\u001b[39m%.3f\u001b[39;00m\u001b[39m'\u001b[39m \u001b[39m%\u001b[39m corr)\n",
      "File \u001b[0;32m~/.pyenv/versions/3.8.12/envs/solar_forecasting/lib/python3.8/site-packages/scipy/stats/_stats_py.py:4435\u001b[0m, in \u001b[0;36mpearsonr\u001b[0;34m(x, y, alternative)\u001b[0m\n\u001b[1;32m   4430\u001b[0m     \u001b[39mreturn\u001b[39;00m result\n\u001b[1;32m   4432\u001b[0m \u001b[39m# dtype is the data type for the calculations.  This expression ensures\u001b[39;00m\n\u001b[1;32m   4433\u001b[0m \u001b[39m# that the data type is at least 64 bit floating point.  It might have\u001b[39;00m\n\u001b[1;32m   4434\u001b[0m \u001b[39m# more precision if the input is, for example, np.longdouble.\u001b[39;00m\n\u001b[0;32m-> 4435\u001b[0m dtype \u001b[39m=\u001b[39m \u001b[39mtype\u001b[39m(\u001b[39m1.0\u001b[39;49m \u001b[39m+\u001b[39;49m x[\u001b[39m0\u001b[39;49m] \u001b[39m+\u001b[39;49m y[\u001b[39m0\u001b[39;49m])\n\u001b[1;32m   4437\u001b[0m \u001b[39mif\u001b[39;00m n \u001b[39m==\u001b[39m \u001b[39m2\u001b[39m:\n\u001b[1;32m   4438\u001b[0m     r \u001b[39m=\u001b[39m dtype(np\u001b[39m.\u001b[39msign(x[\u001b[39m1\u001b[39m] \u001b[39m-\u001b[39m x[\u001b[39m0\u001b[39m])\u001b[39m*\u001b[39mnp\u001b[39m.\u001b[39msign(y[\u001b[39m1\u001b[39m] \u001b[39m-\u001b[39m y[\u001b[39m0\u001b[39m]))\n",
      "\u001b[0;31mTypeError\u001b[0m: unsupported operand type(s) for +: 'float' and 'datetime.datetime'"
     ]
    }
   ],
   "source": [
    "# apply the pearsonr()\n",
    "# CLS and time features\n",
    "# this analysis is missing \n",
    "# I can take a look at this\n",
    "# https://stackoverflow.com/questions/61517303/how-to-convert-datetime-to-numeric-format-in-python\n",
    "# so its possible to transform datetime into numeric\n",
    "corr, _ = pearsonr(arr_CLS, arr_time_obs)\n",
    "print('Pearsons correlation: %.3f' % corr)\n"
   ]
  },
  {
   "cell_type": "code",
   "execution_count": 10,
   "metadata": {},
   "outputs": [
    {
     "name": "stdout",
     "output_type": "stream",
     "text": [
      "Pearsons correlation: -1.000\n",
      "r takes value -1 (negative correlation)\n"
     ]
    }
   ],
   "source": [
    "# apply the pearsonr()\n",
    "# CLS and SAA features\n",
    "corr, _ = pearsonr(arr_CLS, arr_SAA)\n",
    "print('Pearsons correlation: %.3f' % corr)\n",
    "print('r takes value -1 (negative correlation)')"
   ]
  },
  {
   "cell_type": "code",
   "execution_count": 11,
   "metadata": {},
   "outputs": [
    {
     "name": "stdout",
     "output_type": "stream",
     "text": [
      "Pearsons correlation: 0.282\n",
      "Not that much correlation\n"
     ]
    }
   ],
   "source": [
    "# apply the pearsonr()\n",
    "# CLS and SZA features\n",
    "corr, _ = pearsonr(arr_CLS, arr_SZA)\n",
    "print('Pearsons correlation: %.3f' % corr)\n",
    "print('Not that much correlation')"
   ]
  },
  {
   "cell_type": "code",
   "execution_count": 13,
   "metadata": {},
   "outputs": [],
   "source": [
    "# set as x variable - predictor\n",
    "x = arr_SAA.reshape((-1, 1))\n",
    "# set as y variable - response \n",
    "y = arr_CLS"
   ]
  },
  {
   "cell_type": "code",
   "execution_count": 14,
   "metadata": {},
   "outputs": [
    {
     "data": {
      "text/html": [
       "<style>#sk-container-id-1 {color: black;background-color: white;}#sk-container-id-1 pre{padding: 0;}#sk-container-id-1 div.sk-toggleable {background-color: white;}#sk-container-id-1 label.sk-toggleable__label {cursor: pointer;display: block;width: 100%;margin-bottom: 0;padding: 0.3em;box-sizing: border-box;text-align: center;}#sk-container-id-1 label.sk-toggleable__label-arrow:before {content: \"▸\";float: left;margin-right: 0.25em;color: #696969;}#sk-container-id-1 label.sk-toggleable__label-arrow:hover:before {color: black;}#sk-container-id-1 div.sk-estimator:hover label.sk-toggleable__label-arrow:before {color: black;}#sk-container-id-1 div.sk-toggleable__content {max-height: 0;max-width: 0;overflow: hidden;text-align: left;background-color: #f0f8ff;}#sk-container-id-1 div.sk-toggleable__content pre {margin: 0.2em;color: black;border-radius: 0.25em;background-color: #f0f8ff;}#sk-container-id-1 input.sk-toggleable__control:checked~div.sk-toggleable__content {max-height: 200px;max-width: 100%;overflow: auto;}#sk-container-id-1 input.sk-toggleable__control:checked~label.sk-toggleable__label-arrow:before {content: \"▾\";}#sk-container-id-1 div.sk-estimator input.sk-toggleable__control:checked~label.sk-toggleable__label {background-color: #d4ebff;}#sk-container-id-1 div.sk-label input.sk-toggleable__control:checked~label.sk-toggleable__label {background-color: #d4ebff;}#sk-container-id-1 input.sk-hidden--visually {border: 0;clip: rect(1px 1px 1px 1px);clip: rect(1px, 1px, 1px, 1px);height: 1px;margin: -1px;overflow: hidden;padding: 0;position: absolute;width: 1px;}#sk-container-id-1 div.sk-estimator {font-family: monospace;background-color: #f0f8ff;border: 1px dotted black;border-radius: 0.25em;box-sizing: border-box;margin-bottom: 0.5em;}#sk-container-id-1 div.sk-estimator:hover {background-color: #d4ebff;}#sk-container-id-1 div.sk-parallel-item::after {content: \"\";width: 100%;border-bottom: 1px solid gray;flex-grow: 1;}#sk-container-id-1 div.sk-label:hover label.sk-toggleable__label {background-color: #d4ebff;}#sk-container-id-1 div.sk-serial::before {content: \"\";position: absolute;border-left: 1px solid gray;box-sizing: border-box;top: 0;bottom: 0;left: 50%;z-index: 0;}#sk-container-id-1 div.sk-serial {display: flex;flex-direction: column;align-items: center;background-color: white;padding-right: 0.2em;padding-left: 0.2em;position: relative;}#sk-container-id-1 div.sk-item {position: relative;z-index: 1;}#sk-container-id-1 div.sk-parallel {display: flex;align-items: stretch;justify-content: center;background-color: white;position: relative;}#sk-container-id-1 div.sk-item::before, #sk-container-id-1 div.sk-parallel-item::before {content: \"\";position: absolute;border-left: 1px solid gray;box-sizing: border-box;top: 0;bottom: 0;left: 50%;z-index: -1;}#sk-container-id-1 div.sk-parallel-item {display: flex;flex-direction: column;z-index: 1;position: relative;background-color: white;}#sk-container-id-1 div.sk-parallel-item:first-child::after {align-self: flex-end;width: 50%;}#sk-container-id-1 div.sk-parallel-item:last-child::after {align-self: flex-start;width: 50%;}#sk-container-id-1 div.sk-parallel-item:only-child::after {width: 0;}#sk-container-id-1 div.sk-dashed-wrapped {border: 1px dashed gray;margin: 0 0.4em 0.5em 0.4em;box-sizing: border-box;padding-bottom: 0.4em;background-color: white;}#sk-container-id-1 div.sk-label label {font-family: monospace;font-weight: bold;display: inline-block;line-height: 1.2em;}#sk-container-id-1 div.sk-label-container {text-align: center;}#sk-container-id-1 div.sk-container {/* jupyter's `normalize.less` sets `[hidden] { display: none; }` but bootstrap.min.css set `[hidden] { display: none !important; }` so we also need the `!important` here to be able to override the default hidden behavior on the sphinx rendered scikit-learn.org. See: https://github.com/scikit-learn/scikit-learn/issues/21755 */display: inline-block !important;position: relative;}#sk-container-id-1 div.sk-text-repr-fallback {display: none;}</style><div id=\"sk-container-id-1\" class=\"sk-top-container\"><div class=\"sk-text-repr-fallback\"><pre>LinearRegression()</pre><b>In a Jupyter environment, please rerun this cell to show the HTML representation or trust the notebook. <br />On GitHub, the HTML representation is unable to render, please try loading this page with nbviewer.org.</b></div><div class=\"sk-container\" hidden><div class=\"sk-item\"><div class=\"sk-estimator sk-toggleable\"><input class=\"sk-toggleable__control sk-hidden--visually\" id=\"sk-estimator-id-1\" type=\"checkbox\" checked><label for=\"sk-estimator-id-1\" class=\"sk-toggleable__label sk-toggleable__label-arrow\">LinearRegression</label><div class=\"sk-toggleable__content\"><pre>LinearRegression()</pre></div></div></div></div></div>"
      ],
      "text/plain": [
       "LinearRegression()"
      ]
     },
     "execution_count": 14,
     "metadata": {},
     "output_type": "execute_result"
    }
   ],
   "source": [
    "# creating an instance \n",
    "model = LinearRegression()\n",
    "# fitting the model \n",
    "model.fit(x, y)\n",
    "# could have used only: model = LinearRegression().fit(x, y)"
   ]
  },
  {
   "cell_type": "code",
   "execution_count": 16,
   "metadata": {},
   "outputs": [
    {
     "name": "stdout",
     "output_type": "stream",
     "text": [
      "coefficient of determination: 0.9997187604559593\n",
      "it seems that SAA will determine the GHI under clean sky\n"
     ]
    }
   ],
   "source": [
    "r_sq = model.score(x, y)\n",
    "print(f\"coefficient of determination: {r_sq}\")\n",
    "print('it seems that SAA will determine the GHI under clean sky')"
   ]
  },
  {
   "cell_type": "code",
   "execution_count": 17,
   "metadata": {},
   "outputs": [],
   "source": [
    "# now lets do the same for SZA\n",
    "# set as x variable - predictor\n",
    "x2 = arr_SZA.reshape((-1, 1))\n",
    "# set as y variable - response \n",
    "y2 = arr_CLS"
   ]
  },
  {
   "cell_type": "code",
   "execution_count": 18,
   "metadata": {},
   "outputs": [],
   "source": [
    "# instance and fitting\n",
    "model2 = LinearRegression().fit(x2, y2)"
   ]
  },
  {
   "cell_type": "code",
   "execution_count": 19,
   "metadata": {},
   "outputs": [
    {
     "name": "stdout",
     "output_type": "stream",
     "text": [
      "coefficient of determination: 0.07968160356161635\n",
      "it seems that SZA will NOT determine the GHI under clean sky\n"
     ]
    }
   ],
   "source": [
    "r_sq2 = model2.score(x2, y2)\n",
    "print(f\"coefficient of determination: {r_sq2}\")\n",
    "print('it seems that SZA will NOT determine the GHI under clean sky')\n",
    "# we can look at the solar elevation\n"
   ]
  },
  {
   "cell_type": "code",
   "execution_count": 20,
   "metadata": {},
   "outputs": [],
   "source": [
    "# defining solar elevation as per Federico definition \n",
    "def arr_sol_elevation(\n",
    "    feature = SZA, # SHOULD ALWAYS BE SOLAR ZENITH ANGLE\n",
    "    observation = 96): \n",
    "    arr_sol_elev_day = []\n",
    "    \n",
    "    # we're setting the num of obs in day\\n\",\n",
    "    observation_max = n_obs_in_day(observation)\n",
    "    \n",
    "    for j in range(observation_max):\n",
    "        for i in range(8):\n",
    "            arr_sol_elev_day.append(90-(round((feature[observation+j,i,:,:]).mean(),2)))   \n",
    "    arr_sol_elev_day = np.array(arr_sol_elev_day)\n",
    "    return arr_sol_elev_day "
   ]
  },
  {
   "cell_type": "code",
   "execution_count": 21,
   "metadata": {},
   "outputs": [],
   "source": [
    "# setting Solar Angle Elevation as SAE\n",
    "arr_SAE = arr_sol_elevation(feature = SZA, observation = 96)"
   ]
  },
  {
   "cell_type": "code",
   "execution_count": 27,
   "metadata": {},
   "outputs": [],
   "source": [
    "# Now lets set the 3rd model \n",
    "# set as x3 variable - predictor\n",
    "x3 = arr_SAE.reshape((-1, 1))\n",
    "# set as y3 variable - response \n",
    "y3 = arr_CLS"
   ]
  },
  {
   "cell_type": "code",
   "execution_count": 28,
   "metadata": {},
   "outputs": [],
   "source": [
    "# instance and fitting\n",
    "model3 = LinearRegression().fit(x3, y3)\n"
   ]
  },
  {
   "cell_type": "code",
   "execution_count": 29,
   "metadata": {},
   "outputs": [
    {
     "name": "stdout",
     "output_type": "stream",
     "text": [
      "coefficient of determination: 0.9913386821435878\n",
      "it seems that SAE will determine the GHI under clean sky\n"
     ]
    }
   ],
   "source": [
    "r_sq3 = model3.score(x3, y3)\n",
    "print(f\"coefficient of determination: {r_sq3}\")\n",
    "print('it seems that SAE will determine the GHI under clean sky')\n"
   ]
  },
  {
   "cell_type": "markdown",
   "metadata": {},
   "source": [
    "### Providing the same analysis on 24 of March"
   ]
  },
  {
   "cell_type": "code",
   "execution_count": 30,
   "metadata": {},
   "outputs": [],
   "source": [
    "# defining variables\n",
    "n_obs_in_day(observation = 536)\n",
    "# defining arrays \n",
    "arr_CLS = arr_feature(feature = CLS, observation = 536)\n",
    "arr_SAA = arr_feature(feature = SAA, observation = 536)\n",
    "arr_SZA = arr_feature(feature = SZA, observation = 536)\n",
    "arr_SAE = arr_sol_elevation(feature = SZA, observation = 536)\n"
   ]
  },
  {
   "cell_type": "code",
   "execution_count": 32,
   "metadata": {},
   "outputs": [],
   "source": [
    "# set as x variable - predictor\n",
    "x4 = arr_SAA.reshape((-1, 1))\n",
    "x5 = arr_SZA.reshape((-1, 1))\n",
    "x6 = arr_SAE.reshape((-1, 1))\n",
    "# set as y variable - response \n",
    "y4 = arr_CLS\n",
    "\n",
    "# instance and fitting\n",
    "model4 = LinearRegression().fit(x4, y4)\n",
    "model5 = LinearRegression().fit(x5, y4)\n",
    "model6 = LinearRegression().fit(x6, y4)\n"
   ]
  },
  {
   "cell_type": "code",
   "execution_count": 33,
   "metadata": {},
   "outputs": [
    {
     "name": "stdout",
     "output_type": "stream",
     "text": [
      "coefficient of determination: 0.9913386821435878\n",
      "it seems that SAA will determine the GHI under clean sky\n"
     ]
    }
   ],
   "source": [
    "r_sq4 = model4.score(x4, y4)\n",
    "print(f\"coefficient of determination: {r_sq4}\")\n",
    "print('it seems that SAA will determine the GHI under clean sky')"
   ]
  },
  {
   "cell_type": "code",
   "execution_count": 34,
   "metadata": {},
   "outputs": [
    {
     "name": "stdout",
     "output_type": "stream",
     "text": [
      "coefficient of determination: 0.0027612355508339625\n",
      "it seems that SZA will NOT determine the GHI under clean sky\n"
     ]
    }
   ],
   "source": [
    "r_sq5 = model5.score(x5, y4)\n",
    "print(f\"coefficient of determination: {r_sq5}\")\n",
    "print('it seems that SZA will NOT determine the GHI under clean sky')"
   ]
  },
  {
   "cell_type": "code",
   "execution_count": 35,
   "metadata": {},
   "outputs": [
    {
     "name": "stdout",
     "output_type": "stream",
     "text": [
      "coefficient of determination: 0.0027612355508338515\n",
      "it seems that SAE will NOT determine the GHI under clean sky\n"
     ]
    }
   ],
   "source": [
    "r_sq6 = model6.score(x6, y4)\n",
    "print(f\"coefficient of determination: {r_sq6}\")\n",
    "print('it seems that SAE will NOT determine the GHI under clean sky')"
   ]
  },
  {
   "cell_type": "markdown",
   "metadata": {},
   "source": [
    "## Conclusion"
   ]
  },
  {
   "cell_type": "markdown",
   "metadata": {},
   "source": [
    "### Solar Azimuth Angle seems to be highly correlated with GHI under clean sky \n",
    "### Solar Zenith Angles DOES NOT seem"
   ]
  },
  {
   "cell_type": "markdown",
   "metadata": {},
   "source": []
  }
 ],
 "metadata": {
  "kernelspec": {
   "display_name": "Python 3.8.12 64-bit ('shims': pyenv)",
   "language": "python",
   "name": "python3"
  },
  "language_info": {
   "codemirror_mode": {
    "name": "ipython",
    "version": 3
   },
   "file_extension": ".py",
   "mimetype": "text/x-python",
   "name": "python",
   "nbconvert_exporter": "python",
   "pygments_lexer": "ipython3",
   "version": "3.8.12"
  },
  "orig_nbformat": 4,
  "vscode": {
   "interpreter": {
    "hash": "6653d273184981c140d771233ce6a720f2b31c99553723fe4df4def0c00fa3de"
   }
  }
 },
 "nbformat": 4,
 "nbformat_minor": 2
}
