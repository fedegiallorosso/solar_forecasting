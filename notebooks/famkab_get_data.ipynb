{
 "cells": [
  {
   "cell_type": "code",
   "execution_count": 1,
   "id": "2410d04c",
   "metadata": {},
   "outputs": [
    {
     "name": "stdout",
     "output_type": "stream",
     "text": [
      "Requirement already satisfied: google-cloud-storage in /Users/emilioaguiar/.pyenv/versions/3.8.12/envs/solar_forecasting/lib/python3.8/site-packages (2.6.0)\n",
      "Requirement already satisfied: google-cloud-core<3.0dev,>=2.3.0 in /Users/emilioaguiar/.pyenv/versions/3.8.12/envs/solar_forecasting/lib/python3.8/site-packages (from google-cloud-storage) (2.3.2)\n",
      "Requirement already satisfied: google-resumable-media>=2.3.2 in /Users/emilioaguiar/.pyenv/versions/3.8.12/envs/solar_forecasting/lib/python3.8/site-packages (from google-cloud-storage) (2.4.0)\n",
      "Requirement already satisfied: google-api-core!=2.0.*,!=2.1.*,!=2.2.*,!=2.3.0,<3.0.0dev,>=1.31.5 in /Users/emilioaguiar/.pyenv/versions/3.8.12/envs/solar_forecasting/lib/python3.8/site-packages (from google-cloud-storage) (2.10.2)\n",
      "Requirement already satisfied: google-auth<3.0dev,>=1.25.0 in /Users/emilioaguiar/.pyenv/versions/3.8.12/envs/solar_forecasting/lib/python3.8/site-packages (from google-cloud-storage) (2.14.1)\n",
      "Requirement already satisfied: requests<3.0.0dev,>=2.18.0 in /Users/emilioaguiar/.pyenv/versions/3.8.12/envs/solar_forecasting/lib/python3.8/site-packages (from google-cloud-storage) (2.28.1)\n",
      "Requirement already satisfied: googleapis-common-protos<2.0dev,>=1.56.2 in /Users/emilioaguiar/.pyenv/versions/3.8.12/envs/solar_forecasting/lib/python3.8/site-packages (from google-api-core!=2.0.*,!=2.1.*,!=2.2.*,!=2.3.0,<3.0.0dev,>=1.31.5->google-cloud-storage) (1.57.0)\n",
      "Requirement already satisfied: protobuf!=3.20.0,!=3.20.1,!=4.21.0,!=4.21.1,!=4.21.2,!=4.21.3,!=4.21.4,!=4.21.5,<5.0.0dev,>=3.19.5 in /Users/emilioaguiar/.pyenv/versions/3.8.12/envs/solar_forecasting/lib/python3.8/site-packages (from google-api-core!=2.0.*,!=2.1.*,!=2.2.*,!=2.3.0,<3.0.0dev,>=1.31.5->google-cloud-storage) (3.20.3)\n",
      "Requirement already satisfied: rsa<5,>=3.1.4 in /Users/emilioaguiar/.pyenv/versions/3.8.12/envs/solar_forecasting/lib/python3.8/site-packages (from google-auth<3.0dev,>=1.25.0->google-cloud-storage) (4.9)\n",
      "Requirement already satisfied: pyasn1-modules>=0.2.1 in /Users/emilioaguiar/.pyenv/versions/3.8.12/envs/solar_forecasting/lib/python3.8/site-packages (from google-auth<3.0dev,>=1.25.0->google-cloud-storage) (0.2.8)\n",
      "Requirement already satisfied: cachetools<6.0,>=2.0.0 in /Users/emilioaguiar/.pyenv/versions/3.8.12/envs/solar_forecasting/lib/python3.8/site-packages (from google-auth<3.0dev,>=1.25.0->google-cloud-storage) (5.2.0)\n",
      "Requirement already satisfied: six>=1.9.0 in /Users/emilioaguiar/.pyenv/versions/3.8.12/envs/solar_forecasting/lib/python3.8/site-packages (from google-auth<3.0dev,>=1.25.0->google-cloud-storage) (1.16.0)\n",
      "Requirement already satisfied: google-crc32c<2.0dev,>=1.0 in /Users/emilioaguiar/.pyenv/versions/3.8.12/envs/solar_forecasting/lib/python3.8/site-packages (from google-resumable-media>=2.3.2->google-cloud-storage) (1.5.0)\n",
      "Requirement already satisfied: idna<4,>=2.5 in /Users/emilioaguiar/.pyenv/versions/3.8.12/envs/solar_forecasting/lib/python3.8/site-packages (from requests<3.0.0dev,>=2.18.0->google-cloud-storage) (3.4)\n",
      "Requirement already satisfied: urllib3<1.27,>=1.21.1 in /Users/emilioaguiar/.pyenv/versions/3.8.12/envs/solar_forecasting/lib/python3.8/site-packages (from requests<3.0.0dev,>=2.18.0->google-cloud-storage) (1.26.12)\n",
      "Requirement already satisfied: charset-normalizer<3,>=2 in /Users/emilioaguiar/.pyenv/versions/3.8.12/envs/solar_forecasting/lib/python3.8/site-packages (from requests<3.0.0dev,>=2.18.0->google-cloud-storage) (2.1.1)\n",
      "Requirement already satisfied: certifi>=2017.4.17 in /Users/emilioaguiar/.pyenv/versions/3.8.12/envs/solar_forecasting/lib/python3.8/site-packages (from requests<3.0.0dev,>=2.18.0->google-cloud-storage) (2022.9.24)\n",
      "Requirement already satisfied: pyasn1<0.5.0,>=0.4.6 in /Users/emilioaguiar/.pyenv/versions/3.8.12/envs/solar_forecasting/lib/python3.8/site-packages (from pyasn1-modules>=0.2.1->google-auth<3.0dev,>=1.25.0->google-cloud-storage) (0.4.8)\n"
     ]
    }
   ],
   "source": [
    "! pip install google-cloud-storage"
   ]
  },
  {
   "cell_type": "code",
   "execution_count": 3,
   "id": "f01ffa1e",
   "metadata": {},
   "outputs": [],
   "source": [
    "from google.cloud import storage"
   ]
  },
  {
   "cell_type": "code",
   "execution_count": 8,
   "id": "1fd3de4a",
   "metadata": {},
   "outputs": [
    {
     "name": "stdout",
     "output_type": "stream",
     "text": [
      "/Users/emilioaguiar/code/fedegiallorosso/solar_forecasting/notebooks\n"
     ]
    }
   ],
   "source": [
    "! pwd"
   ]
  },
  {
   "cell_type": "code",
   "execution_count": 7,
   "id": "8c7a3a38",
   "metadata": {},
   "outputs": [],
   "source": [
    "from google.cloud import storage\n",
    "\n",
    "def download_file(bucket_name = 'train_data_solar_project',\n",
    "                              blob_name = 'X_train_copernicus.npz', \n",
    "                              download_to_disk = False, \n",
    "                              destination_file_name = '../raw_data/data.npz'):\n",
    "    \n",
    "    \"\"\"Download a file from Google Cloud Storage. \n",
    "    If download_to_disk = False then it will save to memory.  \n",
    "    If download_to_disk = True then it will save to your local disk.\n",
    "    \"\"\"\n",
    "    \n",
    "    storage_client = storage.Client()\n",
    "\n",
    "    bucket = storage_client.bucket(bucket_name)\n",
    "\n",
    "    blob = bucket.blob(blob_name)\n",
    "    \n",
    "    if download_to_disk == True:\n",
    "        \n",
    "        blob.download_to_filename(destination_file_name)\n",
    "        print(\n",
    "            \"Downloaded storage object {} from bucket {} to local file {}.\".format(\n",
    "            blob_name, bucket_name, destination_file_name\n",
    "        )\n",
    "    )\n",
    "\n",
    "    if download_to_disk == False:\n",
    "\n",
    "        contents = blob.download_as_string()\n",
    "\n",
    "        print(\"Downloaded storage object {} from bucket {} as the following string: {}.\".format(\n",
    "            blob_name, bucket_name, contents\n",
    "        )\n",
    "    )\n",
    "        \n",
    "    return None"
   ]
  },
  {
   "cell_type": "code",
   "execution_count": 8,
   "id": "f2ea7e57",
   "metadata": {},
   "outputs": [
    {
     "ename": "RefreshError",
     "evalue": "('invalid_grant: Invalid grant: account not found', {'error': 'invalid_grant', 'error_description': 'Invalid grant: account not found'})",
     "output_type": "error",
     "traceback": [
      "\u001b[0;31m---------------------------------------------------------------------------\u001b[0m",
      "\u001b[0;31mRefreshError\u001b[0m                              Traceback (most recent call last)",
      "Cell \u001b[0;32mIn [8], line 1\u001b[0m\n\u001b[0;32m----> 1\u001b[0m download_file(blob_name\u001b[39m=\u001b[39;49m\u001b[39m'\u001b[39;49m\u001b[39mhouses_clean.csv\u001b[39;49m\u001b[39m'\u001b[39;49m, download_to_disk \u001b[39m=\u001b[39;49m \u001b[39mTrue\u001b[39;49;00m)\n",
      "Cell \u001b[0;32mIn [7], line 21\u001b[0m, in \u001b[0;36mdownload_file\u001b[0;34m(bucket_name, blob_name, download_to_disk, destination_file_name)\u001b[0m\n\u001b[1;32m     17\u001b[0m blob \u001b[39m=\u001b[39m bucket\u001b[39m.\u001b[39mblob(blob_name)\n\u001b[1;32m     19\u001b[0m \u001b[39mif\u001b[39;00m download_to_disk \u001b[39m==\u001b[39m \u001b[39mTrue\u001b[39;00m:\n\u001b[0;32m---> 21\u001b[0m     blob\u001b[39m.\u001b[39;49mdownload_to_filename(destination_file_name)\n\u001b[1;32m     22\u001b[0m     \u001b[39mprint\u001b[39m(\n\u001b[1;32m     23\u001b[0m         \u001b[39m\"\u001b[39m\u001b[39mDownloaded storage object \u001b[39m\u001b[39m{}\u001b[39;00m\u001b[39m from bucket \u001b[39m\u001b[39m{}\u001b[39;00m\u001b[39m to local file \u001b[39m\u001b[39m{}\u001b[39;00m\u001b[39m.\u001b[39m\u001b[39m\"\u001b[39m\u001b[39m.\u001b[39mformat(\n\u001b[1;32m     24\u001b[0m         blob_name, bucket_name, destination_file_name\n\u001b[1;32m     25\u001b[0m     )\n\u001b[1;32m     26\u001b[0m )\n\u001b[1;32m     28\u001b[0m \u001b[39mif\u001b[39;00m download_to_disk \u001b[39m==\u001b[39m \u001b[39mFalse\u001b[39;00m:\n",
      "File \u001b[0;32m~/.pyenv/versions/3.8.12/envs/solar_forecasting/lib/python3.8/site-packages/google/cloud/storage/blob.py:1256\u001b[0m, in \u001b[0;36mBlob.download_to_filename\u001b[0;34m(self, filename, client, start, end, raw_download, if_etag_match, if_etag_not_match, if_generation_match, if_generation_not_match, if_metageneration_match, if_metageneration_not_match, timeout, checksum, retry)\u001b[0m\n\u001b[1;32m   1254\u001b[0m \u001b[39mtry\u001b[39;00m:\n\u001b[1;32m   1255\u001b[0m     \u001b[39mwith\u001b[39;00m \u001b[39mopen\u001b[39m(filename, \u001b[39m\"\u001b[39m\u001b[39mwb\u001b[39m\u001b[39m\"\u001b[39m) \u001b[39mas\u001b[39;00m file_obj:\n\u001b[0;32m-> 1256\u001b[0m         client\u001b[39m.\u001b[39;49mdownload_blob_to_file(\n\u001b[1;32m   1257\u001b[0m             \u001b[39mself\u001b[39;49m,\n\u001b[1;32m   1258\u001b[0m             file_obj,\n\u001b[1;32m   1259\u001b[0m             start\u001b[39m=\u001b[39;49mstart,\n\u001b[1;32m   1260\u001b[0m             end\u001b[39m=\u001b[39;49mend,\n\u001b[1;32m   1261\u001b[0m             raw_download\u001b[39m=\u001b[39;49mraw_download,\n\u001b[1;32m   1262\u001b[0m             if_etag_match\u001b[39m=\u001b[39;49mif_etag_match,\n\u001b[1;32m   1263\u001b[0m             if_etag_not_match\u001b[39m=\u001b[39;49mif_etag_not_match,\n\u001b[1;32m   1264\u001b[0m             if_generation_match\u001b[39m=\u001b[39;49mif_generation_match,\n\u001b[1;32m   1265\u001b[0m             if_generation_not_match\u001b[39m=\u001b[39;49mif_generation_not_match,\n\u001b[1;32m   1266\u001b[0m             if_metageneration_match\u001b[39m=\u001b[39;49mif_metageneration_match,\n\u001b[1;32m   1267\u001b[0m             if_metageneration_not_match\u001b[39m=\u001b[39;49mif_metageneration_not_match,\n\u001b[1;32m   1268\u001b[0m             timeout\u001b[39m=\u001b[39;49mtimeout,\n\u001b[1;32m   1269\u001b[0m             checksum\u001b[39m=\u001b[39;49mchecksum,\n\u001b[1;32m   1270\u001b[0m             retry\u001b[39m=\u001b[39;49mretry,\n\u001b[1;32m   1271\u001b[0m         )\n\u001b[1;32m   1272\u001b[0m \u001b[39mexcept\u001b[39;00m resumable_media\u001b[39m.\u001b[39mDataCorruption:\n\u001b[1;32m   1273\u001b[0m     \u001b[39m# Delete the corrupt downloaded file.\u001b[39;00m\n\u001b[1;32m   1274\u001b[0m     os\u001b[39m.\u001b[39mremove(filename)\n",
      "File \u001b[0;32m~/.pyenv/versions/3.8.12/envs/solar_forecasting/lib/python3.8/site-packages/google/cloud/storage/client.py:1079\u001b[0m, in \u001b[0;36mClient.download_blob_to_file\u001b[0;34m(self, blob_or_uri, file_obj, start, end, raw_download, if_etag_match, if_etag_not_match, if_generation_match, if_generation_not_match, if_metageneration_match, if_metageneration_not_match, timeout, checksum, retry)\u001b[0m\n\u001b[1;32m   1077\u001b[0m transport \u001b[39m=\u001b[39m \u001b[39mself\u001b[39m\u001b[39m.\u001b[39m_http\n\u001b[1;32m   1078\u001b[0m \u001b[39mtry\u001b[39;00m:\n\u001b[0;32m-> 1079\u001b[0m     blob_or_uri\u001b[39m.\u001b[39;49m_do_download(\n\u001b[1;32m   1080\u001b[0m         transport,\n\u001b[1;32m   1081\u001b[0m         file_obj,\n\u001b[1;32m   1082\u001b[0m         download_url,\n\u001b[1;32m   1083\u001b[0m         headers,\n\u001b[1;32m   1084\u001b[0m         start,\n\u001b[1;32m   1085\u001b[0m         end,\n\u001b[1;32m   1086\u001b[0m         raw_download,\n\u001b[1;32m   1087\u001b[0m         timeout\u001b[39m=\u001b[39;49mtimeout,\n\u001b[1;32m   1088\u001b[0m         checksum\u001b[39m=\u001b[39;49mchecksum,\n\u001b[1;32m   1089\u001b[0m         retry\u001b[39m=\u001b[39;49mretry,\n\u001b[1;32m   1090\u001b[0m     )\n\u001b[1;32m   1091\u001b[0m \u001b[39mexcept\u001b[39;00m resumable_media\u001b[39m.\u001b[39mInvalidResponse \u001b[39mas\u001b[39;00m exc:\n\u001b[1;32m   1092\u001b[0m     _raise_from_invalid_response(exc)\n",
      "File \u001b[0;32m~/.pyenv/versions/3.8.12/envs/solar_forecasting/lib/python3.8/site-packages/google/cloud/storage/blob.py:984\u001b[0m, in \u001b[0;36mBlob._do_download\u001b[0;34m(self, transport, file_obj, download_url, headers, start, end, raw_download, timeout, checksum, retry)\u001b[0m\n\u001b[1;32m    975\u001b[0m     download \u001b[39m=\u001b[39m klass(\n\u001b[1;32m    976\u001b[0m         download_url,\n\u001b[1;32m    977\u001b[0m         stream\u001b[39m=\u001b[39mfile_obj,\n\u001b[0;32m   (...)\u001b[0m\n\u001b[1;32m    981\u001b[0m         checksum\u001b[39m=\u001b[39mchecksum,\n\u001b[1;32m    982\u001b[0m     )\n\u001b[1;32m    983\u001b[0m     download\u001b[39m.\u001b[39m_retry_strategy \u001b[39m=\u001b[39m retry_strategy\n\u001b[0;32m--> 984\u001b[0m     response \u001b[39m=\u001b[39m download\u001b[39m.\u001b[39;49mconsume(transport, timeout\u001b[39m=\u001b[39;49mtimeout)\n\u001b[1;32m    985\u001b[0m     \u001b[39mself\u001b[39m\u001b[39m.\u001b[39m_extract_headers_from_download(response)\n\u001b[1;32m    986\u001b[0m \u001b[39melse\u001b[39;00m:\n",
      "File \u001b[0;32m~/.pyenv/versions/3.8.12/envs/solar_forecasting/lib/python3.8/site-packages/google/resumable_media/requests/download.py:232\u001b[0m, in \u001b[0;36mDownload.consume\u001b[0;34m(self, transport, timeout)\u001b[0m\n\u001b[1;32m    228\u001b[0m         \u001b[39mself\u001b[39m\u001b[39m.\u001b[39m_write_to_stream(result)\n\u001b[1;32m    230\u001b[0m     \u001b[39mreturn\u001b[39;00m result\n\u001b[0;32m--> 232\u001b[0m \u001b[39mreturn\u001b[39;00m _request_helpers\u001b[39m.\u001b[39;49mwait_and_retry(\n\u001b[1;32m    233\u001b[0m     retriable_request, \u001b[39mself\u001b[39;49m\u001b[39m.\u001b[39;49m_get_status_code, \u001b[39mself\u001b[39;49m\u001b[39m.\u001b[39;49m_retry_strategy\n\u001b[1;32m    234\u001b[0m )\n",
      "File \u001b[0;32m~/.pyenv/versions/3.8.12/envs/solar_forecasting/lib/python3.8/site-packages/google/resumable_media/requests/_request_helpers.py:148\u001b[0m, in \u001b[0;36mwait_and_retry\u001b[0;34m(func, get_status_code, retry_strategy)\u001b[0m\n\u001b[1;32m    146\u001b[0m error \u001b[39m=\u001b[39m \u001b[39mNone\u001b[39;00m\n\u001b[1;32m    147\u001b[0m \u001b[39mtry\u001b[39;00m:\n\u001b[0;32m--> 148\u001b[0m     response \u001b[39m=\u001b[39m func()\n\u001b[1;32m    149\u001b[0m \u001b[39mexcept\u001b[39;00m _CONNECTION_ERROR_CLASSES \u001b[39mas\u001b[39;00m e:\n\u001b[1;32m    150\u001b[0m     error \u001b[39m=\u001b[39m e  \u001b[39m# Fall through to retry, if there are retries left.\u001b[39;00m\n",
      "File \u001b[0;32m~/.pyenv/versions/3.8.12/envs/solar_forecasting/lib/python3.8/site-packages/google/resumable_media/requests/download.py:205\u001b[0m, in \u001b[0;36mDownload.consume.<locals>.retriable_request\u001b[0;34m()\u001b[0m\n\u001b[1;32m    202\u001b[0m         query_param \u001b[39m=\u001b[39m {\u001b[39m\"\u001b[39m\u001b[39mgeneration\u001b[39m\u001b[39m\"\u001b[39m: \u001b[39mself\u001b[39m\u001b[39m.\u001b[39m_object_generation}\n\u001b[1;32m    203\u001b[0m         url \u001b[39m=\u001b[39m _helpers\u001b[39m.\u001b[39madd_query_parameters(\u001b[39mself\u001b[39m\u001b[39m.\u001b[39mmedia_url, query_param)\n\u001b[0;32m--> 205\u001b[0m result \u001b[39m=\u001b[39m transport\u001b[39m.\u001b[39;49mrequest(method, url, \u001b[39m*\u001b[39;49m\u001b[39m*\u001b[39;49mrequest_kwargs)\n\u001b[1;32m    207\u001b[0m \u001b[39m# If a generation hasn't been specified, and this is the first response we get, let's record the\u001b[39;00m\n\u001b[1;32m    208\u001b[0m \u001b[39m# generation. In future requests we'll specify the generation query param to avoid data races.\u001b[39;00m\n\u001b[1;32m    209\u001b[0m \u001b[39mif\u001b[39;00m \u001b[39mself\u001b[39m\u001b[39m.\u001b[39m_object_generation \u001b[39mis\u001b[39;00m \u001b[39mNone\u001b[39;00m:\n",
      "File \u001b[0;32m~/.pyenv/versions/3.8.12/envs/solar_forecasting/lib/python3.8/site-packages/google/auth/transport/requests.py:545\u001b[0m, in \u001b[0;36mAuthorizedSession.request\u001b[0;34m(self, method, url, data, headers, max_allowed_time, timeout, **kwargs)\u001b[0m\n\u001b[1;32m    542\u001b[0m remaining_time \u001b[39m=\u001b[39m max_allowed_time\n\u001b[1;32m    544\u001b[0m \u001b[39mwith\u001b[39;00m TimeoutGuard(remaining_time) \u001b[39mas\u001b[39;00m guard:\n\u001b[0;32m--> 545\u001b[0m     \u001b[39mself\u001b[39;49m\u001b[39m.\u001b[39;49mcredentials\u001b[39m.\u001b[39;49mbefore_request(auth_request, method, url, request_headers)\n\u001b[1;32m    546\u001b[0m remaining_time \u001b[39m=\u001b[39m guard\u001b[39m.\u001b[39mremaining_timeout\n\u001b[1;32m    548\u001b[0m \u001b[39mwith\u001b[39;00m TimeoutGuard(remaining_time) \u001b[39mas\u001b[39;00m guard:\n",
      "File \u001b[0;32m~/.pyenv/versions/3.8.12/envs/solar_forecasting/lib/python3.8/site-packages/google/auth/credentials.py:134\u001b[0m, in \u001b[0;36mCredentials.before_request\u001b[0;34m(self, request, method, url, headers)\u001b[0m\n\u001b[1;32m    130\u001b[0m \u001b[39m# pylint: disable=unused-argument\u001b[39;00m\n\u001b[1;32m    131\u001b[0m \u001b[39m# (Subclasses may use these arguments to ascertain information about\u001b[39;00m\n\u001b[1;32m    132\u001b[0m \u001b[39m# the http request.)\u001b[39;00m\n\u001b[1;32m    133\u001b[0m \u001b[39mif\u001b[39;00m \u001b[39mnot\u001b[39;00m \u001b[39mself\u001b[39m\u001b[39m.\u001b[39mvalid:\n\u001b[0;32m--> 134\u001b[0m     \u001b[39mself\u001b[39;49m\u001b[39m.\u001b[39;49mrefresh(request)\n\u001b[1;32m    135\u001b[0m \u001b[39mself\u001b[39m\u001b[39m.\u001b[39mapply(headers)\n",
      "File \u001b[0;32m~/.pyenv/versions/3.8.12/envs/solar_forecasting/lib/python3.8/site-packages/google/oauth2/service_account.py:429\u001b[0m, in \u001b[0;36mCredentials.refresh\u001b[0;34m(self, request)\u001b[0m\n\u001b[1;32m    427\u001b[0m \u001b[39melse\u001b[39;00m:\n\u001b[1;32m    428\u001b[0m     assertion \u001b[39m=\u001b[39m \u001b[39mself\u001b[39m\u001b[39m.\u001b[39m_make_authorization_grant_assertion()\n\u001b[0;32m--> 429\u001b[0m     access_token, expiry, _ \u001b[39m=\u001b[39m _client\u001b[39m.\u001b[39;49mjwt_grant(\n\u001b[1;32m    430\u001b[0m         request, \u001b[39mself\u001b[39;49m\u001b[39m.\u001b[39;49m_token_uri, assertion\n\u001b[1;32m    431\u001b[0m     )\n\u001b[1;32m    432\u001b[0m     \u001b[39mself\u001b[39m\u001b[39m.\u001b[39mtoken \u001b[39m=\u001b[39m access_token\n\u001b[1;32m    433\u001b[0m     \u001b[39mself\u001b[39m\u001b[39m.\u001b[39mexpiry \u001b[39m=\u001b[39m expiry\n",
      "File \u001b[0;32m~/.pyenv/versions/3.8.12/envs/solar_forecasting/lib/python3.8/site-packages/google/oauth2/_client.py:289\u001b[0m, in \u001b[0;36mjwt_grant\u001b[0;34m(request, token_uri, assertion, can_retry)\u001b[0m\n\u001b[1;32m    265\u001b[0m \u001b[39m\"\"\"Implements the JWT Profile for OAuth 2.0 Authorization Grants.\u001b[39;00m\n\u001b[1;32m    266\u001b[0m \n\u001b[1;32m    267\u001b[0m \u001b[39mFor more details, see `rfc7523 section 4`_.\u001b[39;00m\n\u001b[0;32m   (...)\u001b[0m\n\u001b[1;32m    285\u001b[0m \u001b[39m.. _rfc7523 section 4: https://tools.ietf.org/html/rfc7523#section-4\u001b[39;00m\n\u001b[1;32m    286\u001b[0m \u001b[39m\"\"\"\u001b[39;00m\n\u001b[1;32m    287\u001b[0m body \u001b[39m=\u001b[39m {\u001b[39m\"\u001b[39m\u001b[39massertion\u001b[39m\u001b[39m\"\u001b[39m: assertion, \u001b[39m\"\u001b[39m\u001b[39mgrant_type\u001b[39m\u001b[39m\"\u001b[39m: _JWT_GRANT_TYPE}\n\u001b[0;32m--> 289\u001b[0m response_data \u001b[39m=\u001b[39m _token_endpoint_request(\n\u001b[1;32m    290\u001b[0m     request, token_uri, body, can_retry\u001b[39m=\u001b[39;49mcan_retry\n\u001b[1;32m    291\u001b[0m )\n\u001b[1;32m    293\u001b[0m \u001b[39mtry\u001b[39;00m:\n\u001b[1;32m    294\u001b[0m     access_token \u001b[39m=\u001b[39m response_data[\u001b[39m\"\u001b[39m\u001b[39maccess_token\u001b[39m\u001b[39m\"\u001b[39m]\n",
      "File \u001b[0;32m~/.pyenv/versions/3.8.12/envs/solar_forecasting/lib/python3.8/site-packages/google/oauth2/_client.py:260\u001b[0m, in \u001b[0;36m_token_endpoint_request\u001b[0;34m(request, token_uri, body, access_token, use_json, can_retry, **kwargs)\u001b[0m\n\u001b[1;32m    250\u001b[0m response_status_ok, response_data, retryable_error \u001b[39m=\u001b[39m _token_endpoint_request_no_throw(\n\u001b[1;32m    251\u001b[0m     request,\n\u001b[1;32m    252\u001b[0m     token_uri,\n\u001b[0;32m   (...)\u001b[0m\n\u001b[1;32m    257\u001b[0m     \u001b[39m*\u001b[39m\u001b[39m*\u001b[39mkwargs\n\u001b[1;32m    258\u001b[0m )\n\u001b[1;32m    259\u001b[0m \u001b[39mif\u001b[39;00m \u001b[39mnot\u001b[39;00m response_status_ok:\n\u001b[0;32m--> 260\u001b[0m     _handle_error_response(response_data, retryable_error)\n\u001b[1;32m    261\u001b[0m \u001b[39mreturn\u001b[39;00m response_data\n",
      "File \u001b[0;32m~/.pyenv/versions/3.8.12/envs/solar_forecasting/lib/python3.8/site-packages/google/oauth2/_client.py:69\u001b[0m, in \u001b[0;36m_handle_error_response\u001b[0;34m(response_data, retryable_error)\u001b[0m\n\u001b[1;32m     66\u001b[0m \u001b[39mexcept\u001b[39;00m (\u001b[39mKeyError\u001b[39;00m, \u001b[39mValueError\u001b[39;00m):\n\u001b[1;32m     67\u001b[0m     error_details \u001b[39m=\u001b[39m json\u001b[39m.\u001b[39mdumps(response_data)\n\u001b[0;32m---> 69\u001b[0m \u001b[39mraise\u001b[39;00m exceptions\u001b[39m.\u001b[39mRefreshError(\n\u001b[1;32m     70\u001b[0m     error_details, response_data, retryable\u001b[39m=\u001b[39mretryable_error\n\u001b[1;32m     71\u001b[0m )\n",
      "\u001b[0;31mRefreshError\u001b[0m: ('invalid_grant: Invalid grant: account not found', {'error': 'invalid_grant', 'error_description': 'Invalid grant: account not found'})"
     ]
    }
   ],
   "source": [
    "download_file(blob_name='houses_clean.csv', download_to_disk = True)"
   ]
  },
  {
   "cell_type": "code",
   "execution_count": null,
   "id": "5583f3f6",
   "metadata": {},
   "outputs": [],
   "source": []
  },
  {
   "cell_type": "code",
   "execution_count": null,
   "id": "262a8c37",
   "metadata": {},
   "outputs": [],
   "source": []
  }
 ],
 "metadata": {
  "kernelspec": {
   "display_name": "Python 3.8.12 64-bit ('solar_forecasting')",
   "language": "python",
   "name": "python3"
  },
  "language_info": {
   "codemirror_mode": {
    "name": "ipython",
    "version": 3
   },
   "file_extension": ".py",
   "mimetype": "text/x-python",
   "name": "python",
   "nbconvert_exporter": "python",
   "pygments_lexer": "ipython3",
   "version": "3.8.12"
  },
  "toc": {
   "base_numbering": 1,
   "nav_menu": {},
   "number_sections": true,
   "sideBar": true,
   "skip_h1_title": false,
   "title_cell": "Table of Contents",
   "title_sidebar": "Contents",
   "toc_cell": false,
   "toc_position": {},
   "toc_section_display": true,
   "toc_window_display": false
  },
  "vscode": {
   "interpreter": {

   }
  }
 },
 "nbformat": 4,
 "nbformat_minor": 5
}
