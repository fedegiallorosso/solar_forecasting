{
 "cells": [
  {
   "cell_type": "code",
   "execution_count": 5,
   "id": "8c7a3a38",
   "metadata": {},
   "outputs": [],
   "source": [
    "from google.cloud import storage\n",
    "\n",
    "def download_file(bucket_name = 'train_data_solar_project',\n",
    "                              blob_name = 'X_train_copernicus.npz', \n",
    "                              download_to_disk = False, \n",
    "                              destination_file_name = '../raw_data/data.npz'):\n",
    "    \n",
    "    \"\"\"Download a file from Google Cloud Storage. \n",
    "    If download_to_disk = False then it will save to memory.  \n",
    "    If download_to_disk = True then it will save to your local disk.\n",
    "    \"\"\"\n",
    "    \n",
    "    storage_client = storage.Client()\n",
    "\n",
    "    bucket = storage_client.bucket(bucket_name)\n",
    "\n",
    "    blob = bucket.blob(blob_name)\n",
    "    \n",
    "    if download_to_disk == True:\n",
    "        \n",
    "        blob.download_to_filename(destination_file_name)\n",
    "        print(\n",
    "            \"Downloaded storage object {} from bucket {} to local file {}.\".format(\n",
    "            blob_name, bucket_name, destination_file_name\n",
    "        )\n",
    "    )\n",
    "\n",
    "    if download_to_disk == False:\n",
    "\n",
    "        contents = blob.download_as_string()\n",
    "\n",
    "        print(\"Downloaded storage object {} from bucket {} as the following string: {}.\".format(\n",
    "            blob_name, bucket_name, contents\n",
    "        )\n",
    "    )\n",
    "        \n",
    "    return "
   ]
  },
  {
   "cell_type": "code",
   "execution_count": 6,
   "id": "f2ea7e57",
   "metadata": {},
   "outputs": [
    {
     "name": "stdout",
     "output_type": "stream",
     "text": [
      "Downloaded storage object houses_clean.csv from bucket train_data_solar_project to local file ../raw_data/data.npz.\n"
     ]
    }
   ],
   "source": [
    "download_file(blob_name='houses_clean.csv', download_to_disk = True)"
   ]
  }
 ],
 "metadata": {
  "kernelspec": {
   "display_name": "Python 3.8.12 64-bit ('shims')",
   "language": "python",
   "name": "python3"
  },
  "language_info": {
   "codemirror_mode": {
    "name": "ipython",
    "version": 3
   },
   "file_extension": ".py",
   "mimetype": "text/x-python",
   "name": "python",
   "nbconvert_exporter": "python",
   "pygments_lexer": "ipython3",
   "version": "3.8.12"
  },
  "toc": {
   "base_numbering": 1,
   "nav_menu": {},
   "number_sections": true,
   "sideBar": true,
   "skip_h1_title": false,
   "title_cell": "Table of Contents",
   "title_sidebar": "Contents",
   "toc_cell": false,
   "toc_position": {},
   "toc_section_display": true,
   "toc_window_display": false
  },
  "vscode": {
   "interpreter": {
    "hash": "976e55246a6e2013b266e0d3c493866f23aa5c19ba7d6f2c00b408cec6703c40"
   }
  }
 },
 "nbformat": 4,
 "nbformat_minor": 5
}
