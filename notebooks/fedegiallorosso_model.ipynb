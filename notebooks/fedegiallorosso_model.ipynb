{
 "cells": [
  {
   "cell_type": "code",
   "execution_count": 1,
   "metadata": {},
   "outputs": [],
   "source": [
    "import datetime\n",
    "import numpy as np\n",
    "import matplotlib.pyplot as plt\n",
    "import pandas as pd\n",
    "from mpl_toolkits.axes_grid1 import make_axes_locatable\n",
    "\n",
    "from transform_output_format import get_2D_output, get_4D_output\n",
    "\n",
    "pd.set_option ('display.max_columns', None)\n"
   ]
  },
  {
   "cell_type": "code",
   "execution_count": 4,
   "metadata": {},
   "outputs": [],
   "source": [
    "# Load data from raw_data\n",
    "data = np.load('../raw_data/baseline.npz', allow_pickle=True)"
   ]
  },
  {
   "cell_type": "code",
   "execution_count": 3,
   "metadata": {},
   "outputs": [],
   "source": [
    "y_train = pd.read_csv('../raw_data/y_train.csv')"
   ]
  },
  {
   "cell_type": "code",
   "execution_count": 5,
   "metadata": {},
   "outputs": [
    {
     "data": {
      "text/plain": [
       "(1845, 10405)"
      ]
     },
     "execution_count": 5,
     "metadata": {},
     "output_type": "execute_result"
    }
   ],
   "source": [
    "# Converted y_train(df), a vector, into a matrix\n",
    "y_train.shape"
   ]
  },
  {
   "cell_type": "code",
   "execution_count": 6,
   "metadata": {},
   "outputs": [],
   "source": [
    "y_train=get_4D_output(y_train)"
   ]
  },
  {
   "cell_type": "code",
   "execution_count": 7,
   "metadata": {},
   "outputs": [
    {
     "data": {
      "text/plain": [
       "(1845, 4, 51, 51)"
      ]
     },
     "execution_count": 7,
     "metadata": {},
     "output_type": "execute_result"
    }
   ],
   "source": [
    "y_train.shape"
   ]
  },
  {
   "cell_type": "code",
   "execution_count": 8,
   "metadata": {},
   "outputs": [],
   "source": [
    "GHI=data['GHI']\n",
    "CLS=data['CLS']"
   ]
  },
  {
   "cell_type": "code",
   "execution_count": 9,
   "metadata": {},
   "outputs": [
    {
     "data": {
      "text/plain": [
       "(4, 4, 1, 51, 51)"
      ]
     },
     "execution_count": 9,
     "metadata": {},
     "output_type": "execute_result"
    }
   ],
   "source": [
    "X_model=np.zeros((4,4,1,51,51))\n",
    "for j in range (4):\n",
    "    for i in range (4):\n",
    "        for z in range (1):\n",
    "            if z==0:\n",
    "                for k in range (51):\n",
    "                    for h in range (51):\n",
    "                        X_model[j,i,z,k,h]=GHI[j,i,k+15,h+15]               \n",
    "            #else:\n",
    "                #for k in range (51):\n",
    "                    #for h in range (51):\n",
    "                        #X_model[j,i,z,k,h]=CLS[j,i,k+15,h+15]\n",
    "X_model.shape"
   ]
  },
  {
   "cell_type": "code",
   "execution_count": 71,
   "metadata": {},
   "outputs": [
    {
     "data": {
      "text/plain": [
       "(4, 4, 1, 51, 51)"
      ]
     },
     "execution_count": 71,
     "metadata": {},
     "output_type": "execute_result"
    }
   ],
   "source": [
    "y_model=np.zeros((4,4,1,51,51))\n",
    "for j in range (4):\n",
    "    for i in range (4):\n",
    "        for z in range (1):\n",
    "            for k in range (51):\n",
    "                    for h in range (51):\n",
    "                        y_model[j,i,z,k,h]=y_train[j,i,k,h]\n",
    "y_model.shape"
   ]
  },
  {
   "cell_type": "code",
   "execution_count": 76,
   "metadata": {},
   "outputs": [],
   "source": [
    "from tensorflow.keras import models\n",
    "from tensorflow.keras import layers\n",
    "from tensorflow.keras import optimizers, metrics\n",
    "\n",
    "def init_model():\n",
    "    model = models.Sequential()\n",
    "\n",
    "    model.add(layers.ConvLSTM2D(32, kernel_size=(3,3), padding='same',\n",
    "                                data_format='channels_first',\n",
    "                                return_sequences=True, input_shape=(4,1,51,51)))\n",
    "    #return_sequences=True output the image at each time step\n",
    "    model.add(layers.Dense(320))\n",
    "    print(model.output_shape)\n",
    "    model.add(layers.Reshape((4,32*51*320)))\n",
    "    model.add(layers.LSTM(64, return_sequences=False))\n",
    "    model.add(layers.Dropout(0.5))\n",
    "    model.add(layers.Dense(1, activation='relu'))\n",
    "    \n",
    "    adam = optimizers.Adam(learning_rate=0.02)\n",
    "    model.compile(loss='categorical_accuracy', optimizer=adam, metrics=[\"categorical_accuracy\"])\n",
    "    print(model.summary())\n",
    "    \n",
    "    return model"
   ]
  },
  {
   "cell_type": "code",
   "execution_count": 77,
   "metadata": {},
   "outputs": [
    {
     "name": "stdout",
     "output_type": "stream",
     "text": [
      "(None, 4, 32, 51, 320)\n",
      "Model: \"sequential_25\"\n",
      "_________________________________________________________________\n",
      " Layer (type)                Output Shape              Param #   \n",
      "=================================================================\n",
      " conv_lstm2d_25 (ConvLSTM2D)  (None, 4, 32, 51, 51)    38144     \n",
      "                                                                 \n",
      " dense_30 (Dense)            (None, 4, 32, 51, 320)    16640     \n",
      "                                                                 \n",
      " reshape_19 (Reshape)        (None, 4, 522240)         0         \n",
      "                                                                 \n",
      " lstm_8 (LSTM)               (None, 64)                133710080 \n",
      "                                                                 \n",
      " dropout_7 (Dropout)         (None, 64)                0         \n",
      "                                                                 \n",
      " dense_31 (Dense)            (None, 1)                 65        \n",
      "                                                                 \n",
      "=================================================================\n",
      "Total params: 133,764,929\n",
      "Trainable params: 133,764,929\n",
      "Non-trainable params: 0\n",
      "_________________________________________________________________\n",
      "None\n"
     ]
    }
   ],
   "source": [
    "model=init_model()\n"
   ]
  },
  {
   "cell_type": "code",
   "execution_count": 78,
   "metadata": {},
   "outputs": [
    {
     "name": "stdout",
     "output_type": "stream",
     "text": [
      "Epoch 1/50\n"
     ]
    },
    {
     "ename": "ValueError",
     "evalue": "in user code:\n\n    File \"/home/federico/.pyenv/versions/3.8.12/envs/solar_forecasting/lib/python3.8/site-packages/keras/engine/training.py\", line 1249, in train_function  *\n        return step_function(self, iterator)\n    File \"/home/federico/.pyenv/versions/3.8.12/envs/solar_forecasting/lib/python3.8/site-packages/keras/engine/training.py\", line 1233, in step_function  **\n        outputs = model.distribute_strategy.run(run_step, args=(data,))\n    File \"/home/federico/.pyenv/versions/3.8.12/envs/solar_forecasting/lib/python3.8/site-packages/keras/engine/training.py\", line 1222, in run_step  **\n        outputs = model.train_step(data)\n    File \"/home/federico/.pyenv/versions/3.8.12/envs/solar_forecasting/lib/python3.8/site-packages/keras/engine/training.py\", line 1024, in train_step\n        loss = self.compute_loss(x, y, y_pred, sample_weight)\n    File \"/home/federico/.pyenv/versions/3.8.12/envs/solar_forecasting/lib/python3.8/site-packages/keras/engine/training.py\", line 1082, in compute_loss\n        return self.compiled_loss(\n    File \"/home/federico/.pyenv/versions/3.8.12/envs/solar_forecasting/lib/python3.8/site-packages/keras/engine/compile_utils.py\", line 240, in __call__\n        self.build(y_pred)\n    File \"/home/federico/.pyenv/versions/3.8.12/envs/solar_forecasting/lib/python3.8/site-packages/keras/engine/compile_utils.py\", line 182, in build\n        self._losses = tf.nest.map_structure(\n    File \"/home/federico/.pyenv/versions/3.8.12/envs/solar_forecasting/lib/python3.8/site-packages/keras/engine/compile_utils.py\", line 353, in _get_loss_object\n        loss = losses_mod.get(loss)\n    File \"/home/federico/.pyenv/versions/3.8.12/envs/solar_forecasting/lib/python3.8/site-packages/keras/losses.py\", line 2663, in get\n        return deserialize(identifier)\n    File \"/home/federico/.pyenv/versions/3.8.12/envs/solar_forecasting/lib/python3.8/site-packages/keras/losses.py\", line 2617, in deserialize\n        return deserialize_keras_object(\n    File \"/home/federico/.pyenv/versions/3.8.12/envs/solar_forecasting/lib/python3.8/site-packages/keras/saving/legacy/serialization.py\", line 557, in deserialize_keras_object\n        raise ValueError(\n\n    ValueError: Unknown loss function: 'categorical_accuracy'. Please ensure you are using a `keras.utils.custom_object_scope` and that this object is included in the scope. See https://www.tensorflow.org/guide/keras/save_and_serialize#registering_the_custom_object for details.\n",
     "output_type": "error",
     "traceback": [
      "\u001b[0;31m---------------------------------------------------------------------------\u001b[0m",
      "\u001b[0;31mValueError\u001b[0m                                Traceback (most recent call last)",
      "Cell \u001b[0;32mIn [78], line 1\u001b[0m\n\u001b[0;32m----> 1\u001b[0m model\u001b[39m.\u001b[39;49mfit(X_model, y_model, epochs\u001b[39m=\u001b[39;49m\u001b[39m50\u001b[39;49m, batch_size \u001b[39m=\u001b[39;49m \u001b[39m32\u001b[39;49m)\n",
      "File \u001b[0;32m~/.pyenv/versions/3.8.12/envs/solar_forecasting/lib/python3.8/site-packages/keras/utils/traceback_utils.py:70\u001b[0m, in \u001b[0;36mfilter_traceback.<locals>.error_handler\u001b[0;34m(*args, **kwargs)\u001b[0m\n\u001b[1;32m     67\u001b[0m     filtered_tb \u001b[39m=\u001b[39m _process_traceback_frames(e\u001b[39m.\u001b[39m__traceback__)\n\u001b[1;32m     68\u001b[0m     \u001b[39m# To get the full stack trace, call:\u001b[39;00m\n\u001b[1;32m     69\u001b[0m     \u001b[39m# `tf.debugging.disable_traceback_filtering()`\u001b[39;00m\n\u001b[0;32m---> 70\u001b[0m     \u001b[39mraise\u001b[39;00m e\u001b[39m.\u001b[39mwith_traceback(filtered_tb) \u001b[39mfrom\u001b[39;00m \u001b[39mNone\u001b[39m\n\u001b[1;32m     71\u001b[0m \u001b[39mfinally\u001b[39;00m:\n\u001b[1;32m     72\u001b[0m     \u001b[39mdel\u001b[39;00m filtered_tb\n",
      "File \u001b[0;32m/tmp/__autograph_generated_fileqlau9lhr.py:15\u001b[0m, in \u001b[0;36mouter_factory.<locals>.inner_factory.<locals>.tf__train_function\u001b[0;34m(iterator)\u001b[0m\n\u001b[1;32m     13\u001b[0m \u001b[39mtry\u001b[39;00m:\n\u001b[1;32m     14\u001b[0m     do_return \u001b[39m=\u001b[39m \u001b[39mTrue\u001b[39;00m\n\u001b[0;32m---> 15\u001b[0m     retval_ \u001b[39m=\u001b[39m ag__\u001b[39m.\u001b[39mconverted_call(ag__\u001b[39m.\u001b[39mld(step_function), (ag__\u001b[39m.\u001b[39mld(\u001b[39mself\u001b[39m), ag__\u001b[39m.\u001b[39mld(iterator)), \u001b[39mNone\u001b[39;00m, fscope)\n\u001b[1;32m     16\u001b[0m \u001b[39mexcept\u001b[39;00m:\n\u001b[1;32m     17\u001b[0m     do_return \u001b[39m=\u001b[39m \u001b[39mFalse\u001b[39;00m\n",
      "\u001b[0;31mValueError\u001b[0m: in user code:\n\n    File \"/home/federico/.pyenv/versions/3.8.12/envs/solar_forecasting/lib/python3.8/site-packages/keras/engine/training.py\", line 1249, in train_function  *\n        return step_function(self, iterator)\n    File \"/home/federico/.pyenv/versions/3.8.12/envs/solar_forecasting/lib/python3.8/site-packages/keras/engine/training.py\", line 1233, in step_function  **\n        outputs = model.distribute_strategy.run(run_step, args=(data,))\n    File \"/home/federico/.pyenv/versions/3.8.12/envs/solar_forecasting/lib/python3.8/site-packages/keras/engine/training.py\", line 1222, in run_step  **\n        outputs = model.train_step(data)\n    File \"/home/federico/.pyenv/versions/3.8.12/envs/solar_forecasting/lib/python3.8/site-packages/keras/engine/training.py\", line 1024, in train_step\n        loss = self.compute_loss(x, y, y_pred, sample_weight)\n    File \"/home/federico/.pyenv/versions/3.8.12/envs/solar_forecasting/lib/python3.8/site-packages/keras/engine/training.py\", line 1082, in compute_loss\n        return self.compiled_loss(\n    File \"/home/federico/.pyenv/versions/3.8.12/envs/solar_forecasting/lib/python3.8/site-packages/keras/engine/compile_utils.py\", line 240, in __call__\n        self.build(y_pred)\n    File \"/home/federico/.pyenv/versions/3.8.12/envs/solar_forecasting/lib/python3.8/site-packages/keras/engine/compile_utils.py\", line 182, in build\n        self._losses = tf.nest.map_structure(\n    File \"/home/federico/.pyenv/versions/3.8.12/envs/solar_forecasting/lib/python3.8/site-packages/keras/engine/compile_utils.py\", line 353, in _get_loss_object\n        loss = losses_mod.get(loss)\n    File \"/home/federico/.pyenv/versions/3.8.12/envs/solar_forecasting/lib/python3.8/site-packages/keras/losses.py\", line 2663, in get\n        return deserialize(identifier)\n    File \"/home/federico/.pyenv/versions/3.8.12/envs/solar_forecasting/lib/python3.8/site-packages/keras/losses.py\", line 2617, in deserialize\n        return deserialize_keras_object(\n    File \"/home/federico/.pyenv/versions/3.8.12/envs/solar_forecasting/lib/python3.8/site-packages/keras/saving/legacy/serialization.py\", line 557, in deserialize_keras_object\n        raise ValueError(\n\n    ValueError: Unknown loss function: 'categorical_accuracy'. Please ensure you are using a `keras.utils.custom_object_scope` and that this object is included in the scope. See https://www.tensorflow.org/guide/keras/save_and_serialize#registering_the_custom_object for details.\n"
     ]
    }
   ],
   "source": [
    "model.fit(X_model, y_model, epochs=50, batch_size = 32)"
   ]
  }
 ],
 "metadata": {
  "kernelspec": {
   "display_name": "Python 3.8.12 64-bit ('solar_forecasting')",
   "language": "python",
   "name": "python3"
  },
  "language_info": {
   "codemirror_mode": {
    "name": "ipython",
    "version": 3
   },
   "file_extension": ".py",
   "mimetype": "text/x-python",
   "name": "python",
   "nbconvert_exporter": "python",
   "pygments_lexer": "ipython3",
   "version": "3.8.12"
  },
  "orig_nbformat": 4,
  "vscode": {
   "interpreter": {
    "hash": "d4fef1b78ec294c6d31d832fa9795b7918380dad51587c4a9a786a1aa7e3adc9"
   }
  }
 },
 "nbformat": 4,
 "nbformat_minor": 2
}
