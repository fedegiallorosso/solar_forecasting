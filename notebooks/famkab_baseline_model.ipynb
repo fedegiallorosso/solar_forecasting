{
 "cells": [
  {
   "cell_type": "code",
   "execution_count": 6,
   "metadata": {},
   "outputs": [],
   "source": [
    "import numpy as np\n",
    "import pandas as pd\n",
    "import matplotlib.pyplot as plt\n",
    "import seaborn as sns\n",
    "import datetime as dt\n",
    "\n",
    "from sklearn.metrics import mean_absolute_error\n",
    "from solar_forecasting.data_sources.get_data import download_file\n",
    "from transform_output_format import get_2D_output, get_4D_output"
   ]
  },
  {
   "cell_type": "code",
   "execution_count": 7,
   "metadata": {},
   "outputs": [],
   "source": [
    "data = np.load('../raw_data/baseline.npz', allow_pickle=True)"
   ]
  },
  {
   "cell_type": "code",
   "execution_count": 8,
   "metadata": {},
   "outputs": [
    {
     "data": {
      "text/plain": [
       "['datetime', 'GHI', 'CLS', 'SZA', 'SAA']"
      ]
     },
     "execution_count": 8,
     "metadata": {},
     "output_type": "execute_result"
    }
   ],
   "source": [
    "data.files"
   ]
  },
  {
   "cell_type": "code",
   "execution_count": 9,
   "metadata": {},
   "outputs": [],
   "source": [
    "# Importing features\n",
    "DATE = data['datetime']\n",
    "GHI = data['GHI']#[:300]\n",
    "CLS = data['CLS']#[:300]\n",
    "SZA = data['SZA']#[:300]\n",
    "SAA = data['SAA']#[:300]"
   ]
  },
  {
   "cell_type": "code",
   "execution_count": 10,
   "metadata": {},
   "outputs": [
    {
     "data": {
      "text/plain": [
       "0"
      ]
     },
     "execution_count": 10,
     "metadata": {},
     "output_type": "execute_result"
    }
   ],
   "source": [
    "# Checking if values are np.float64 and appending values to use later in df format\n",
    "\n",
    "total_ghi = 0\n",
    "stat_ghi = []\n",
    "\n",
    "for x in range(GHI.shape[0]):\n",
    "    for y in range(GHI.shape[1]):\n",
    "        for z in range(GHI.shape[2]):\n",
    "            for t in range(GHI.shape[3]):\n",
    "                stat_ghi.append(GHI[x,y,z,t])\n",
    "                if type(GHI[x,y,z,t]) != np.float64:\n",
    "                    total_ghi+=1\n",
    "total_ghi"
   ]
  },
  {
   "cell_type": "code",
   "execution_count": 11,
   "metadata": {},
   "outputs": [
    {
     "data": {
      "text/plain": [
       "0"
      ]
     },
     "execution_count": 11,
     "metadata": {},
     "output_type": "execute_result"
    }
   ],
   "source": [
    "# CLS\n",
    "\n",
    "total_cls = 0\n",
    "stat_cls = []\n",
    "\n",
    "for x in range(CLS.shape[0]):\n",
    "    for y in range(CLS.shape[1]):\n",
    "        for z in range(CLS.shape[2]):\n",
    "            for t in range (CLS.shape[3]):\n",
    "                stat_cls.append(CLS[x,y,z,t])\n",
    "                if type(CLS[x,y,z,t]) != np.float64:\n",
    "                    total_cls+=1\n",
    "total_cls"
   ]
  },
  {
   "cell_type": "code",
   "execution_count": 14,
   "metadata": {},
   "outputs": [
    {
     "data": {
      "text/plain": [
       "0"
      ]
     },
     "execution_count": 14,
     "metadata": {},
     "output_type": "execute_result"
    }
   ],
   "source": [
    "# SZA\n",
    "\n",
    "total_sza = 0\n",
    "stat_sza = []\n",
    "\n",
    "for x in range(SZA.shape[0]):\n",
    "    for y in range(SZA.shape[1]):\n",
    "        for z in range(SZA.shape[2]):\n",
    "            for t in range(SZA.shape[3]):\n",
    "                stat_sza.append(SZA[x,y,z,t])\n",
    "                if type(SZA[x,y,z,t]) != np.float64:\n",
    "                    total_sza+=1\n",
    "total_sza"
   ]
  },
  {
   "cell_type": "code",
   "execution_count": 12,
   "metadata": {},
   "outputs": [
    {
     "data": {
      "text/plain": [
       "0"
      ]
     },
     "execution_count": 12,
     "metadata": {},
     "output_type": "execute_result"
    }
   ],
   "source": [
    "# SAA\n",
    "\n",
    "total_saa = 0\n",
    "stat_saa = []\n",
    "\n",
    "for x in range(SAA.shape[0]):\n",
    "    for y in range(SAA.shape[1]):\n",
    "        for z in range(SAA.shape[2]):\n",
    "            for t in range(SAA.shape[3]):\n",
    "                stat_saa.append(SAA[x,y,z,t])\n",
    "                if type(SAA[x,y,z,t]) != np.float64:\n",
    "                    total_saa+=1\n",
    "total_saa"
   ]
  },
  {
   "cell_type": "code",
   "execution_count": 15,
   "metadata": {},
   "outputs": [],
   "source": [
    "# Create feature dataframes\n",
    "\n",
    "df_ghi = pd.DataFrame(stat_ghi, columns=['GHI'])\n",
    "df_cls = pd.DataFrame(stat_cls, columns=['CLS'])\n",
    "df_sza = pd.DataFrame(stat_sza, columns=['SZA'])\n",
    "df_saa = pd.DataFrame(stat_saa, columns=['SAA'])"
   ]
  },
  {
   "cell_type": "code",
   "execution_count": 16,
   "metadata": {},
   "outputs": [
    {
     "data": {
      "text/html": [
       "<div>\n",
       "<style scoped>\n",
       "    .dataframe tbody tr th:only-of-type {\n",
       "        vertical-align: middle;\n",
       "    }\n",
       "\n",
       "    .dataframe tbody tr th {\n",
       "        vertical-align: top;\n",
       "    }\n",
       "\n",
       "    .dataframe thead th {\n",
       "        text-align: right;\n",
       "    }\n",
       "</style>\n",
       "<table border=\"1\" class=\"dataframe\">\n",
       "  <thead>\n",
       "    <tr style=\"text-align: right;\">\n",
       "      <th></th>\n",
       "      <th>t-1</th>\n",
       "      <th>t+1</th>\n",
       "    </tr>\n",
       "  </thead>\n",
       "  <tbody>\n",
       "    <tr>\n",
       "      <th>0</th>\n",
       "      <td>NaN</td>\n",
       "      <td>88.29</td>\n",
       "    </tr>\n",
       "    <tr>\n",
       "      <th>1</th>\n",
       "      <td>88.29</td>\n",
       "      <td>88.66</td>\n",
       "    </tr>\n",
       "    <tr>\n",
       "      <th>2</th>\n",
       "      <td>88.66</td>\n",
       "      <td>89.00</td>\n",
       "    </tr>\n",
       "    <tr>\n",
       "      <th>3</th>\n",
       "      <td>89.00</td>\n",
       "      <td>89.38</td>\n",
       "    </tr>\n",
       "    <tr>\n",
       "      <th>4</th>\n",
       "      <td>89.38</td>\n",
       "      <td>89.68</td>\n",
       "    </tr>\n",
       "  </tbody>\n",
       "</table>\n",
       "</div>"
      ],
      "text/plain": [
       "     t-1    t+1\n",
       "0    NaN  88.29\n",
       "1  88.29  88.66\n",
       "2  88.66  89.00\n",
       "3  89.00  89.38\n",
       "4  89.38  89.68"
      ]
     },
     "execution_count": 16,
     "metadata": {},
     "output_type": "execute_result"
    }
   ],
   "source": [
    "# Create lagged dataset\n",
    "\n",
    "lagged_ghi = pd.concat([df_ghi.shift(1), df_ghi], axis=1)\n",
    "lagged_ghi.columns = ['t-1', 't+1']\n",
    "lagged_ghi.head(5)"
   ]
  },
  {
   "cell_type": "code",
   "execution_count": 17,
   "metadata": {},
   "outputs": [],
   "source": [
    "# Loading training and testing dataset from challenge website\n",
    "\n",
    "X_train = np.load('../raw_data/X_train_copernicus.npz', allow_pickle = True)\n",
    "X_test = np.load('../raw_data/X_test_copernicus.npz')\n",
    "y_train = pd.read_csv('../raw_data/y_train_zRvpCeO_nQsYtKN.csv')"
   ]
  },
  {
   "cell_type": "code",
   "execution_count": 18,
   "metadata": {},
   "outputs": [
    {
     "data": {
      "text/plain": [
       "(1845, 4, 51, 51)"
      ]
     },
     "execution_count": 18,
     "metadata": {},
     "output_type": "execute_result"
    }
   ],
   "source": [
    "# Converted y_train(df), a vector, into a matrix\n",
    "y_train_df = get_4D_output(y_train)\n",
    "y_train_df.shape"
   ]
  },
  {
   "cell_type": "code",
   "execution_count": 19,
   "metadata": {},
   "outputs": [
    {
     "name": "stdout",
     "output_type": "stream",
     "text": [
      "(4, 81, 81)\n",
      "(1, 81, 81)\n",
      "(5, 81, 81)\n",
      "(81, 81)\n",
      "[[-39.49 -39.48 -39.46 ... -38.46 -38.42 -38.38]\n",
      " [-39.52 -39.52 -39.53 ... -38.39 -38.33 -38.3 ]\n",
      " [-39.54 -37.03 -39.55 ... -38.41 -38.34 -38.31]\n",
      " ...\n",
      " [-40.48 -40.48 -40.46 ... -39.44 -39.43 -39.43]\n",
      " [-40.49 -40.49 -40.48 ... -39.46 -39.46 -39.45]\n",
      " [-40.51 -40.5  -40.49 ... -39.48 -39.47 -39.47]]\n"
     ]
    }
   ],
   "source": [
    "# We want to add a layer that is identical to the previous layer to make a dummy model dataset\n",
    "\n",
    "#Create temporary variable that will equal new layer\n",
    "_ = np.expand_dims(X_train['GHI'][0][3], axis = 0)\n",
    "\n",
    "# Checking structure of where we are\n",
    "print(np.shape(X_train['GHI'][0]))\n",
    "print(np.shape(_))\n",
    "\n",
    "# Stacking new layer onto original array\n",
    "_new_layer = np.vstack((X_train['GHI'][0], _))\n",
    "\n",
    "# Double checking that new layer was added\n",
    "print(np.shape(_new_layer))\n",
    "print(np.shape(_new_layer[0]))\n",
    "\n",
    "# Checking the contents\n",
    "print(_new_layer[2] - _new_layer[4])"
   ]
  },
  {
   "cell_type": "code",
   "execution_count": 20,
   "metadata": {},
   "outputs": [],
   "source": [
    "# Create a function to get 8 timestamps (from the 4) for each observation\n",
    "\n",
    "def add_dumb_layers(observation):\n",
    "    '''Takes a timestamp and duplicates four times for comeplete GHI datasets''' \n",
    "    \n",
    "    new_layer = np.expand_dims(X_train['GHI'][observation][3], axis = 0)\n",
    "    z = X_train['GHI'][observation]\n",
    "\n",
    "    for i in range(4):\n",
    "        z = np.vstack((z, new_layer))\n",
    "    return z[4:8, :, :]"
   ]
  },
  {
   "cell_type": "code",
   "execution_count": 1,
   "metadata": {},
   "outputs": [
    {
     "ename": "NameError",
     "evalue": "name 'np' is not defined",
     "output_type": "error",
     "traceback": [
      "\u001b[0;31m---------------------------------------------------------------------------\u001b[0m",
      "\u001b[0;31mNameError\u001b[0m                                 Traceback (most recent call last)",
      "Cell \u001b[0;32mIn [1], line 3\u001b[0m\n\u001b[1;32m      1\u001b[0m \u001b[39m# Build a for loop for the total number of observations\u001b[39;00m\n\u001b[0;32m----> 3\u001b[0m y_train_predictions \u001b[39m=\u001b[39m np\u001b[39m.\u001b[39mzeros((\u001b[39m1845\u001b[39m,\u001b[39m4\u001b[39m,\u001b[39m81\u001b[39m,\u001b[39m81\u001b[39m))\n\u001b[1;32m      5\u001b[0m \u001b[39mfor\u001b[39;00m observation \u001b[39min\u001b[39;00m \u001b[39mrange\u001b[39m(\u001b[39mlen\u001b[39m(X_train[\u001b[39m'\u001b[39m\u001b[39mdatetime\u001b[39m\u001b[39m'\u001b[39m])):\n\u001b[1;32m      6\u001b[0m     y_train_predictions[observation] \u001b[39m=\u001b[39m add_dumb_layers(observation)\n",
      "\u001b[0;31mNameError\u001b[0m: name 'np' is not defined"
     ]
    }
   ],
   "source": [
    "# Build a for loop for the total number of observations\n",
    "\n",
    "y_train_predictions = np.zeros((1845,4,81,81))\n",
    "\n",
    "for observation in range(len(X_train['datetime'])):\n",
    "    y_train_predictions[observation] = add_dumb_layers(observation)\n",
    "\n",
    "np.shape(y_train_predictions)"
   ]
  },
  {
   "cell_type": "code",
   "execution_count": null,
   "metadata": {},
   "outputs": [
    {
     "data": {
      "text/plain": [
       "<matplotlib.image.AxesImage at 0x19ffb77f0>"
      ]
     },
     "execution_count": 36,
     "metadata": {},
     "output_type": "execute_result"
    },
    {
     "data": {
      "image/png": "[encoded data removed]",
      "text/plain": [
       "<Figure size 640x480 with 1 Axes>"
      ]
     },
     "metadata": {},
     "output_type": "display_data"
    }
   ],
   "source": [
    "# Reshape 81x81 into 51x51\n",
    "\n",
    "y_train_reshaped = y_train_predictions[:,:,15:66, 15:66]\n",
    "plt.imshow(y_train_reshaped[96,0,:,:], cmap='jet', vmin=100, vmax=610)"
   ]
  },
  {
   "cell_type": "code",
   "execution_count": null,
   "metadata": {},
   "outputs": [
    {
     "data": {
      "text/plain": [
       "<matplotlib.image.AxesImage at 0x19f12c520>"
      ]
     },
     "execution_count": 33,
     "metadata": {},
     "output_type": "execute_result"
    },
    {
     "data": {
      "image/png": "[encoded data removed]",
      "text/plain": [
       "<Figure size 640x480 with 1 Axes>"
      ]
     },
     "metadata": {},
     "output_type": "display_data"
    }
   ],
   "source": [
    "# Checking pixel reshaped worked\n",
    "plt.imshow(y_train_predictions[96,0,:,:], cmap='jet', vmin=100, vmax=610)"
   ]
  },
  {
   "cell_type": "code",
   "execution_count": null,
   "metadata": {},
   "outputs": [
    {
     "data": {
      "text/plain": [
       "<matplotlib.image.AxesImage at 0x1a18e7fd0>"
      ]
     },
     "execution_count": 35,
     "metadata": {},
     "output_type": "execute_result"
    },
    {
     "data": {
      "image/png": "[encoded data removed]",
      "text/plain": [
       "<Figure size 640x480 with 1 Axes>"
      ]
     },
     "metadata": {},
     "output_type": "display_data"
    }
   ],
   "source": [
    "# Checking pixel reshaped worked\n",
    "y_train_pred_pixel = y_train_predictions[:,:,15:16, 15:16]\n",
    "plt.imshow(y_train_pred_pixel[96,0,:,:], cmap='jet', vmin=100, vmax=610)"
   ]
  },
  {
   "cell_type": "code",
   "execution_count": null,
   "metadata": {},
   "outputs": [],
   "source": [
    "y_train_pred_2D = get_2D_output(y_train_reshaped)"
   ]
  },
  {
   "cell_type": "code",
   "execution_count": null,
   "metadata": {},
   "outputs": [
    {
     "name": "stdout",
     "output_type": "stream",
     "text": [
      "Baseline MSE: 10601.599\n"
     ]
    }
   ],
   "source": [
    "from sklearn.metrics import mean_squared_error\n",
    " \n",
    "test_score = mean_squared_error(y_train_pred_2D, y_train)\n",
    "print('Baseline MSE: %.3f' % test_score)"
   ]
  }
 ],
 "metadata": {
  "kernelspec": {
   "display_name": "Python 3.8.12 64-bit ('solar_forecasting')",
   "language": "python",
   "name": "python3"
  },
  "language_info": {
   "codemirror_mode": {
    "name": "ipython",
    "version": 3
   },
   "file_extension": ".py",
   "mimetype": "text/x-python",
   "name": "python",
   "nbconvert_exporter": "python",
   "pygments_lexer": "ipython3",
   "version": "3.8.12"
  },
  "orig_nbformat": 4,
  "vscode": {
   "interpreter": {
    "hash": "ebc06466c8001bef1fa9def65753324c70b8c3dbe13f2ffcd7794d6c43810f94"
   }
  }
 },
 "nbformat": 4,
 "nbformat_minor": 2
}
