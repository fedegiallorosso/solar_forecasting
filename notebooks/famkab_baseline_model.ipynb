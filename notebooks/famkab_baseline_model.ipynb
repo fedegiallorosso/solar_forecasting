{
 "cells": [
  {
   "cell_type": "code",
   "execution_count": 15,
   "metadata": {},
   "outputs": [],
   "source": [
    "import numpy as np\n",
    "import pandas as pd\n",
    "import matplotlib.pyplot as plt\n",
    "import seaborn as sns\n",
    "import datetime as dt\n",
    "\n",
    "from sklearn.metrics import mean_absolute_error\n",
    "from solar_forecasting.data_sources.get_data import download_file\n",
    "from transform_output_format import get_2D_output, get_4D_output"
   ]
  },
  {
   "cell_type": "code",
   "execution_count": 37,
   "metadata": {},
   "outputs": [
    {
     "name": "stdout",
     "output_type": "stream",
     "text": [
      "Downloaded storage object X_train_copernicus.npz from bucket train_data_solar_project to local file ../raw_data/data.npz.\n"
     ]
    }
   ],
   "source": [
    "# Testing out python script\n",
    "download_file(download_to_disk = True)"
   ]
  },
  {
   "cell_type": "code",
   "execution_count": 38,
   "metadata": {},
   "outputs": [
    {
     "name": "stdout",
     "output_type": "stream",
     "text": [
      "Downloaded storage object X_train_copernicus.npz from bucket train_data_solar_project to local file ../raw_data/baseline.npz.\n"
     ]
    }
   ],
   "source": [
    "# Testing out python script with different arguments\n",
    "download_file(\n",
    "    download_to_disk = True, \n",
    "    destination_file_name = '../raw_data/baseline.npz')"
   ]
  },
  {
   "cell_type": "code",
   "execution_count": 39,
   "metadata": {},
   "outputs": [],
   "source": [
    "data = np.load('../raw_data/baseline.npz')"
   ]
  },
  {
   "cell_type": "code",
   "execution_count": 41,
   "metadata": {},
   "outputs": [
    {
     "data": {
      "text/plain": [
       "['datetime', 'GHI', 'CLS', 'SZA', 'SAA']"
      ]
     },
     "execution_count": 41,
     "metadata": {},
     "output_type": "execute_result"
    }
   ],
   "source": [
    "data.files"
   ]
  },
  {
   "cell_type": "code",
   "execution_count": 42,
   "metadata": {},
   "outputs": [],
   "source": [
    "G = data['GHI'][:300]\n",
    "C = data['CLS'][:300]\n",
    "Z = data['SZA'][:300]\n",
    "A = data['SAA'][:300]"
   ]
  },
  {
   "cell_type": "code",
   "execution_count": 22,
   "metadata": {},
   "outputs": [
    {
     "data": {
      "text/plain": [
       "0"
      ]
     },
     "execution_count": 22,
     "metadata": {},
     "output_type": "execute_result"
    }
   ],
   "source": [
    "# Checking if values are np.float64 and stat is\n",
    "\n",
    "total_ghi = 0\n",
    "stat_ghi = []\n",
    "\n",
    "for x in range(G.shape[0]):\n",
    "    for y in range(G.shape[1]):\n",
    "        for z in range(G.shape[2]):\n",
    "            for t in range(G.shape[3]):\n",
    "                stat_ghi.append(G[x,y,z,t])\n",
    "                if type(G[x,y,z,t]) != np.float64:\n",
    "                    total_ghi+=1\n",
    "total_ghi"
   ]
  },
  {
   "cell_type": "code",
   "execution_count": 23,
   "metadata": {},
   "outputs": [
    {
     "data": {
      "text/plain": [
       "0"
      ]
     },
     "execution_count": 23,
     "metadata": {},
     "output_type": "execute_result"
    }
   ],
   "source": [
    "total_cls = 0\n",
    "stat_cls = []\n",
    "\n",
    "for x in range(C.shape[0]):\n",
    "    for y in range(C.shape[1]):\n",
    "        for z in range(C.shape[2]):\n",
    "            for t in range (C.shape[3]):\n",
    "                stat_cls.append(C[x,y,z,t])\n",
    "                if type(C[x,y,z,t]) != np.float64:\n",
    "                    total_cls+=1\n",
    "total_cls"
   ]
  },
  {
   "cell_type": "code",
   "execution_count": 24,
   "metadata": {},
   "outputs": [
    {
     "data": {
      "text/plain": [
       "0"
      ]
     },
     "execution_count": 24,
     "metadata": {},
     "output_type": "execute_result"
    }
   ],
   "source": [
    "total_sza = 0\n",
    "stat_sza = []\n",
    "\n",
    "for x in range(Z.shape[0]):\n",
    "    for y in range(Z.shape[1]):\n",
    "        for z in range(Z.shape[2]):\n",
    "            for t in range(Z.shape[3]):\n",
    "                stat_sza.append(Z[x,y,z,t])\n",
    "                if type(Z[x,y,z,t]) != np.float64:\n",
    "                    total_sza+=1\n",
    "total_sza"
   ]
  },
  {
   "cell_type": "code",
   "execution_count": 25,
   "metadata": {},
   "outputs": [
    {
     "data": {
      "text/plain": [
       "0"
      ]
     },
     "execution_count": 25,
     "metadata": {},
     "output_type": "execute_result"
    }
   ],
   "source": [
    "total_saa = 0\n",
    "stat_saa = []\n",
    "\n",
    "for x in range(A.shape[0]):\n",
    "    for y in range(A.shape[1]):\n",
    "        for z in range(A.shape[2]):\n",
    "            for t in range(A.shape[3]):\n",
    "                stat_saa.append(A[x,y,z,t])\n",
    "                if type(A[x,y,z,t]) != np.float64:\n",
    "                    total_saa+=1\n",
    "total_saa"
   ]
  },
  {
   "cell_type": "code",
   "execution_count": 26,
   "metadata": {},
   "outputs": [],
   "source": [
    "# Create feature dataframes\n",
    "\n",
    "df_ghi = pd.DataFrame(stat_ghi, columns=['GHI'])\n",
    "df_cls = pd.DataFrame(stat_cls, columns=['CLS'])\n",
    "df_sza = pd.DataFrame(stat_sza, columns=['SZA'])\n",
    "df_saa = pd.DataFrame(stat_saa, columns=['SAA'])"
   ]
  },
  {
   "cell_type": "code",
   "execution_count": 27,
   "metadata": {},
   "outputs": [
    {
     "data": {
      "text/plain": [
       "7873200"
      ]
     },
     "execution_count": 27,
     "metadata": {},
     "output_type": "execute_result"
    }
   ],
   "source": [
    "len(df_ghi)"
   ]
  },
  {
   "cell_type": "code",
   "execution_count": 28,
   "metadata": {},
   "outputs": [
    {
     "data": {
      "text/plain": [
       "15746400"
      ]
     },
     "execution_count": 28,
     "metadata": {},
     "output_type": "execute_result"
    }
   ],
   "source": [
    "len(df_cls)"
   ]
  },
  {
   "cell_type": "code",
   "execution_count": 29,
   "metadata": {},
   "outputs": [
    {
     "data": {
      "text/html": [
       "<div>\n",
       "<style scoped>\n",
       "    .dataframe tbody tr th:only-of-type {\n",
       "        vertical-align: middle;\n",
       "    }\n",
       "\n",
       "    .dataframe tbody tr th {\n",
       "        vertical-align: top;\n",
       "    }\n",
       "\n",
       "    .dataframe thead th {\n",
       "        text-align: right;\n",
       "    }\n",
       "</style>\n",
       "<table border=\"1\" class=\"dataframe\">\n",
       "  <thead>\n",
       "    <tr style=\"text-align: right;\">\n",
       "      <th></th>\n",
       "      <th>GHI</th>\n",
       "    </tr>\n",
       "  </thead>\n",
       "  <tbody>\n",
       "    <tr>\n",
       "      <th>0</th>\n",
       "      <td>88.29</td>\n",
       "    </tr>\n",
       "    <tr>\n",
       "      <th>1</th>\n",
       "      <td>88.66</td>\n",
       "    </tr>\n",
       "  </tbody>\n",
       "</table>\n",
       "</div>"
      ],
      "text/plain": [
       "     GHI\n",
       "0  88.29\n",
       "1  88.66"
      ]
     },
     "execution_count": 29,
     "metadata": {},
     "output_type": "execute_result"
    }
   ],
   "source": [
    "df_ghi.head(2)"
   ]
  },
  {
   "cell_type": "code",
   "execution_count": 30,
   "metadata": {},
   "outputs": [
    {
     "data": {
      "text/html": [
       "<div>\n",
       "<style scoped>\n",
       "    .dataframe tbody tr th:only-of-type {\n",
       "        vertical-align: middle;\n",
       "    }\n",
       "\n",
       "    .dataframe tbody tr th {\n",
       "        vertical-align: top;\n",
       "    }\n",
       "\n",
       "    .dataframe thead th {\n",
       "        text-align: right;\n",
       "    }\n",
       "</style>\n",
       "<table border=\"1\" class=\"dataframe\">\n",
       "  <thead>\n",
       "    <tr style=\"text-align: right;\">\n",
       "      <th></th>\n",
       "      <th>CLS</th>\n",
       "    </tr>\n",
       "  </thead>\n",
       "  <tbody>\n",
       "    <tr>\n",
       "      <th>0</th>\n",
       "      <td>99.87</td>\n",
       "    </tr>\n",
       "    <tr>\n",
       "      <th>1</th>\n",
       "      <td>100.27</td>\n",
       "    </tr>\n",
       "  </tbody>\n",
       "</table>\n",
       "</div>"
      ],
      "text/plain": [
       "      CLS\n",
       "0   99.87\n",
       "1  100.27"
      ]
     },
     "execution_count": 30,
     "metadata": {},
     "output_type": "execute_result"
    }
   ],
   "source": [
    "df_cls.head(2)"
   ]
  },
  {
   "cell_type": "code",
   "execution_count": 36,
   "metadata": {},
   "outputs": [
    {
     "data": {
      "text/html": [
       "<div>\n",
       "<style scoped>\n",
       "    .dataframe tbody tr th:only-of-type {\n",
       "        vertical-align: middle;\n",
       "    }\n",
       "\n",
       "    .dataframe tbody tr th {\n",
       "        vertical-align: top;\n",
       "    }\n",
       "\n",
       "    .dataframe thead th {\n",
       "        text-align: right;\n",
       "    }\n",
       "</style>\n",
       "<table border=\"1\" class=\"dataframe\">\n",
       "  <thead>\n",
       "    <tr style=\"text-align: right;\">\n",
       "      <th></th>\n",
       "      <th>t-1</th>\n",
       "      <th>t+1</th>\n",
       "    </tr>\n",
       "  </thead>\n",
       "  <tbody>\n",
       "    <tr>\n",
       "      <th>0</th>\n",
       "      <td>NaN</td>\n",
       "      <td>88.29</td>\n",
       "    </tr>\n",
       "    <tr>\n",
       "      <th>1</th>\n",
       "      <td>88.29</td>\n",
       "      <td>88.66</td>\n",
       "    </tr>\n",
       "    <tr>\n",
       "      <th>2</th>\n",
       "      <td>88.66</td>\n",
       "      <td>89.00</td>\n",
       "    </tr>\n",
       "    <tr>\n",
       "      <th>3</th>\n",
       "      <td>89.00</td>\n",
       "      <td>89.38</td>\n",
       "    </tr>\n",
       "    <tr>\n",
       "      <th>4</th>\n",
       "      <td>89.38</td>\n",
       "      <td>89.68</td>\n",
       "    </tr>\n",
       "  </tbody>\n",
       "</table>\n",
       "</div>"
      ],
      "text/plain": [
       "     t-1    t+1\n",
       "0    NaN  88.29\n",
       "1  88.29  88.66\n",
       "2  88.66  89.00\n",
       "3  89.00  89.38\n",
       "4  89.38  89.68"
      ]
     },
     "execution_count": 36,
     "metadata": {},
     "output_type": "execute_result"
    }
   ],
   "source": [
    "# Create lagged dataset\n",
    "\n",
    "# values_ghi = pd.Series(df_ghi.values)\n",
    "lagged_ghi = pd.concat([df_ghi.shift(1), df_ghi], axis=1)\n",
    "lagged_ghi.columns = ['t-1', 't+1']\n",
    "lagged_ghi.head(5)"
   ]
  },
  {
   "cell_type": "code",
   "execution_count": 107,
   "metadata": {},
   "outputs": [],
   "source": [
    "from sklearn.model_selection import train_test_split\n",
    "\n",
    "# Split into train and test sets\n",
    "\n",
    "X_train = np.load('../raw_data/X_train_copernicus.npz', allow_pickle = True)\n",
    "X_test = np.load('../raw_data/X_test_copernicus.npz')\n",
    "y_train = np.genfromtxt('../raw_data/y_train_zRvpCeO_nQsYtKN.csv')"
   ]
  },
  {
   "cell_type": "code",
   "execution_count": 105,
   "metadata": {},
   "outputs": [
    {
     "data": {
      "text/plain": [
       "['datetime', 'GHI', 'CLS', 'SZA', 'SAA']"
      ]
     },
     "execution_count": 105,
     "metadata": {},
     "output_type": "execute_result"
    }
   ],
   "source": [
    "X_train.files"
   ]
  },
  {
   "cell_type": "code",
   "execution_count": 13,
   "metadata": {},
   "outputs": [
    {
     "name": "stdout",
     "output_type": "stream",
     "text": [
      "(1845, 8, 81, 81)\n",
      "(1846,)\n"
     ]
    }
   ],
   "source": [
    "print(np.shape(X_train['CLS']))\n",
    "print(y_train.shape)"
   ]
  },
  {
   "cell_type": "code",
   "execution_count": 14,
   "metadata": {},
   "outputs": [
    {
     "data": {
      "text/plain": [
       "10404"
      ]
     },
     "execution_count": 14,
     "metadata": {},
     "output_type": "execute_result"
    }
   ],
   "source": [
    "51 * 51 * 4"
   ]
  },
  {
   "cell_type": "code",
   "execution_count": 10,
   "metadata": {},
   "outputs": [
    {
     "data": {
      "text/html": [
       "<div>\n",
       "<style scoped>\n",
       "    .dataframe tbody tr th:only-of-type {\n",
       "        vertical-align: middle;\n",
       "    }\n",
       "\n",
       "    .dataframe tbody tr th {\n",
       "        vertical-align: top;\n",
       "    }\n",
       "\n",
       "    .dataframe thead th {\n",
       "        text-align: right;\n",
       "    }\n",
       "</style>\n",
       "<table border=\"1\" class=\"dataframe\">\n",
       "  <thead>\n",
       "    <tr style=\"text-align: right;\">\n",
       "      <th></th>\n",
       "      <th>id_sequence</th>\n",
       "      <th>0</th>\n",
       "      <th>1</th>\n",
       "      <th>2</th>\n",
       "      <th>3</th>\n",
       "      <th>4</th>\n",
       "      <th>5</th>\n",
       "      <th>6</th>\n",
       "      <th>7</th>\n",
       "      <th>8</th>\n",
       "      <th>...</th>\n",
       "      <th>10394</th>\n",
       "      <th>10395</th>\n",
       "      <th>10396</th>\n",
       "      <th>10397</th>\n",
       "      <th>10398</th>\n",
       "      <th>10399</th>\n",
       "      <th>10400</th>\n",
       "      <th>10401</th>\n",
       "      <th>10402</th>\n",
       "      <th>10403</th>\n",
       "    </tr>\n",
       "  </thead>\n",
       "  <tbody>\n",
       "    <tr>\n",
       "      <th>0</th>\n",
       "      <td>0</td>\n",
       "      <td>247.51</td>\n",
       "      <td>261.68</td>\n",
       "      <td>260.16</td>\n",
       "      <td>262.71</td>\n",
       "      <td>264.28</td>\n",
       "      <td>262.55</td>\n",
       "      <td>257.21</td>\n",
       "      <td>228.88</td>\n",
       "      <td>230.02</td>\n",
       "      <td>...</td>\n",
       "      <td>379.39</td>\n",
       "      <td>379.73</td>\n",
       "      <td>380.07</td>\n",
       "      <td>380.40</td>\n",
       "      <td>380.74</td>\n",
       "      <td>381.08</td>\n",
       "      <td>381.41</td>\n",
       "      <td>381.75</td>\n",
       "      <td>382.08</td>\n",
       "      <td>382.42</td>\n",
       "    </tr>\n",
       "    <tr>\n",
       "      <th>1</th>\n",
       "      <td>1</td>\n",
       "      <td>471.37</td>\n",
       "      <td>476.41</td>\n",
       "      <td>474.55</td>\n",
       "      <td>477.96</td>\n",
       "      <td>479.87</td>\n",
       "      <td>477.65</td>\n",
       "      <td>476.65</td>\n",
       "      <td>482.58</td>\n",
       "      <td>484.80</td>\n",
       "      <td>...</td>\n",
       "      <td>501.29</td>\n",
       "      <td>501.67</td>\n",
       "      <td>502.06</td>\n",
       "      <td>502.45</td>\n",
       "      <td>502.83</td>\n",
       "      <td>503.22</td>\n",
       "      <td>503.60</td>\n",
       "      <td>503.98</td>\n",
       "      <td>504.37</td>\n",
       "      <td>504.75</td>\n",
       "    </tr>\n",
       "    <tr>\n",
       "      <th>2</th>\n",
       "      <td>2</td>\n",
       "      <td>458.39</td>\n",
       "      <td>463.38</td>\n",
       "      <td>461.54</td>\n",
       "      <td>464.88</td>\n",
       "      <td>466.76</td>\n",
       "      <td>464.57</td>\n",
       "      <td>463.57</td>\n",
       "      <td>469.42</td>\n",
       "      <td>471.61</td>\n",
       "      <td>...</td>\n",
       "      <td>386.68</td>\n",
       "      <td>387.06</td>\n",
       "      <td>387.43</td>\n",
       "      <td>387.80</td>\n",
       "      <td>388.18</td>\n",
       "      <td>388.55</td>\n",
       "      <td>388.92</td>\n",
       "      <td>389.30</td>\n",
       "      <td>389.67</td>\n",
       "      <td>390.04</td>\n",
       "    </tr>\n",
       "    <tr>\n",
       "      <th>3</th>\n",
       "      <td>3</td>\n",
       "      <td>223.42</td>\n",
       "      <td>228.37</td>\n",
       "      <td>226.91</td>\n",
       "      <td>229.26</td>\n",
       "      <td>230.75</td>\n",
       "      <td>229.11</td>\n",
       "      <td>228.31</td>\n",
       "      <td>232.80</td>\n",
       "      <td>234.44</td>\n",
       "      <td>...</td>\n",
       "      <td>92.52</td>\n",
       "      <td>92.76</td>\n",
       "      <td>93.00</td>\n",
       "      <td>93.24</td>\n",
       "      <td>93.48</td>\n",
       "      <td>93.73</td>\n",
       "      <td>93.97</td>\n",
       "      <td>94.21</td>\n",
       "      <td>94.45</td>\n",
       "      <td>94.69</td>\n",
       "    </tr>\n",
       "    <tr>\n",
       "      <th>4</th>\n",
       "      <td>4</td>\n",
       "      <td>170.23</td>\n",
       "      <td>137.61</td>\n",
       "      <td>136.96</td>\n",
       "      <td>84.42</td>\n",
       "      <td>54.23</td>\n",
       "      <td>53.53</td>\n",
       "      <td>50.55</td>\n",
       "      <td>70.92</td>\n",
       "      <td>74.24</td>\n",
       "      <td>...</td>\n",
       "      <td>382.01</td>\n",
       "      <td>382.16</td>\n",
       "      <td>382.30</td>\n",
       "      <td>382.44</td>\n",
       "      <td>382.59</td>\n",
       "      <td>382.73</td>\n",
       "      <td>382.88</td>\n",
       "      <td>383.03</td>\n",
       "      <td>383.17</td>\n",
       "      <td>383.32</td>\n",
       "    </tr>\n",
       "  </tbody>\n",
       "</table>\n",
       "<p>5 rows × 10405 columns</p>\n",
       "</div>"
      ],
      "text/plain": [
       "   id_sequence       0       1       2       3       4       5       6  \\\n",
       "0            0  247.51  261.68  260.16  262.71  264.28  262.55  257.21   \n",
       "1            1  471.37  476.41  474.55  477.96  479.87  477.65  476.65   \n",
       "2            2  458.39  463.38  461.54  464.88  466.76  464.57  463.57   \n",
       "3            3  223.42  228.37  226.91  229.26  230.75  229.11  228.31   \n",
       "4            4  170.23  137.61  136.96   84.42   54.23   53.53   50.55   \n",
       "\n",
       "        7       8  ...   10394   10395   10396   10397   10398   10399  \\\n",
       "0  228.88  230.02  ...  379.39  379.73  380.07  380.40  380.74  381.08   \n",
       "1  482.58  484.80  ...  501.29  501.67  502.06  502.45  502.83  503.22   \n",
       "2  469.42  471.61  ...  386.68  387.06  387.43  387.80  388.18  388.55   \n",
       "3  232.80  234.44  ...   92.52   92.76   93.00   93.24   93.48   93.73   \n",
       "4   70.92   74.24  ...  382.01  382.16  382.30  382.44  382.59  382.73   \n",
       "\n",
       "    10400   10401   10402   10403  \n",
       "0  381.41  381.75  382.08  382.42  \n",
       "1  503.60  503.98  504.37  504.75  \n",
       "2  388.92  389.30  389.67  390.04  \n",
       "3   93.97   94.21   94.45   94.69  \n",
       "4  382.88  383.03  383.17  383.32  \n",
       "\n",
       "[5 rows x 10405 columns]"
      ]
     },
     "execution_count": 10,
     "metadata": {},
     "output_type": "execute_result"
    }
   ],
   "source": [
    "df = pd.read_csv('../raw_data/y_train_zRvpCeO_nQsYtKN.csv')\n",
    "df.head()"
   ]
  },
  {
   "cell_type": "code",
   "execution_count": 19,
   "metadata": {},
   "outputs": [
    {
     "data": {
      "text/plain": [
       "(1845, 4, 51, 51)"
      ]
     },
     "execution_count": 19,
     "metadata": {},
     "output_type": "execute_result"
    }
   ],
   "source": [
    "y_train_df = get_4D_output(df)\n",
    "y_train_df.shape"
   ]
  },
  {
   "cell_type": "code",
   "execution_count": 53,
   "metadata": {},
   "outputs": [
    {
     "name": "stdout",
     "output_type": "stream",
     "text": [
      "(3, 3)\n",
      "(3,)\n"
     ]
    }
   ],
   "source": [
    "A = np.array([[0, 1, 2], [0, 2, 0]])\n",
    "newrow = [1, 2, 3]\n",
    "A = np.vstack([A, newrow])\n",
    "print(np.shape(A))\n",
    "print(np.shape(newrow))"
   ]
  },
  {
   "cell_type": "code",
   "execution_count": 59,
   "metadata": {},
   "outputs": [
    {
     "name": "stdout",
     "output_type": "stream",
     "text": [
      "(4, 81, 81)\n",
      "(81, 81)\n"
     ]
    }
   ],
   "source": [
    "print(X_train['GHI'][0].shape)\n",
    "print(X_train['GHI'][0][3].shape)"
   ]
  },
  {
   "cell_type": "code",
   "execution_count": 77,
   "metadata": {},
   "outputs": [
    {
     "name": "stdout",
     "output_type": "stream",
     "text": [
      "(4, 81, 81)\n",
      "(1, 81, 81)\n",
      "(5, 81, 81)\n",
      "(81, 81)\n"
     ]
    }
   ],
   "source": [
    "# We want to add a layer that is identical to the previous layer\n",
    "# X_train['GHI'][0].shape = 4, 81, 81\n",
    "# X_train['GHI'][0].shape = 8, 81, 81 with 5 - 8 being identical to 4\n",
    "\n",
    "#Create temporary variable that will equal new layer\n",
    "_ = np.expand_dims(X_train['GHI'][0][3], axis = 0)\n",
    "\n",
    "# Checking structure of where we are\n",
    "print(np.shape(X_train['GHI'][0]))\n",
    "print(np.shape(_))\n",
    "\n",
    "# Stacking new layer onto original array\n",
    "_new_layer = np.vstack((X_train['GHI'][0], _))\n",
    "\n",
    "# Double checking that new layer was added\n",
    "print(np.shape(_new_layer))\n",
    "print(np.shape(_new_layer[0]))\n",
    "\n",
    "# Checking the contents\n",
    "# print(_new_layer[2] - _new_layer[4])"
   ]
  },
  {
   "cell_type": "code",
   "execution_count": 114,
   "metadata": {},
   "outputs": [],
   "source": [
    "# Create a function to get 8 timestamps for each observation\n",
    "\n",
    "def add_dumb_layers(observation):\n",
    "    '''Takes a timestamp and duplicates four times for comeplete GHI datasets''' \n",
    "    \n",
    "    new_layer = np.expand_dims(X_train['GHI'][observation][3], axis = 0)\n",
    "    z = X_train['GHI'][observation]\n",
    "\n",
    "    # print(z.shape)\n",
    "\n",
    "    for i in range(4):\n",
    "        z = np.vstack((z, new_layer))\n",
    "        # print(z.shape)\n",
    "    return z[4:8, :, :]"
   ]
  },
  {
   "cell_type": "code",
   "execution_count": 115,
   "metadata": {},
   "outputs": [
    {
     "data": {
      "text/plain": [
       "(4, 81, 81)"
      ]
     },
     "execution_count": 115,
     "metadata": {},
     "output_type": "execute_result"
    }
   ],
   "source": [
    "z = add_dumb_layers(0)\n",
    "z.shape"
   ]
  },
  {
   "cell_type": "code",
   "execution_count": 116,
   "metadata": {},
   "outputs": [
    {
     "data": {
      "text/plain": [
       "['datetime', 'GHI', 'CLS', 'SZA', 'SAA']"
      ]
     },
     "execution_count": 116,
     "metadata": {},
     "output_type": "execute_result"
    }
   ],
   "source": [
    "X_train.files"
   ]
  },
  {
   "cell_type": "code",
   "execution_count": 122,
   "metadata": {},
   "outputs": [
    {
     "data": {
      "text/plain": [
       "(1845, 4, 81, 81)"
      ]
     },
     "execution_count": 122,
     "metadata": {},
     "output_type": "execute_result"
    }
   ],
   "source": [
    "# Build a for loop for the total number of observations\n",
    "\n",
    "y_train_pred = np.zeros((1845,4,81,81))\n",
    "\n",
    "for observation in range(len(X_train['datetime'])):\n",
    "    y_train_pred[observation] = add_dumb_layers(observation)\n",
    "\n",
    "np.shape(y_train_pred)"
   ]
  },
  {
   "cell_type": "markdown",
   "metadata": {},
   "source": []
  },
  {
   "cell_type": "code",
   "execution_count": 113,
   "metadata": {},
   "outputs": [
    {
     "data": {
      "text/plain": [
       "(1845, 4, 81, 81)"
      ]
     },
     "execution_count": 113,
     "metadata": {},
     "output_type": "execute_result"
    }
   ],
   "source": [
    "np.shape(X_train['GHI'])"
   ]
  },
  {
   "cell_type": "code",
   "execution_count": 21,
   "metadata": {},
   "outputs": [],
   "source": [
    "# from sklearn.metrics import mean_squared_error\n",
    "\n",
    "# def model_persistence(X):\n",
    "#     return X\n",
    "\n",
    "# # Validation\n",
    "\n",
    "# predictions = list()\n",
    "\n",
    "# for x in X_test:\n",
    "# \ty_hat = model_persistence(x)\n",
    "# \tpredictions.append(y_hat)\n",
    " \n",
    "# test_score = mean_squared_error(y_train_df, predictions)\n",
    "# print('Test MSE: %.3f' % test_score)"
   ]
  }
 ],
 "metadata": {
  "kernelspec": {
   "display_name": "Python 3.8.12 64-bit ('shims')",
   "language": "python",
   "name": "python3"
  },
  "language_info": {
   "codemirror_mode": {
    "name": "ipython",
    "version": 3
   },
   "file_extension": ".py",
   "mimetype": "text/x-python",
   "name": "python",
   "nbconvert_exporter": "python",
   "pygments_lexer": "ipython3",
   "version": "3.8.12"
  },
  "orig_nbformat": 4,
  "vscode": {
   "interpreter": {
    "hash": "976e55246a6e2013b266e0d3c493866f23aa5c19ba7d6f2c00b408cec6703c40"
   }
  }
 },
 "nbformat": 4,
 "nbformat_minor": 2
}
