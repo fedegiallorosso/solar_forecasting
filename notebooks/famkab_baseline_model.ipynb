{
 "cells": [
  {
   "cell_type": "code",
   "execution_count": 3,
   "metadata": {},
   "outputs": [],
   "source": [
    "import numpy as np\n",
    "import pandas as pd\n",
    "import matplotlib.pyplot as plt\n",
    "import seaborn as sns\n",
    "import datetime as dt\n",
    "\n",
    "from sklearn.metrics import mean_absolute_error\n",
    "# from solar_forecasting.data_sources import get_data"
   ]
  },
  {
   "cell_type": "code",
   "execution_count": 4,
   "metadata": {},
   "outputs": [],
   "source": [
    "from google.cloud import storage\n",
    "\n",
    "def download_file(bucket_name = 'train_data_solar_project',\n",
    "                              blob_name = 'X_train_copernicus.npz', \n",
    "                              download_to_disk = False, \n",
    "                              destination_file_name = '../raw_data/data.npz'):\n",
    "    \n",
    "    \"\"\"Download a file from Google Cloud Storage. \n",
    "    If download_to_disk = False then it will save to memory.  \n",
    "    If download_to_disk = True then it will save to your local disk.\n",
    "    \"\"\"\n",
    "    \n",
    "    storage_client = storage.Client()\n",
    "\n",
    "    bucket = storage_client.bucket(bucket_name)\n",
    "\n",
    "    blob = bucket.blob(blob_name)\n",
    "    \n",
    "    if download_to_disk == True:\n",
    "        \n",
    "        blob.download_to_filename(destination_file_name)\n",
    "        print(\n",
    "            \"Downloaded storage object {} from bucket {} to local file {}.\".format(\n",
    "            blob_name, bucket_name, destination_file_name\n",
    "        )\n",
    "    )\n",
    "\n",
    "    if download_to_disk == False:\n",
    "\n",
    "        contents = blob.download_as_string()\n",
    "\n",
    "        print(\"Downloaded storage object {} from bucket {} as the following string: {}.\".format(\n",
    "            blob_name, bucket_name, contents\n",
    "        )\n",
    "    )\n",
    "        \n",
    "    return "
   ]
  },
  {
   "cell_type": "code",
   "execution_count": 5,
   "metadata": {},
   "outputs": [
    {
     "name": "stdout",
     "output_type": "stream",
     "text": [
      "Downloaded storage object X_train_copernicus.npz from bucket train_data_solar_project to local file ../raw_data/baseline.npz.\n"
     ]
    }
   ],
   "source": [
    "download_file(\n",
    "    download_to_disk = True, \n",
    "    destination_file_name = '../raw_data/baseline.npz')"
   ]
  },
  {
   "cell_type": "code",
   "execution_count": 6,
   "metadata": {},
   "outputs": [],
   "source": [
    "data = np.load('../raw_data/baseline.npz')"
   ]
  },
  {
   "cell_type": "code",
   "execution_count": 7,
   "metadata": {},
   "outputs": [
    {
     "data": {
      "text/plain": [
       "['datetime', 'GHI', 'CLS', 'SZA', 'SAA']"
      ]
     },
     "execution_count": 7,
     "metadata": {},
     "output_type": "execute_result"
    }
   ],
   "source": [
    "data.files"
   ]
  },
  {
   "cell_type": "code",
   "execution_count": 32,
   "metadata": {},
   "outputs": [],
   "source": [
    "G = data['GHI']\n",
    "C = data['CLS']\n",
    "Z = data['SZA']\n",
    "A = data['SAA']"
   ]
  },
  {
   "cell_type": "code",
   "execution_count": 33,
   "metadata": {},
   "outputs": [
    {
     "data": {
      "text/plain": [
       "0"
      ]
     },
     "execution_count": 33,
     "metadata": {},
     "output_type": "execute_result"
    }
   ],
   "source": [
    "total_ghi = 0\n",
    "stat_ghi = []\n",
    "\n",
    "for x in range(G.shape[0]):\n",
    "    for y in range(G.shape[1]):\n",
    "        for z in range(G.shape[2]):\n",
    "            for t in range(G.shape[3]):\n",
    "                stat_ghi.append(G[x,y,z,t])\n",
    "                if type(G[x,y,z,t]) != np.float64:\n",
    "                    total_ghi+=1\n",
    "total_ghi"
   ]
  },
  {
   "cell_type": "code",
   "execution_count": 10,
   "metadata": {},
   "outputs": [
    {
     "data": {
      "text/plain": [
       "0"
      ]
     },
     "execution_count": 10,
     "metadata": {},
     "output_type": "execute_result"
    }
   ],
   "source": [
    "total_cls = 0\n",
    "stat_cls = []\n",
    "\n",
    "for x in range(C.shape[0]):\n",
    "    for y in range(C.shape[1]):\n",
    "        for z in range(C.shape[2]):\n",
    "            for t in range (C.shape[3]):\n",
    "                stat_cls.append(C[x,y,z,t])\n",
    "                if type(C[x,y,z,t]) != np.float64:\n",
    "                    total_cls+=1\n",
    "total_cls"
   ]
  },
  {
   "cell_type": "code",
   "execution_count": 11,
   "metadata": {},
   "outputs": [
    {
     "data": {
      "text/plain": [
       "0"
      ]
     },
     "execution_count": 11,
     "metadata": {},
     "output_type": "execute_result"
    }
   ],
   "source": [
    "total_sza = 0\n",
    "stat_sza = []\n",
    "\n",
    "for x in range(Z.shape[0]):\n",
    "    for y in range(Z.shape[1]):\n",
    "        for z in range(Z.shape[2]):\n",
    "            for t in range(Z.shape[3]):\n",
    "                stat_sza.append(Z[x,y,z,t])\n",
    "                if type(Z[x,y,z,t]) != np.float64:\n",
    "                    total_sza+=1\n",
    "total_sza"
   ]
  },
  {
   "cell_type": "code",
   "execution_count": 12,
   "metadata": {},
   "outputs": [
    {
     "data": {
      "text/plain": [
       "0"
      ]
     },
     "execution_count": 12,
     "metadata": {},
     "output_type": "execute_result"
    }
   ],
   "source": [
    "total_saa = 0\n",
    "stat_saa = []\n",
    "\n",
    "for x in range(A.shape[0]):\n",
    "    for y in range(A.shape[1]):\n",
    "        for z in range(A.shape[2]):\n",
    "            for t in range(A.shape[3]):\n",
    "                stat_saa.append(A[x,y,z,t])\n",
    "                if type(A[x,y,z,t]) != np.float64:\n",
    "                    total_saa+=1\n",
    "total_saa"
   ]
  },
  {
   "cell_type": "code",
   "execution_count": 13,
   "metadata": {},
   "outputs": [],
   "source": [
    "df_ghi = pd.DataFrame(stat_ghi, columns=['GHI'])\n",
    "df_cls = pd.DataFrame(stat_cls, columns=['CLS'])\n",
    "df_sza = pd.DataFrame(stat_sza, columns=['SZA'])\n",
    "df_saa = pd.DataFrame(stat_saa, columns=['SAA'])"
   ]
  },
  {
   "cell_type": "code",
   "execution_count": 14,
   "metadata": {},
   "outputs": [
    {
     "data": {
      "text/html": [
       "<div>\n",
       "<style scoped>\n",
       "    .dataframe tbody tr th:only-of-type {\n",
       "        vertical-align: middle;\n",
       "    }\n",
       "\n",
       "    .dataframe tbody tr th {\n",
       "        vertical-align: top;\n",
       "    }\n",
       "\n",
       "    .dataframe thead th {\n",
       "        text-align: right;\n",
       "    }\n",
       "</style>\n",
       "<table border=\"1\" class=\"dataframe\">\n",
       "  <thead>\n",
       "    <tr style=\"text-align: right;\">\n",
       "      <th></th>\n",
       "      <th>GHI</th>\n",
       "    </tr>\n",
       "  </thead>\n",
       "  <tbody>\n",
       "    <tr>\n",
       "      <th>0</th>\n",
       "      <td>88.29</td>\n",
       "    </tr>\n",
       "    <tr>\n",
       "      <th>1</th>\n",
       "      <td>88.66</td>\n",
       "    </tr>\n",
       "  </tbody>\n",
       "</table>\n",
       "</div>"
      ],
      "text/plain": [
       "     GHI\n",
       "0  88.29\n",
       "1  88.66"
      ]
     },
     "execution_count": 14,
     "metadata": {},
     "output_type": "execute_result"
    }
   ],
   "source": [
    "df_ghi.head(2)"
   ]
  },
  {
   "cell_type": "code",
   "execution_count": 15,
   "metadata": {},
   "outputs": [
    {
     "data": {
      "text/html": [
       "<div>\n",
       "<style scoped>\n",
       "    .dataframe tbody tr th:only-of-type {\n",
       "        vertical-align: middle;\n",
       "    }\n",
       "\n",
       "    .dataframe tbody tr th {\n",
       "        vertical-align: top;\n",
       "    }\n",
       "\n",
       "    .dataframe thead th {\n",
       "        text-align: right;\n",
       "    }\n",
       "</style>\n",
       "<table border=\"1\" class=\"dataframe\">\n",
       "  <thead>\n",
       "    <tr style=\"text-align: right;\">\n",
       "      <th></th>\n",
       "      <th>CLS</th>\n",
       "    </tr>\n",
       "  </thead>\n",
       "  <tbody>\n",
       "    <tr>\n",
       "      <th>0</th>\n",
       "      <td>99.87</td>\n",
       "    </tr>\n",
       "    <tr>\n",
       "      <th>1</th>\n",
       "      <td>100.27</td>\n",
       "    </tr>\n",
       "  </tbody>\n",
       "</table>\n",
       "</div>"
      ],
      "text/plain": [
       "      CLS\n",
       "0   99.87\n",
       "1  100.27"
      ]
     },
     "execution_count": 15,
     "metadata": {},
     "output_type": "execute_result"
    }
   ],
   "source": [
    "df_cls.head(2)"
   ]
  },
  {
   "cell_type": "code",
   "execution_count": 29,
   "metadata": {},
   "outputs": [],
   "source": [
    "# Define supervised learning problem, create lagged dataset\n",
    "\n",
    "# values_ghi = pd.Series(df_ghi.values)\n",
    "# lagged_ghi = pd.concat([values_ghi.shift(1), values_ghi], axis=1)\n",
    "# lagged_ghi.columns = ['t-1', 't+1']\n",
    "# lagged_ghi.head(5)"
   ]
  },
  {
   "cell_type": "code",
   "execution_count": 34,
   "metadata": {},
   "outputs": [],
   "source": [
    "# from sklearn.model_selection import train_test_split\n",
    "\n",
    "# # Split into train and test sets\n",
    "# X = \n",
    "# y = \n",
    "\n",
    "# X_train, X_test, y_train, y_test = train_test_split(X, y, test_size=0.33, random_state=42)"
   ]
  },
  {
   "cell_type": "code",
   "execution_count": null,
   "metadata": {},
   "outputs": [],
   "source": [
    "# # Persistance model\n",
    "\n",
    "# def model_persistence(X):\n",
    "    \n",
    "#     return X\n",
    "\n",
    "# # Validation\n",
    "\n",
    "# predictions = list()\n",
    "\n",
    "# for x in test_X:\n",
    "# \ty_hat = model_persistence(x)\n",
    "# \tpredictions.append(y_hat)\n",
    " \n",
    "# test_score = mean_squared_error(test_y, predictions)\n",
    "\n",
    "# print('Test MSE: %.3f' % test_score)"
   ]
  }
 ],
 "metadata": {
  "kernelspec": {
   "display_name": "Python 3.8.12 64-bit ('shims')",
   "language": "python",
   "name": "python3"
  },
  "language_info": {
   "codemirror_mode": {
    "name": "ipython",
    "version": 3
   },
   "file_extension": ".py",
   "mimetype": "text/x-python",
   "name": "python",
   "nbconvert_exporter": "python",
   "pygments_lexer": "ipython3",
   "version": "3.8.12"
  },
  "orig_nbformat": 4,
  "vscode": {
   "interpreter": {
    "hash": "976e55246a6e2013b266e0d3c493866f23aa5c19ba7d6f2c00b408cec6703c40"
   }
  }
 },
 "nbformat": 4,
 "nbformat_minor": 2
}
