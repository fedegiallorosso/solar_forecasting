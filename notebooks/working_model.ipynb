{
 "cells": [
  {
   "cell_type": "code",
   "execution_count": 2,
   "metadata": {},
   "outputs": [
    {
     "name": "stderr",
     "output_type": "stream",
     "text": [
      "2022-12-06 18:50:59.540842: I tensorflow/core/platform/cpu_feature_guard.cc:193] This TensorFlow binary is optimized with oneAPI Deep Neural Network Library (oneDNN) to use the following CPU instructions in performance-critical operations:  AVX2 FMA\n",
      "To enable them in other operations, rebuild TensorFlow with the appropriate compiler flags.\n",
      "2022-12-06 18:51:02.475451: W tensorflow/compiler/xla/stream_executor/platform/default/dso_loader.cc:64] Could not load dynamic library 'libcudart.so.11.0'; dlerror: libcudart.so.11.0: cannot open shared object file: No such file or directory\n",
      "2022-12-06 18:51:02.475641: I tensorflow/compiler/xla/stream_executor/cuda/cudart_stub.cc:29] Ignore above cudart dlerror if you do not have a GPU set up on your machine.\n",
      "2022-12-06 18:51:10.735005: W tensorflow/compiler/xla/stream_executor/platform/default/dso_loader.cc:64] Could not load dynamic library 'libnvinfer.so.7'; dlerror: libnvinfer.so.7: cannot open shared object file: No such file or directory\n",
      "2022-12-06 18:51:10.735673: W tensorflow/compiler/xla/stream_executor/platform/default/dso_loader.cc:64] Could not load dynamic library 'libnvinfer_plugin.so.7'; dlerror: libnvinfer_plugin.so.7: cannot open shared object file: No such file or directory\n",
      "2022-12-06 18:51:10.735702: W tensorflow/compiler/tf2tensorrt/utils/py_utils.cc:38] TF-TRT Warning: Cannot dlopen some TensorRT libraries. If you would like to use Nvidia GPU with TensorRT, please make sure the missing libraries mentioned above are installed properly.\n"
     ]
    }
   ],
   "source": [
    "import numpy as np\n",
    "import matplotlib.pyplot as plt\n",
    "import pandas as pd\n",
    "from tensorflow import keras\n",
    "from tensorflow.keras import layers\n",
    "from transform_output_format import get_2D_output, get_4D_output"
   ]
  },
  {
   "cell_type": "code",
   "execution_count": 3,
   "metadata": {},
   "outputs": [],
   "source": [
    "# Load data from raw_data\n",
    "data = np.load('../raw_data/baseline.npz', allow_pickle=True)"
   ]
  },
  {
   "cell_type": "code",
   "execution_count": 4,
   "metadata": {},
   "outputs": [],
   "source": [
    "y = pd.read_csv('../raw_data/y_train.csv')"
   ]
  },
  {
   "cell_type": "code",
   "execution_count": 5,
   "metadata": {},
   "outputs": [
    {
     "name": "stdout",
     "output_type": "stream",
     "text": [
      "(1845, 4, 51, 51)\n"
     ]
    }
   ],
   "source": [
    "y=get_4D_output(y)\n",
    "print(y.shape)"
   ]
  },
  {
   "cell_type": "code",
   "execution_count": 6,
   "metadata": {},
   "outputs": [],
   "source": [
    "GHI=data['GHI']\n",
    "CLS=data['CLS']"
   ]
  },
  {
   "cell_type": "code",
   "execution_count": 32,
   "metadata": {},
   "outputs": [
    {
     "data": {
      "text/plain": [
       "(8, 4, 51, 51, 2)"
      ]
     },
     "execution_count": 32,
     "metadata": {},
     "output_type": "execute_result"
    }
   ],
   "source": [
    "X_train=np.zeros((8,4,51,51,2))\n",
    "for j in range (8):\n",
    "    for i in range (4):\n",
    "        for k in range (51):\n",
    "            for h in range (51):\n",
    "                for z in range (2):\n",
    "                    if z==0:\n",
    "                        X_train[j,i,k,h,z]=GHI[j,i,k+15,h+15]\n",
    "                    if z==1:\n",
    "                        X_train[j,i,k,h,z]=CLS[j,i,k+15,h+15]\n",
    "                                                         \n",
    "X_train.shape"
   ]
  },
  {
   "cell_type": "code",
   "execution_count": 33,
   "metadata": {},
   "outputs": [
    {
     "data": {
      "text/plain": [
       "(4, 4, 51, 51, 2)"
      ]
     },
     "execution_count": 33,
     "metadata": {},
     "output_type": "execute_result"
    }
   ],
   "source": [
    "X_val=np.zeros((4,4,51,51,2))\n",
    "for j in range (4):\n",
    "    for i in range (4):\n",
    "        for k in range (51):\n",
    "            for h in range (51):\n",
    "                for z in range (2):\n",
    "                    if z==0:\n",
    "                        X_val[j,i,k,h,z]=GHI[j+8,i,k+15,h+15]\n",
    "                    if z==1:\n",
    "                        X_val[j,i,k,h,z]=CLS[j+8,i,k+15,h+15]\n",
    "                                \n",
    "X_val.shape"
   ]
  },
  {
   "cell_type": "code",
   "execution_count": 34,
   "metadata": {},
   "outputs": [
    {
     "data": {
      "text/plain": [
       "(8, 4, 51, 51, 2)"
      ]
     },
     "execution_count": 34,
     "metadata": {},
     "output_type": "execute_result"
    }
   ],
   "source": [
    "y_train=np.zeros((8,4,51,51,2))\n",
    "for j in range (8):\n",
    "    for i in range (4):\n",
    "        for k in range (51):\n",
    "            for h in range (51):\n",
    "                for z in range (2):\n",
    "                    if z==0:\n",
    "                        y_train[j,i,k,h,z]=y[j+8,i,k,h]\n",
    "                    if z==1:\n",
    "                        y_train[j,i,k,h,z]=y[j+8,i,k,h]\n",
    "y_train.shape"
   ]
  },
  {
   "cell_type": "code",
   "execution_count": 35,
   "metadata": {},
   "outputs": [
    {
     "data": {
      "text/plain": [
       "(4, 4, 51, 51, 2)"
      ]
     },
     "execution_count": 35,
     "metadata": {},
     "output_type": "execute_result"
    }
   ],
   "source": [
    "y_val=np.zeros((4,4,51,51,2))\n",
    "for j in range (4):\n",
    "    for i in range (4):\n",
    "        for k in range (51):\n",
    "            for h in range (51):\n",
    "                for z in range (2):\n",
    "                    if z==0:\n",
    "                        y_val[j,i,k,h,z]=y[j+4,i,k,h]\n",
    "                    if z==1:\n",
    "                        y_val[j,i,k,h,z]=y[j+4,i,k,h]\n",
    "y_val.shape"
   ]
  },
  {
   "cell_type": "code",
   "execution_count": 36,
   "metadata": {},
   "outputs": [],
   "source": [
    "inp=layers.Input(shape=(None, *X_train.shape[2:]))\n",
    "\n",
    "x= layers.ConvLSTM2D(filters=64, kernel_size=(5,5), \n",
    "                     padding='same',\n",
    "                     return_sequences=True, \n",
    "                     activation='relu',\n",
    "                    )(inp)\n",
    "#x=layers.BatchNormalization()(x)\n",
    "x=layers.Conv3D(filters=1, kernel_size=(3,3,3),\n",
    "                activation=\"relu\", \n",
    "                padding=\"same\")(x)\n",
    "model=keras.models.Model(inp,x)\n",
    "#model.compile(loss=keras.losses.binary_crossentropy,optimizer=keras.optimizers.Adam(),              )\n",
    "model.compile(optimizer=keras.optimizers.Adam(), loss=keras.losses.MeanAbsoluteError())\n"
   ]
  },
  {
   "cell_type": "code",
   "execution_count": 37,
   "metadata": {},
   "outputs": [
    {
     "name": "stdout",
     "output_type": "stream",
     "text": [
      "Epoch 1/20\n",
      "2/2 [==============================] - 42s 10s/step - loss: 289.4596 - val_loss: 210.4086 - lr: 0.0010\n",
      "Epoch 2/20\n",
      "2/2 [==============================] - 21s 9s/step - loss: 188.7015 - val_loss: 152.1138 - lr: 0.0010\n",
      "Epoch 3/20\n",
      "2/2 [==============================] - 20s 9s/step - loss: 170.0632 - val_loss: 134.0684 - lr: 0.0010\n",
      "Epoch 4/20\n",
      "2/2 [==============================] - 20s 9s/step - loss: 137.7103 - val_loss: 130.0598 - lr: 0.0010\n",
      "Epoch 5/20\n",
      "2/2 [==============================] - 22s 9s/step - loss: 153.4682 - val_loss: 137.5116 - lr: 0.0010\n",
      "Epoch 6/20\n",
      "2/2 [==============================] - 20s 8s/step - loss: 148.8814 - val_loss: 150.6553 - lr: 0.0010\n",
      "Epoch 7/20\n",
      "2/2 [==============================] - 20s 9s/step - loss: 147.0659 - val_loss: 143.5582 - lr: 0.0010\n",
      "Epoch 8/20\n",
      "2/2 [==============================] - 20s 8s/step - loss: 121.5894 - val_loss: 123.9982 - lr: 0.0010\n",
      "Epoch 9/20\n",
      "2/2 [==============================] - 23s 9s/step - loss: 138.8013 - val_loss: 132.4500 - lr: 0.0010\n",
      "Epoch 10/20\n",
      "2/2 [==============================] - 16s 7s/step - loss: 135.4515 - val_loss: 131.6024 - lr: 0.0010\n",
      "Epoch 11/20\n",
      "2/2 [==============================] - 17s 8s/step - loss: 128.3982 - val_loss: 134.0246 - lr: 0.0010\n",
      "Epoch 12/20\n",
      "2/2 [==============================] - 17s 7s/step - loss: 128.6996 - val_loss: 126.7259 - lr: 0.0010\n",
      "Epoch 13/20\n",
      "2/2 [==============================] - 16s 7s/step - loss: 128.1712 - val_loss: 125.6526 - lr: 0.0010\n",
      "Epoch 14/20\n",
      "2/2 [==============================] - 23s 9s/step - loss: 120.4229 - val_loss: 125.1528 - lr: 1.0000e-04\n",
      "Epoch 15/20\n",
      "2/2 [==============================] - 22s 9s/step - loss: 118.1220 - val_loss: 124.3069 - lr: 1.0000e-04\n",
      "Epoch 16/20\n",
      "2/2 [==============================] - 20s 9s/step - loss: 117.2670 - val_loss: 124.8001 - lr: 1.0000e-04\n",
      "Epoch 17/20\n",
      "2/2 [==============================] - 20s 9s/step - loss: 116.8230 - val_loss: 124.7910 - lr: 1.0000e-04\n",
      "Epoch 18/20\n",
      "2/2 [==============================] - 18s 8s/step - loss: 115.8824 - val_loss: 123.5513 - lr: 1.0000e-04\n",
      "Epoch 19/20\n",
      "2/2 [==============================] - 18s 8s/step - loss: 113.7542 - val_loss: 120.5418 - lr: 1.0000e-04\n",
      "Epoch 20/20\n",
      "2/2 [==============================] - 19s 9s/step - loss: 113.3124 - val_loss: 118.2877 - lr: 1.0000e-04\n"
     ]
    }
   ],
   "source": [
    "#Define some callbacks to improve training\n",
    "early_stopping=keras.callbacks.EarlyStopping(monitor=\"val_loss\", patience=10)\n",
    "reduce_lr=keras.callbacks.ReduceLROnPlateau(monitor=\"val_loss\", patience=5)\n",
    "\n",
    "#Define modificable training hyperparameters\n",
    "epochs=20\n",
    "batch_size=5\n",
    "\n",
    "#Fit the model to the training data\n",
    "history=model.fit(X_train,\n",
    "    y_train,\n",
    "    batch_size=batch_size,\n",
    "    epochs=epochs,\n",
    "    validation_data=(X_val, y_val),\n",
    "    callbacks=[early_stopping, reduce_lr], verbose=1\n",
    ")\n",
    "\n"
   ]
  },
  {
   "cell_type": "code",
   "execution_count": 38,
   "metadata": {},
   "outputs": [
    {
     "data": {
      "text/plain": [
       "{'loss': [289.4595947265625,\n",
       "  188.70147705078125,\n",
       "  170.06324768066406,\n",
       "  137.71029663085938,\n",
       "  153.46817016601562,\n",
       "  148.88143920898438,\n",
       "  147.06588745117188,\n",
       "  121.58942413330078,\n",
       "  138.80126953125,\n",
       "  135.45147705078125,\n",
       "  128.39822387695312,\n",
       "  128.69964599609375,\n",
       "  128.17120361328125,\n",
       "  120.42286682128906,\n",
       "  118.12195587158203,\n",
       "  117.26702117919922,\n",
       "  116.82295227050781,\n",
       "  115.88235473632812,\n",
       "  113.75418090820312,\n",
       "  113.31243896484375],\n",
       " 'val_loss': [210.4086151123047,\n",
       "  152.1138458251953,\n",
       "  134.06838989257812,\n",
       "  130.059814453125,\n",
       "  137.51161193847656,\n",
       "  150.65525817871094,\n",
       "  143.5581512451172,\n",
       "  123.99823760986328,\n",
       "  132.45004272460938,\n",
       "  131.60240173339844,\n",
       "  134.02462768554688,\n",
       "  126.72592163085938,\n",
       "  125.652587890625,\n",
       "  125.15284729003906,\n",
       "  124.30694580078125,\n",
       "  124.80012512207031,\n",
       "  124.79100799560547,\n",
       "  123.55132293701172,\n",
       "  120.54183197021484,\n",
       "  118.28768157958984],\n",
       " 'lr': [0.001,\n",
       "  0.001,\n",
       "  0.001,\n",
       "  0.001,\n",
       "  0.001,\n",
       "  0.001,\n",
       "  0.001,\n",
       "  0.001,\n",
       "  0.001,\n",
       "  0.001,\n",
       "  0.001,\n",
       "  0.001,\n",
       "  0.001,\n",
       "  0.000100000005,\n",
       "  0.000100000005,\n",
       "  0.000100000005,\n",
       "  0.000100000005,\n",
       "  0.000100000005,\n",
       "  0.000100000005,\n",
       "  0.000100000005]}"
      ]
     },
     "execution_count": 38,
     "metadata": {},
     "output_type": "execute_result"
    }
   ],
   "source": [
    "history.history"
   ]
  },
  {
   "cell_type": "code",
   "execution_count": 39,
   "metadata": {},
   "outputs": [
    {
     "name": "stdout",
     "output_type": "stream",
     "text": [
      "dict_keys(['loss', 'val_loss', 'lr'])\n"
     ]
    },
    {
     "data": {
      "image/png": "[encoded data removed]",
      "text/plain": [
       "<Figure size 640x480 with 1 Axes>"
      ]
     },
     "metadata": {},
     "output_type": "display_data"
    }
   ],
   "source": [
    "# list all data in history\n",
    "print(history.history.keys())\n",
    "# summarize history for accuracy\n",
    "#plt.plot(history.history['loss'])\n",
    "#plt.plot(history.history['val_loss'])\n",
    "#plt.title('model accuracy')\n",
    "#plt.ylabel('accuracy')\n",
    "#plt.xlabel('epoch')\n",
    "#plt.legend(['train', 'test'], loc='upper left')\n",
    "#plt.show()\n",
    "# summarize history for loss\n",
    "plt.plot(history.history['loss'])\n",
    "plt.plot(history.history['val_loss'])\n",
    "plt.title('model loss')\n",
    "plt.ylabel('loss')\n",
    "plt.xlabel('epoch')\n",
    "plt.legend(['train', 'test'], loc='upper left')\n",
    "plt.show()\n"
   ]
  }
 ],
 "metadata": {
  "kernelspec": {
   "display_name": "Python 3.8.12 64-bit ('solar_forecasting')",
   "language": "python",
   "name": "python3"
  },
  "language_info": {
   "codemirror_mode": {
    "name": "ipython",
    "version": 3
   },
   "file_extension": ".py",
   "mimetype": "text/x-python",
   "name": "python",
   "nbconvert_exporter": "python",
   "pygments_lexer": "ipython3",
   "version": "3.8.12"
  },
  "orig_nbformat": 4,
  "vscode": {
   "interpreter": {
    "hash": "d4fef1b78ec294c6d31d832fa9795b7918380dad51587c4a9a786a1aa7e3adc9"
   }
  }
 },
 "nbformat": 4,
 "nbformat_minor": 2
}
