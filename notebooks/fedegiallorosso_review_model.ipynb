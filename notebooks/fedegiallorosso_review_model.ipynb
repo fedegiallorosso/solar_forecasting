{
 "cells": [
  {
   "cell_type": "code",
   "execution_count": 6,
   "metadata": {},
   "outputs": [],
   "source": [
    "#import datetime\n",
    "import numpy as np\n",
    "#import matplotlib.pyplot as plt\n",
    "#import pandas as pd\n",
    "#from mpl_toolkits.axes_grid1 import make_axes_locatable\n",
    "from tensorflow import keras\n",
    "from tensorflow.keras import layers\n",
    "#from transform_output_format import get_2D_output, get_4D_output\n",
    "\n",
    "#pd.set_option ('display.max_columns', None)"
   ]
  },
  {
   "cell_type": "code",
   "execution_count": 7,
   "metadata": {},
   "outputs": [],
   "source": [
    "# Load data from raw_data\n",
    "data = np.load('../raw_data/baseline.npz', allow_pickle=True)"
   ]
  },
  {
   "cell_type": "code",
   "execution_count": 8,
   "metadata": {},
   "outputs": [
    {
     "ename": "NameError",
     "evalue": "name 'pd' is not defined",
     "output_type": "error",
     "traceback": [
      "\u001b[0;31m---------------------------------------------------------------------------\u001b[0m",
      "\u001b[0;31mNameError\u001b[0m                                 Traceback (most recent call last)",
      "Cell \u001b[0;32mIn [8], line 1\u001b[0m\n\u001b[0;32m----> 1\u001b[0m y_train \u001b[39m=\u001b[39m pd\u001b[39m.\u001b[39mread_csv(\u001b[39m'\u001b[39m\u001b[39m../raw_data/y_train.csv\u001b[39m\u001b[39m'\u001b[39m)\n",
      "\u001b[0;31mNameError\u001b[0m: name 'pd' is not defined"
     ]
    }
   ],
   "source": [
    "y = pd.read_csv('../raw_data/y_train.csv')"
   ]
  },
  {
   "cell_type": "code",
   "execution_count": null,
   "metadata": {},
   "outputs": [],
   "source": [
    "y=get_4D_output(y_train)\n",
    "print(y.shape)"
   ]
  },
  {
   "cell_type": "code",
   "execution_count": 9,
   "metadata": {},
   "outputs": [],
   "source": [
    "GHI=data['GHI']\n",
    "CLS=data['CLS']"
   ]
  },
  {
   "cell_type": "code",
   "execution_count": 11,
   "metadata": {},
   "outputs": [
    {
     "data": {
      "text/plain": [
       "(4, 4, 51, 51, 1)"
      ]
     },
     "execution_count": 11,
     "metadata": {},
     "output_type": "execute_result"
    }
   ],
   "source": [
    "X_train=np.zeros((4,4,51,51,1))\n",
    "for j in range (4):\n",
    "    for i in range (4):\n",
    "        for k in range (51):\n",
    "            for h in range (51):\n",
    "                for z in range (1):\n",
    "                        X_train[j,i,k,h,z]=GHI[j,i,k+15,h+15]               \n",
    "X_train.shape"
   ]
  },
  {
   "cell_type": "code",
   "execution_count": null,
   "metadata": {},
   "outputs": [],
   "source": [
    "X_val=np.zeros((1,4,51,51,1))\n",
    "for j in range (1):\n",
    "    for i in range (4):\n",
    "        for k in range (51):\n",
    "            for h in range (51):\n",
    "                for z in range (1):\n",
    "                        X_train[j,i,k,h,z]=GHI[j,i,k+15,h+15]               \n",
    "X_val.shape"
   ]
  },
  {
   "cell_type": "code",
   "execution_count": null,
   "metadata": {},
   "outputs": [],
   "source": [
    "y_train=np.zeros((4,4,51,51,1))\n",
    "for j in range (4):\n",
    "    for i in range (4):\n",
    "        for z in range (51):\n",
    "            for k in range (51):\n",
    "                    for h in range (1):\n",
    "                        y_train[j,i,k,h,z]=y[j,i,k,h]\n",
    "y_train.shape"
   ]
  },
  {
   "cell_type": "code",
   "execution_count": null,
   "metadata": {},
   "outputs": [],
   "source": [
    "y_val=np.zeros((1,4,51,51,1))\n",
    "for j in range (1):\n",
    "    for i in range (4):\n",
    "        for z in range (51):\n",
    "            for k in range (51):\n",
    "                    for h in range (1):\n",
    "                        y_train[j,i,k,h,z]=y[j,i,k,h]\n",
    "y_val.shape"
   ]
  },
  {
   "cell_type": "code",
   "execution_count": null,
   "metadata": {},
   "outputs": [],
   "source": [
    "inp=layers.Input(shape=(None, *X_model.shape[2:]))\n",
    "\n",
    "x= layers.ConvLSTM2D(filters=64, kernel_size=(5,5), \n",
    "                     padding='same',\n",
    "                     return_sequences=True, \n",
    "                     activation='relu',\n",
    "                    )(inp)\n",
    "#x=layers.BatchNormalization()(x)\n",
    "x=layers.Conv3D(filters=1, kernel_size=(3,3,3),\n",
    "                activation=\"sigmoid\", \n",
    "                padding=\"same\")(x)\n",
    "model=keras.models.Model(inp,x)\n",
    "model.compile(loss=keras.losses.binary_crossentropy, \n",
    "              optimizer=keras.optimizers.Adam(),\n",
    "              )"
   ]
  },
  {
   "cell_type": "code",
   "execution_count": null,
   "metadata": {},
   "outputs": [],
   "source": [
    "#Define some callbacks to improve training\n",
    "early_stopping=keras.callbacks.EarlyStopping(monitor=\"val_loss\", patience=10)\n",
    "reduce_lr=keras.callbacks.ReduceLROnPlateau(monitor=\"val_loss\", patience=5)\n",
    "\n",
    "#Define modificable training hyperparameters\n",
    "epochs=20\n",
    "batch_size=5\n",
    "\n",
    "#Fit the model to the training data\n",
    "model.fit(X_train,\n",
    "    y_train,\n",
    "    batch_size=batch_size,\n",
    "    epochs=epochs,\n",
    "    validation_data=(X_val, y_val)\n",
    "    callbacks=[early_stopping, reduce_lr],\n",
    ")\n",
    "\n"
   ]
  }
 ],
 "metadata": {
  "kernelspec": {
   "display_name": "Python 3.8.12 64-bit ('solar_forecasting')",
   "language": "python",
   "name": "python3"
  },
  "language_info": {
   "codemirror_mode": {
    "name": "ipython",
    "version": 3
   },
   "file_extension": ".py",
   "mimetype": "text/x-python",
   "name": "python",
   "nbconvert_exporter": "python",
   "pygments_lexer": "ipython3",
   "version": "3.8.12"
  },
  "orig_nbformat": 4,
  "vscode": {
   "interpreter": {
    "hash": "d4fef1b78ec294c6d31d832fa9795b7918380dad51587c4a9a786a1aa7e3adc9"
   }
  }
 },
 "nbformat": 4,
 "nbformat_minor": 2
}
