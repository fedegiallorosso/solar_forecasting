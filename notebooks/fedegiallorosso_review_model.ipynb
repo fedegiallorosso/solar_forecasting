{
 "cells": [
  {
   "cell_type": "code",
   "execution_count": 1,
   "metadata": {},
   "outputs": [
    {
     "name": "stderr",
     "output_type": "stream",
     "text": [
      "2022-12-08 13:29:31.286908: I tensorflow/core/platform/cpu_feature_guard.cc:193] This TensorFlow binary is optimized with oneAPI Deep Neural Network Library (oneDNN) to use the following CPU instructions in performance-critical operations:  AVX2 FMA\n",
      "To enable them in other operations, rebuild TensorFlow with the appropriate compiler flags.\n",
      "2022-12-08 13:29:31.606582: W tensorflow/compiler/xla/stream_executor/platform/default/dso_loader.cc:64] Could not load dynamic library 'libcudart.so.11.0'; dlerror: libcudart.so.11.0: cannot open shared object file: No such file or directory\n",
      "2022-12-08 13:29:31.606626: I tensorflow/compiler/xla/stream_executor/cuda/cudart_stub.cc:29] Ignore above cudart dlerror if you do not have a GPU set up on your machine.\n",
      "2022-12-08 13:29:34.525129: W tensorflow/compiler/xla/stream_executor/platform/default/dso_loader.cc:64] Could not load dynamic library 'libnvinfer.so.7'; dlerror: libnvinfer.so.7: cannot open shared object file: No such file or directory\n",
      "2022-12-08 13:29:34.525545: W tensorflow/compiler/xla/stream_executor/platform/default/dso_loader.cc:64] Could not load dynamic library 'libnvinfer_plugin.so.7'; dlerror: libnvinfer_plugin.so.7: cannot open shared object file: No such file or directory\n",
      "2022-12-08 13:29:34.525574: W tensorflow/compiler/tf2tensorrt/utils/py_utils.cc:38] TF-TRT Warning: Cannot dlopen some TensorRT libraries. If you would like to use Nvidia GPU with TensorRT, please make sure the missing libraries mentioned above are installed properly.\n"
     ]
    }
   ],
   "source": [
    "import numpy as np\n",
    "import matplotlib.pyplot as plt\n",
    "import pandas as pd\n",
    "from tensorflow import keras\n",
    "from tensorflow.keras import layers\n",
    "from transform_output_format import get_4D_output"
   ]
  },
  {
   "cell_type": "code",
   "execution_count": 2,
   "metadata": {},
   "outputs": [],
   "source": [
    "# Load data from raw_data\n",
    "data = np.load('../raw_data/processed_data/feature/1.npy', allow_pickle=True)"
   ]
  },
  {
   "cell_type": "code",
   "execution_count": 7,
   "metadata": {},
   "outputs": [
    {
     "name": "stdout",
     "output_type": "stream",
     "text": [
      "(2, 124, 4, 81, 81)\n"
     ]
    }
   ],
   "source": [
    "print(data.shape)"
   ]
  },
  {
   "cell_type": "code",
   "execution_count": 5,
   "metadata": {},
   "outputs": [],
   "source": [
    "y = np.load('../raw_data/processed_data/Y_train/1.npy', allow_pickle=True)"
   ]
  },
  {
   "cell_type": "code",
   "execution_count": 6,
   "metadata": {},
   "outputs": [
    {
     "name": "stdout",
     "output_type": "stream",
     "text": [
      "(124, 4, 51, 51)\n"
     ]
    }
   ],
   "source": [
    "#y=get_4D_output(y)\n",
    "print(y.shape)"
   ]
  },
  {
   "cell_type": "code",
   "execution_count": 8,
   "metadata": {},
   "outputs": [
    {
     "data": {
      "text/plain": [
       "(3, 4, 51, 51, 2)"
      ]
     },
     "execution_count": 8,
     "metadata": {},
     "output_type": "execute_result"
    }
   ],
   "source": [
    "X_train=np.zeros((3,4,51,51,2))\n",
    "for j in range (3):\n",
    "    for i in range (4):\n",
    "        for k in range (51):\n",
    "            for h in range (51):\n",
    "                for z in range (2):\n",
    "                    if z==0:\n",
    "                        X_train[j,i,k,h,z]=data[0,j,i,k+15,h+15]\n",
    "                    if z==1:\n",
    "                        X_train[j,i,k,h,z]=data[1,j,i,k+15,h+15]\n",
    "                                                         \n",
    "X_train.shape"
   ]
  },
  {
   "cell_type": "code",
   "execution_count": 9,
   "metadata": {},
   "outputs": [
    {
     "data": {
      "text/plain": [
       "(1, 4, 51, 51, 2)"
      ]
     },
     "execution_count": 9,
     "metadata": {},
     "output_type": "execute_result"
    }
   ],
   "source": [
    "X_val=np.zeros((1,4,51,51,2))\n",
    "for j in range (1):\n",
    "    for i in range (4):\n",
    "        for k in range (51):\n",
    "            for h in range (51):\n",
    "                for z in range (2):\n",
    "                    if z==0:\n",
    "                        X_val[j,i,k,h,z]=data[0,j+3,i,k+15,h+15]\n",
    "                    if z==1:\n",
    "                        X_val[j,i,k,h,z]=data[0,j+3,i,k+15,h+15]\n",
    "                                \n",
    "X_val.shape"
   ]
  },
  {
   "cell_type": "code",
   "execution_count": 10,
   "metadata": {},
   "outputs": [
    {
     "data": {
      "text/plain": [
       "(3, 4, 51, 51, 2)"
      ]
     },
     "execution_count": 10,
     "metadata": {},
     "output_type": "execute_result"
    }
   ],
   "source": [
    "y_train=np.zeros((3,4,51,51,2))\n",
    "for j in range (3):\n",
    "    for i in range (4):\n",
    "        for k in range (51):\n",
    "            for h in range (51):\n",
    "                for z in range (2):\n",
    "                    if z==0:\n",
    "                        y_train[j,i,k,h,z]=y[j,i,k,h]\n",
    "                    if z==1:\n",
    "                        y_train[j,i,k,h,z]=y[j,i,k,h]\n",
    "y_train.shape"
   ]
  },
  {
   "cell_type": "code",
   "execution_count": 11,
   "metadata": {},
   "outputs": [
    {
     "data": {
      "text/plain": [
       "(1, 4, 51, 51, 2)"
      ]
     },
     "execution_count": 11,
     "metadata": {},
     "output_type": "execute_result"
    }
   ],
   "source": [
    "y_val=np.zeros((1,4,51,51,2))\n",
    "for j in range (1):\n",
    "    for i in range (4):\n",
    "        for k in range (51):\n",
    "            for h in range (51):\n",
    "                for z in range (2):\n",
    "                    if z==0:\n",
    "                        y_val[j,i,k,h,z]=y[j+3,i,k,h]\n",
    "                    if z==1:\n",
    "                        y_val[j,i,k,h,z]=y[j+3,i,k,h]\n",
    "y_val.shape"
   ]
  },
  {
   "cell_type": "code",
   "execution_count": 12,
   "metadata": {},
   "outputs": [
    {
     "name": "stderr",
     "output_type": "stream",
     "text": [
      "2022-12-08 13:33:29.188196: W tensorflow/compiler/xla/stream_executor/platform/default/dso_loader.cc:64] Could not load dynamic library 'libcuda.so.1'; dlerror: libcuda.so.1: cannot open shared object file: No such file or directory\n",
      "2022-12-08 13:33:29.188316: W tensorflow/compiler/xla/stream_executor/cuda/cuda_driver.cc:265] failed call to cuInit: UNKNOWN ERROR (303)\n",
      "2022-12-08 13:33:29.188483: I tensorflow/compiler/xla/stream_executor/cuda/cuda_diagnostics.cc:156] kernel driver does not appear to be running on this host (PC-Francesco): /proc/driver/nvidia/version does not exist\n",
      "2022-12-08 13:33:29.189467: I tensorflow/core/platform/cpu_feature_guard.cc:193] This TensorFlow binary is optimized with oneAPI Deep Neural Network Library (oneDNN) to use the following CPU instructions in performance-critical operations:  AVX2 FMA\n",
      "To enable them in other operations, rebuild TensorFlow with the appropriate compiler flags.\n"
     ]
    }
   ],
   "source": [
    "inp=layers.Input(shape=(None, *X_train.shape[2:]))\n",
    "\n",
    "x= layers.ConvLSTM2D(filters=64, kernel_size=(5,5), \n",
    "                     padding='same',\n",
    "                     return_sequences=True, \n",
    "                     activation='relu',\n",
    "                    )(inp)\n",
    "x=layers.BatchNormalization()(x)\n",
    "x=layers.Conv3D(filters=1, kernel_size=(3,3,3),\n",
    "                activation=\"relu\", \n",
    "                padding=\"same\")(x)\n",
    "model=keras.models.Model(inp,x)\n",
    "model.compile(optimizer=keras.optimizers.Adam(), loss=keras.losses.MeanAbsoluteError(), \n",
    "              metrics=keras.metrics.MeanAbsoluteError())\n"
   ]
  },
  {
   "cell_type": "code",
   "execution_count": 13,
   "metadata": {},
   "outputs": [
    {
     "name": "stdout",
     "output_type": "stream",
     "text": [
      "Epoch 1/20\n",
      "1/1 [==============================] - 19s 19s/step - loss: 417.5142 - mean_absolute_error: 417.5142 - val_loss: 162.7878 - val_mean_absolute_error: 162.7878 - lr: 0.0010\n",
      "Epoch 2/20\n",
      "1/1 [==============================] - 5s 5s/step - loss: 417.4296 - mean_absolute_error: 417.4296 - val_loss: 157.1384 - val_mean_absolute_error: 157.1384 - lr: 0.0010\n",
      "Epoch 3/20\n",
      "1/1 [==============================] - 5s 5s/step - loss: 417.2005 - mean_absolute_error: 417.2005 - val_loss: 163.1295 - val_mean_absolute_error: 163.1295 - lr: 0.0010\n",
      "Epoch 4/20\n",
      "1/1 [==============================] - 5s 5s/step - loss: 417.1022 - mean_absolute_error: 417.1022 - val_loss: 163.1805 - val_mean_absolute_error: 163.1805 - lr: 0.0010\n",
      "Epoch 5/20\n",
      "1/1 [==============================] - 4s 4s/step - loss: 416.9340 - mean_absolute_error: 416.9340 - val_loss: 162.4540 - val_mean_absolute_error: 162.4540 - lr: 0.0010\n",
      "Epoch 6/20\n",
      "1/1 [==============================] - 5s 5s/step - loss: 416.7252 - mean_absolute_error: 416.7252 - val_loss: 163.0669 - val_mean_absolute_error: 163.0669 - lr: 0.0010\n",
      "Epoch 7/20\n",
      "1/1 [==============================] - 5s 5s/step - loss: 416.7162 - mean_absolute_error: 416.7162 - val_loss: 162.0962 - val_mean_absolute_error: 162.0962 - lr: 0.0010\n",
      "Epoch 8/20\n",
      "1/1 [==============================] - 4s 4s/step - loss: 416.5899 - mean_absolute_error: 416.5899 - val_loss: 162.5710 - val_mean_absolute_error: 162.5710 - lr: 1.0000e-04\n",
      "Epoch 9/20\n",
      "1/1 [==============================] - 6s 6s/step - loss: 416.5658 - mean_absolute_error: 416.5657 - val_loss: 162.5716 - val_mean_absolute_error: 162.5716 - lr: 1.0000e-04\n",
      "Epoch 10/20\n",
      "1/1 [==============================] - 7s 7s/step - loss: 416.5352 - mean_absolute_error: 416.5352 - val_loss: 162.5483 - val_mean_absolute_error: 162.5483 - lr: 1.0000e-04\n",
      "Epoch 11/20\n",
      "1/1 [==============================] - 8s 8s/step - loss: 416.4972 - mean_absolute_error: 416.4972 - val_loss: 162.4670 - val_mean_absolute_error: 162.4670 - lr: 1.0000e-04\n",
      "Epoch 12/20\n",
      "1/1 [==============================] - 9s 9s/step - loss: 416.4527 - mean_absolute_error: 416.4527 - val_loss: 162.3991 - val_mean_absolute_error: 162.3991 - lr: 1.0000e-04\n"
     ]
    }
   ],
   "source": [
    "#Define some callbacks to improve training\n",
    "early_stopping=keras.callbacks.EarlyStopping(monitor=\"val_loss\", patience=10)\n",
    "reduce_lr=keras.callbacks.ReduceLROnPlateau(monitor=\"val_loss\", patience=5)\n",
    "\n",
    "#Define modificable training hyperparameters\n",
    "epochs=20\n",
    "batch_size=5\n",
    "\n",
    "#Fit the model to the training data\n",
    "history=model.fit(X_train,\n",
    "    y_train,\n",
    "    batch_size=batch_size,\n",
    "    epochs=epochs,\n",
    "    validation_data=(X_val, y_val),\n",
    "    callbacks=[early_stopping, reduce_lr], verbose=1\n",
    ")\n",
    "\n"
   ]
  },
  {
   "cell_type": "code",
   "execution_count": 14,
   "metadata": {},
   "outputs": [
    {
     "name": "stdout",
     "output_type": "stream",
     "text": [
      "dict_keys(['loss', 'mean_absolute_error', 'val_loss', 'val_mean_absolute_error', 'lr'])\n"
     ]
    },
    {
     "data": {
      "image/png": "[encoded data removed]",
      "text/plain": [
       "<Figure size 640x480 with 1 Axes>"
      ]
     },
     "metadata": {},
     "output_type": "display_data"
    }
   ],
   "source": [
    "# list all data in history\n",
    "print(history.history.keys())\n",
    "# summarize history for accuracy\n",
    "#plt.plot(history.history['loss'])\n",
    "#plt.plot(history.history['val_loss'])\n",
    "#plt.title('model accuracy')\n",
    "#plt.ylabel('accuracy')\n",
    "#plt.xlabel('epoch')\n",
    "#plt.legend(['train', 'test'], loc='upper left')\n",
    "#plt.show()\n",
    "# summarize history for loss\n",
    "plt.plot(history.history['loss'])\n",
    "plt.plot(history.history['val_loss'])\n",
    "plt.title('model loss')\n",
    "plt.ylabel('loss')\n",
    "plt.xlabel('epoch')\n",
    "plt.legend(['train', 'test'], loc='upper left')\n",
    "plt.savefig('../raw_data/MAE_Plot/1.png')\n"
   ]
  }
 ],
 "metadata": {
  "kernelspec": {
   "display_name": "Python 3.8.12 64-bit ('solar_forecasting')",
   "language": "python",
   "name": "python3"
  },
  "language_info": {
   "codemirror_mode": {
    "name": "ipython",
    "version": 3
   },
   "file_extension": ".py",
   "mimetype": "text/x-python",
   "name": "python",
   "nbconvert_exporter": "python",
   "pygments_lexer": "ipython3",
   "version": "3.8.12 (default, Jul 18 2022, 12:37:43) \n[GCC 9.4.0]"
  },
  "orig_nbformat": 4,
  "vscode": {
   "interpreter": {
    "hash": "d4fef1b78ec294c6d31d832fa9795b7918380dad51587c4a9a786a1aa7e3adc9"
   }
  }
 },
 "nbformat": 4,
 "nbformat_minor": 2
}
