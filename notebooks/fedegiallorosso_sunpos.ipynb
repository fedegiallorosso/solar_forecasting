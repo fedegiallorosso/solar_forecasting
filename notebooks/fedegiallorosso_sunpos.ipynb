{
 "cells": [
  {
   "cell_type": "code",
   "execution_count": 103,
   "metadata": {},
   "outputs": [],
   "source": [
    "from pvlib.location import Location\n",
    "import datetime"
   ]
  },
  {
   "cell_type": "markdown",
   "metadata": {},
   "source": [
    "Find SAA and SZA given longitude, latitude, location"
   ]
  },
  {
   "cell_type": "code",
   "execution_count": 104,
   "metadata": {},
   "outputs": [],
   "source": [
    "d=datetime.date(2012,6,1)"
   ]
  },
  {
   "cell_type": "code",
   "execution_count": 105,
   "metadata": {},
   "outputs": [],
   "source": [
    "site=Location(40.456, -3.73) "
   ]
  },
  {
   "cell_type": "code",
   "execution_count": 106,
   "metadata": {},
   "outputs": [],
   "source": [
    "solpos = site.get_solarposition(d)\n",
    "azimuth =round(solpos.loc[f\"{d}\",\"azimuth\"],1)\n",
    "zenith=round(solpos.loc[f\"{d}\",\"zenith\"],1)\n"
   ]
  }
 ],
 "metadata": {
  "kernelspec": {
   "display_name": "Python 3.8.12 64-bit ('shims')",
   "language": "python",
   "name": "python3"
  },
  "language_info": {
   "codemirror_mode": {
    "name": "ipython",
    "version": 3
   },
   "file_extension": ".py",
   "mimetype": "text/x-python",
   "name": "python",
   "nbconvert_exporter": "python",
   "pygments_lexer": "ipython3",
   "version": "3.8.12"
  },
  "orig_nbformat": 4,
  "vscode": {
   "interpreter": {
    "hash": "2c0f36fb2cae117807c78bc055c2e6d6b6e87d3b62b52d1fa14cbc90017ea8bd"
   }
  }
 },
 "nbformat": 4,
 "nbformat_minor": 2
}
