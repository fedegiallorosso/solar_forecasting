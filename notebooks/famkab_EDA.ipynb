{
 "cells": [
  {
   "cell_type": "markdown",
   "metadata": {},
   "source": [
    "## Looking in CLS"
   ]
  },
  {
   "cell_type": "markdown",
   "metadata": {},
   "source": [
    "GHI is Global Horizontal Irradiance\n",
    "\n",
    "GHI(CLS) is cloud effects on GHI"
   ]
  },
  {
   "cell_type": "code",
   "execution_count": 13,
   "metadata": {},
   "outputs": [],
   "source": [
    "import numpy as np\n",
    "import matplotlib.pyplot as plt"
   ]
  },
  {
   "cell_type": "code",
   "execution_count": 4,
   "metadata": {},
   "outputs": [],
   "source": [
    "X = np.load('../raw_data/data.npz', allow_pickle=True)"
   ]
  },
  {
   "cell_type": "code",
   "execution_count": 4,
   "metadata": {},
   "outputs": [
    {
     "data": {
      "text/plain": [
       "['datetime', 'GHI', 'CLS', 'SZA', 'SAA']"
      ]
     },
     "execution_count": 4,
     "metadata": {},
     "output_type": "execute_result"
    }
   ],
   "source": [
    "X.files"
   ]
  },
  {
   "cell_type": "code",
   "execution_count": 5,
   "metadata": {},
   "outputs": [
    {
     "data": {
      "text/plain": [
       "numpy.ndarray"
      ]
     },
     "execution_count": 5,
     "metadata": {},
     "output_type": "execute_result"
    }
   ],
   "source": [
    "type(X['CLS'])"
   ]
  },
  {
   "cell_type": "markdown",
   "metadata": {},
   "source": [
    "- a corresponding sequence of the 4 previous and 4 next modelled 15-min clear-sky (i.e. with no clouds) GHI images on the OR, noted GHIcls, of size (81,81)\n",
    "- the matrix GHIcls of size (81, 81, 8) for the times t-45min, t-30min, t-15min, t, t+15min, t+30min, t+45min, t+60min"
   ]
  },
  {
   "cell_type": "code",
   "execution_count": 13,
   "metadata": {},
   "outputs": [
    {
     "data": {
      "text/plain": [
       "(1845, 8, 81, 81)"
      ]
     },
     "execution_count": 13,
     "metadata": {},
     "output_type": "execute_result"
    }
   ],
   "source": [
    "X['CLS'].shape"
   ]
  },
  {
   "cell_type": "code",
   "execution_count": 10,
   "metadata": {},
   "outputs": [
    {
     "data": {
      "text/plain": [
       "array([[[ 99.87, 100.27, 100.63, ..., 126.96, 127.12, 127.36],\n",
       "        [100.19, 100.58, 101.  , ..., 126.84, 126.94, 127.19],\n",
       "        [100.48, 100.88, 101.3 , ..., 127.1 , 127.2 , 127.45],\n",
       "        ...,\n",
       "        [119.31, 119.68, 120.05, ..., 145.52, 145.96, 146.4 ],\n",
       "        [119.54, 119.91, 120.28, ..., 145.78, 146.23, 146.68],\n",
       "        [119.77, 120.14, 120.51, ..., 146.05, 146.5 , 146.95]],\n",
       "\n",
       "       [[141.58, 141.99, 142.35, ..., 168.5 , 168.6 , 168.81],\n",
       "        [141.94, 142.35, 142.79, ..., 168.27, 168.3 , 168.52],\n",
       "        [142.27, 142.68, 143.12, ..., 168.55, 168.58, 168.8 ],\n",
       "        ...,\n",
       "        [162.32, 162.69, 163.06, ..., 188.03, 188.48, 188.93],\n",
       "        [162.57, 162.94, 163.31, ..., 188.32, 188.77, 189.23],\n",
       "        [162.82, 163.19, 163.55, ..., 188.6 , 189.07, 189.53]],\n",
       "\n",
       "       [[183.39, 183.79, 184.14, ..., 209.46, 209.51, 209.69],\n",
       "        [183.78, 184.19, 184.63, ..., 209.14, 209.1 , 209.28],\n",
       "        [184.14, 184.54, 184.99, ..., 209.43, 209.39, 209.58],\n",
       "        ...,\n",
       "        [205.05, 205.42, 205.78, ..., 229.78, 230.23, 230.69],\n",
       "        [205.31, 205.67, 206.04, ..., 230.09, 230.55, 231.  ],\n",
       "        [205.57, 205.93, 206.29, ..., 230.4 , 230.86, 231.32]],\n",
       "\n",
       "       ...,\n",
       "\n",
       "       [[301.06, 301.42, 301.68, ..., 322.34, 322.26, 322.34],\n",
       "        [301.51, 301.88, 302.31, ..., 321.8 , 321.57, 321.65],\n",
       "        [301.93, 302.3 , 302.73, ..., 322.13, 321.9 , 321.98],\n",
       "        ...,\n",
       "        [324.66, 324.97, 325.28, ..., 344.65, 345.06, 345.47],\n",
       "        [324.95, 325.26, 325.57, ..., 345.  , 345.42, 345.84],\n",
       "        [325.24, 325.55, 325.86, ..., 345.36, 345.78, 346.21]],\n",
       "\n",
       "       [[336.05, 336.38, 336.62, ..., 355.29, 355.17, 355.22],\n",
       "        [336.52, 336.87, 337.28, ..., 354.7 , 354.41, 354.46],\n",
       "        [336.95, 337.3 , 337.71, ..., 355.04, 354.75, 354.8 ],\n",
       "        ...,\n",
       "        [360.15, 360.44, 360.73, ..., 378.13, 378.52, 378.91],\n",
       "        [360.45, 360.73, 361.02, ..., 378.49, 378.89, 379.29],\n",
       "        [360.75, 361.03, 361.31, ..., 378.86, 379.26, 379.67]],\n",
       "\n",
       "       [[368.36, 368.67, 368.87, ..., 385.41, 385.26, 385.27],\n",
       "        [368.85, 369.17, 369.57, ..., 384.78, 384.43, 384.45],\n",
       "        [369.29, 369.62, 370.01, ..., 385.13, 384.78, 384.8 ],\n",
       "        ...,\n",
       "        [392.9 , 393.16, 393.43, ..., 408.71, 409.08, 409.45],\n",
       "        [393.21, 393.47, 393.73, ..., 409.09, 409.46, 409.84],\n",
       "        [393.51, 393.77, 394.03, ..., 409.46, 409.84, 410.23]]])"
      ]
     },
     "execution_count": 10,
     "metadata": {},
     "output_type": "execute_result"
    }
   ],
   "source": [
    "X['CLS'][0,:,:,:]"
   ]
  },
  {
   "cell_type": "code",
   "execution_count": 19,
   "metadata": {},
   "outputs": [
    {
     "name": "stdout",
     "output_type": "stream",
     "text": [
      "(1845,)\n",
      "(1845,)\n"
     ]
    }
   ],
   "source": [
    "x_axis = X['datetime'] # datetime\n",
    "y_axis = X['CLS'][:,0,0,0] # cls\n",
    "\n",
    "print(x_axis.shape)\n",
    "print(y_axis.shape)"
   ]
  },
  {
   "cell_type": "code",
   "execution_count": 20,
   "metadata": {},
   "outputs": [
    {
     "data": {
      "text/plain": [
       "[<matplotlib.lines.Line2D at 0x120feb670>]"
      ]
     },
     "execution_count": 20,
     "metadata": {},
     "output_type": "execute_result"
    },
    {
     "data": {
      "image/png": "[encoded data removed]",
      "text/plain": [
       "<Figure size 640x480 with 1 Axes>"
      ]
     },
     "metadata": {},
     "output_type": "display_data"
    }
   ],
   "source": [
    "plt.plot(x_axis, y_axis)"
   ]
  }
 ],
 "metadata": {
  "kernelspec": {
   "display_name": "Python 3.8.12 64-bit ('shims')",
   "language": "python",
   "name": "python3"
  },
  "language_info": {
   "codemirror_mode": {
    "name": "ipython",
    "version": 3
   },
   "file_extension": ".py",
   "mimetype": "text/x-python",
   "name": "python",
   "nbconvert_exporter": "python",
   "pygments_lexer": "ipython3",
   "version": "3.8.12"
  },
  "orig_nbformat": 4,
  "vscode": {
   "interpreter": {
    "hash": "976e55246a6e2013b266e0d3c493866f23aa5c19ba7d6f2c00b408cec6703c40"
   }
  }
 },
 "nbformat": 4,
 "nbformat_minor": 2
}
