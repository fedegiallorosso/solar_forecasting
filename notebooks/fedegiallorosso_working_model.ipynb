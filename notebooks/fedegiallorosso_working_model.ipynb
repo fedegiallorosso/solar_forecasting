{
 "cells": [
  {
   "cell_type": "code",
   "execution_count": 2,
   "metadata": {},
   "outputs": [
    {
     "name": "stderr",
     "output_type": "stream",
     "text": [
      "2022-12-08 22:57:29.237153: I tensorflow/core/platform/cpu_feature_guard.cc:193] This TensorFlow binary is optimized with oneAPI Deep Neural Network Library (oneDNN) to use the following CPU instructions in performance-critical operations:  AVX2 FMA\n",
      "To enable them in other operations, rebuild TensorFlow with the appropriate compiler flags.\n",
      "2022-12-08 22:57:35.615262: W tensorflow/compiler/xla/stream_executor/platform/default/dso_loader.cc:64] Could not load dynamic library 'libcudart.so.11.0'; dlerror: libcudart.so.11.0: cannot open shared object file: No such file or directory\n",
      "2022-12-08 22:57:35.615346: I tensorflow/compiler/xla/stream_executor/cuda/cudart_stub.cc:29] Ignore above cudart dlerror if you do not have a GPU set up on your machine.\n",
      "2022-12-08 22:57:50.296639: W tensorflow/compiler/xla/stream_executor/platform/default/dso_loader.cc:64] Could not load dynamic library 'libnvinfer.so.7'; dlerror: libnvinfer.so.7: cannot open shared object file: No such file or directory\n",
      "2022-12-08 22:57:50.297183: W tensorflow/compiler/xla/stream_executor/platform/default/dso_loader.cc:64] Could not load dynamic library 'libnvinfer_plugin.so.7'; dlerror: libnvinfer_plugin.so.7: cannot open shared object file: No such file or directory\n",
      "2022-12-08 22:57:50.297246: W tensorflow/compiler/tf2tensorrt/utils/py_utils.cc:38] TF-TRT Warning: Cannot dlopen some TensorRT libraries. If you would like to use Nvidia GPU with TensorRT, please make sure the missing libraries mentioned above are installed properly.\n",
      "<frozen importlib._bootstrap>:219: RuntimeWarning: numpy.ndarray size changed, may indicate binary incompatibility. Expected 80 from C header, got 96 from PyObject\n"
     ]
    }
   ],
   "source": [
    "import numpy as np\n",
    "import matplotlib.pyplot as plt\n",
    "import pandas as pd\n",
    "from tensorflow import keras\n",
    "from keras import layers\n",
    "from transform_output_format import get_2D_output,  get_4D_output"
   ]
  },
  {
   "cell_type": "code",
   "execution_count": 3,
   "metadata": {},
   "outputs": [],
   "source": [
    "# Load data from raw_data\n",
    "data = np.load('../raw_data/X_train.npz', allow_pickle=True)"
   ]
  },
  {
   "cell_type": "code",
   "execution_count": 4,
   "metadata": {},
   "outputs": [],
   "source": [
    "y = pd.read_csv('../raw_data/Y_train.csv')"
   ]
  },
  {
   "cell_type": "code",
   "execution_count": 5,
   "metadata": {},
   "outputs": [
    {
     "name": "stdout",
     "output_type": "stream",
     "text": [
      "(1845, 4, 51, 51)\n"
     ]
    }
   ],
   "source": [
    "y=get_4D_output(y)\n",
    "print(y.shape)"
   ]
  },
  {
   "cell_type": "code",
   "execution_count": 6,
   "metadata": {},
   "outputs": [],
   "source": [
    "GHI=data['GHI']\n",
    "CLS=data['CLS']"
   ]
  },
  {
   "cell_type": "code",
   "execution_count": 7,
   "metadata": {},
   "outputs": [
    {
     "data": {
      "text/plain": [
       "(8, 4, 51, 51, 2)"
      ]
     },
     "execution_count": 7,
     "metadata": {},
     "output_type": "execute_result"
    }
   ],
   "source": [
    "X_train=np.zeros((8,4,51,51,2))\n",
    "for j in range (8):\n",
    "    for i in range (4):\n",
    "        for k in range (51):\n",
    "            for h in range (51):\n",
    "                for z in range (2):\n",
    "                    if z==0:\n",
    "                        X_train[j,i,k,h,z]=GHI[j,i,k+15,h+15]\n",
    "                    if z==1:\n",
    "                        X_train[j,i,k,h,z]=CLS[j,i,k+15,h+15]\n",
    "                                                         \n",
    "X_train.shape"
   ]
  },
  {
   "cell_type": "code",
   "execution_count": 11,
   "metadata": {},
   "outputs": [
    {
     "data": {
      "text/plain": [
       "(4, 4, 51, 51, 2)"
      ]
     },
     "execution_count": 11,
     "metadata": {},
     "output_type": "execute_result"
    }
   ],
   "source": [
    "X_val=np.zeros((4,4,51,51,2))\n",
    "for j in range (4):\n",
    "    for i in range (4):\n",
    "        for k in range (51):\n",
    "            for h in range (51):\n",
    "                for z in range (2):\n",
    "                    if z==0:\n",
    "                        X_val[j,i,k,h,z]=GHI[j+8,i,k+15,h+15]\n",
    "                    if z==1:\n",
    "                        X_val[j,i,k,h,z]=CLS[j+8,i,k+15,h+15]\n",
    "                                \n",
    "X_val.shape"
   ]
  },
  {
   "cell_type": "code",
   "execution_count": 17,
   "metadata": {},
   "outputs": [
    {
     "data": {
      "text/plain": [
       "(8, 4, 51, 51, 2)"
      ]
     },
     "execution_count": 17,
     "metadata": {},
     "output_type": "execute_result"
    }
   ],
   "source": [
    "y_train=np.zeros((8,4,51,51,2))\n",
    "for j in range (8):\n",
    "    for i in range (4):\n",
    "        for k in range (51):\n",
    "            for h in range (51):\n",
    "                for z in range (2):\n",
    "                    if z==0:\n",
    "                        y_train[j,i,k,h,z]=y[j,i,k,h]\n",
    "                    if z==1:\n",
    "                        y_train[j,i,k,h,z]=y[j,i,k,h]\n",
    "y_train.shape"
   ]
  },
  {
   "cell_type": "code",
   "execution_count": 18,
   "metadata": {},
   "outputs": [
    {
     "data": {
      "text/plain": [
       "(4, 4, 51, 51, 2)"
      ]
     },
     "execution_count": 18,
     "metadata": {},
     "output_type": "execute_result"
    }
   ],
   "source": [
    "y_val=np.zeros((4,4,51,51,2))\n",
    "for j in range (4):\n",
    "    for i in range (4):\n",
    "        for k in range (51):\n",
    "            for h in range (51):\n",
    "                for z in range (2):\n",
    "                    if z==0:\n",
    "                        y_val[j,i,k,h,z]=y[j+8,i,k,h]\n",
    "                    if z==1:\n",
    "                        y_val[j,i,k,h,z]=y[j+8,i,k,h]\n",
    "y_val.shape"
   ]
  },
  {
   "cell_type": "code",
   "execution_count": 19,
   "metadata": {},
   "outputs": [],
   "source": [
    "inp=layers.Input(shape=(None, *X_train.shape[2:]))\n",
    "\n",
    "x= layers.ConvLSTM2D(filters=64, kernel_size=(5,5), \n",
    "                     padding='same',\n",
    "                     return_sequences=True, \n",
    "                     activation='relu',\n",
    "                    )(inp)\n",
    "#x=layers.BatchNormalization()(x)\n",
    "x=layers.Conv3D(filters=1, kernel_size=(3,3,3),\n",
    "                activation=\"relu\", \n",
    "                padding=\"same\")(x)\n",
    "model=keras.models.Model(inp,x)\n",
    "#model.compile(loss=keras.losses.binary_crossentropy,optimizer=keras.optimizers.Adam(),              )\n",
    "model.compile(optimizer=keras.optimizers.Adam(), loss=keras.losses.MeanAbsoluteError())\n"
   ]
  },
  {
   "cell_type": "code",
   "execution_count": 20,
   "metadata": {},
   "outputs": [
    {
     "name": "stdout",
     "output_type": "stream",
     "text": [
      "Epoch 1/20\n",
      "2/2 [==============================] - 21s 5s/step - loss: 325.2939 - val_loss: 177.8037 - lr: 0.0010\n",
      "Epoch 2/20\n",
      "2/2 [==============================] - 10s 5s/step - loss: 176.3904 - val_loss: 153.1081 - lr: 0.0010\n",
      "Epoch 3/20\n",
      "2/2 [==============================] - 10s 5s/step - loss: 143.3327 - val_loss: 123.4351 - lr: 0.0010\n",
      "Epoch 4/20\n",
      "2/2 [==============================] - 12s 6s/step - loss: 130.8488 - val_loss: 111.3815 - lr: 0.0010\n",
      "Epoch 5/20\n",
      "2/2 [==============================] - 12s 5s/step - loss: 115.0188 - val_loss: 118.9485 - lr: 0.0010\n",
      "Epoch 6/20\n",
      "2/2 [==============================] - 12s 6s/step - loss: 119.9025 - val_loss: 125.4245 - lr: 0.0010\n",
      "Epoch 7/20\n",
      "2/2 [==============================] - 13s 5s/step - loss: 128.9813 - val_loss: 114.7289 - lr: 0.0010\n",
      "Epoch 8/20\n",
      "2/2 [==============================] - 12s 5s/step - loss: 111.0736 - val_loss: 148.0782 - lr: 0.0010\n",
      "Epoch 9/20\n",
      "2/2 [==============================] - 12s 5s/step - loss: 146.2226 - val_loss: 118.6996 - lr: 0.0010\n",
      "Epoch 10/20\n",
      "2/2 [==============================] - 12s 5s/step - loss: 117.5835 - val_loss: 118.6111 - lr: 1.0000e-04\n",
      "Epoch 11/20\n",
      "2/2 [==============================] - 12s 5s/step - loss: 117.5951 - val_loss: 116.6934 - lr: 1.0000e-04\n",
      "Epoch 12/20\n",
      "2/2 [==============================] - 12s 5s/step - loss: 113.3374 - val_loss: 108.7166 - lr: 1.0000e-04\n",
      "Epoch 13/20\n",
      "2/2 [==============================] - 12s 5s/step - loss: 108.8597 - val_loss: 110.3453 - lr: 1.0000e-04\n",
      "Epoch 14/20\n",
      "2/2 [==============================] - 12s 5s/step - loss: 111.2493 - val_loss: 108.7858 - lr: 1.0000e-04\n",
      "Epoch 15/20\n",
      "2/2 [==============================] - 12s 5s/step - loss: 109.2942 - val_loss: 103.6737 - lr: 1.0000e-04\n",
      "Epoch 16/20\n",
      "2/2 [==============================] - 12s 5s/step - loss: 104.1275 - val_loss: 101.6055 - lr: 1.0000e-04\n",
      "Epoch 17/20\n",
      "2/2 [==============================] - 12s 5s/step - loss: 101.4832 - val_loss: 99.7861 - lr: 1.0000e-04\n",
      "Epoch 18/20\n",
      "2/2 [==============================] - 12s 5s/step - loss: 101.0678 - val_loss: 98.6283 - lr: 1.0000e-04\n",
      "Epoch 19/20\n",
      "2/2 [==============================] - 11s 5s/step - loss: 98.6041 - val_loss: 96.3955 - lr: 1.0000e-04\n",
      "Epoch 20/20\n",
      "2/2 [==============================] - 12s 5s/step - loss: 97.3608 - val_loss: 95.9120 - lr: 1.0000e-04\n"
     ]
    }
   ],
   "source": [
    "#Define some callbacks to improve training\n",
    "early_stopping=keras.callbacks.EarlyStopping(monitor=\"val_loss\", patience=10)\n",
    "reduce_lr=keras.callbacks.ReduceLROnPlateau(monitor=\"val_loss\", patience=5)\n",
    "\n",
    "#Define modificable training hyperparameters\n",
    "epochs=20\n",
    "batch_size=5\n",
    "\n",
    "#Fit the model to the training data\n",
    "history=model.fit(X_train,\n",
    "    y_train,\n",
    "    batch_size=batch_size,\n",
    "    epochs=epochs,\n",
    "    validation_data=(X_val, y_val),\n",
    "    callbacks=[early_stopping, reduce_lr], verbose=1\n",
    ")\n",
    "\n"
   ]
  },
  {
   "cell_type": "code",
   "execution_count": 22,
   "metadata": {},
   "outputs": [
    {
     "name": "stdout",
     "output_type": "stream",
     "text": [
      "dict_keys(['loss', 'val_loss', 'lr'])\n"
     ]
    },
    {
     "data": {
      "image/png": "[encoded data removed]",
      "text/plain": [
       "<Figure size 640x480 with 1 Axes>"
      ]
     },
     "metadata": {},
     "output_type": "display_data"
    }
   ],
   "source": [
    "# list all data in history\n",
    "print(history.history.keys())\n",
    "# summarize history for accuracy\n",
    "#plt.plot(history.history['loss'])\n",
    "#plt.plot(history.history['val_loss'])\n",
    "#plt.title('model accuracy')\n",
    "#plt.ylabel('accuracy')\n",
    "#plt.xlabel('epoch')\n",
    "#plt.legend(['train', 'test'], loc='upper left')\n",
    "#plt.show()\n",
    "# summarize history for loss\n",
    "plt.plot(history.history['loss'])\n",
    "plt.plot(history.history['val_loss'])\n",
    "plt.title('model loss')\n",
    "plt.ylabel('loss')\n",
    "plt.xlabel('epoch')\n",
    "plt.legend(['train', 'validat'], loc='upper left')\n",
    "plt.show()\n"
   ]
  }
 ],
 "metadata": {
  "kernelspec": {
   "display_name": "Python 3.8.12 64-bit ('solar_forecasting')",
   "language": "python",
   "name": "python3"
  },
  "language_info": {
   "codemirror_mode": {
    "name": "ipython",
    "version": 3
   },
   "file_extension": ".py",
   "mimetype": "text/x-python",
   "name": "python",
   "nbconvert_exporter": "python",
   "pygments_lexer": "ipython3",
   "version": "3.8.12"
  },
  "orig_nbformat": 4,
  "vscode": {
   "interpreter": {
    "hash": "d4fef1b78ec294c6d31d832fa9795b7918380dad51587c4a9a786a1aa7e3adc9"
   }
  }
 },
 "nbformat": 4,
 "nbformat_minor": 2
}
