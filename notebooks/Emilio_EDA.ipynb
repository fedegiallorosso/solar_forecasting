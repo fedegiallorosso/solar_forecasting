{
 "cells": [
  {
   "cell_type": "code",
   "execution_count": 1,
   "metadata": {},
   "outputs": [],
   "source": [
    "import numpy as np\n",
    "import matplotlib.pyplot as plt\n",
    "import pandas as pd"
   ]
  },
  {
   "cell_type": "code",
   "execution_count": 5,
   "metadata": {},
   "outputs": [
    {
     "name": "stdout",
     "output_type": "stream",
     "text": [
      "/Users/emilioaguiar/code/LeWagon_Project/fedegiallorosso/solar_forecasting/notebooks\n"
     ]
    }
   ],
   "source": [
    "! pwd"
   ]
  },
  {
   "cell_type": "code",
   "execution_count": 17,
   "metadata": {},
   "outputs": [],
   "source": [
    "X = np.load('../raw_data/X_train_copernicus.npz', allow_pickle=True)\n"
   ]
  },
  {
   "cell_type": "code",
   "execution_count": 18,
   "metadata": {},
   "outputs": [
    {
     "data": {
      "text/plain": [
       "['datetime', 'GHI', 'CLS', 'SZA', 'SAA']"
      ]
     },
     "execution_count": 18,
     "metadata": {},
     "output_type": "execute_result"
    }
   ],
   "source": [
    "X.files"
   ]
  },
  {
   "cell_type": "code",
   "execution_count": 59,
   "metadata": {},
   "outputs": [],
   "source": [
    "date = X['datetime']\n",
    "SZA = X['SZA']\n",
    "SSA = X['SAA']"
   ]
  },
  {
   "cell_type": "code",
   "execution_count": 81,
   "metadata": {},
   "outputs": [
    {
     "name": "stdout",
     "output_type": "stream",
     "text": [
      "zenith angles has this shape (1845, 8, 81, 81)\n",
      "solar azimuth angle (SAA) has this shape (1845, 8, 81, 81)\n"
     ]
    }
   ],
   "source": [
    "print(f'zenith angles has this shape {SZA.shape}')\n",
    "print(f'solar azimuth angle (SAA) has this shape {SSA.shape}')"
   ]
  },
  {
   "cell_type": "code",
   "execution_count": 82,
   "metadata": {},
   "outputs": [
    {
     "name": "stdout",
     "output_type": "stream",
     "text": [
      "First day of observation\n",
      "This is the shape of date (1845,)\n"
     ]
    },
    {
     "data": {
      "text/plain": [
       "array([datetime.datetime(2012, 1, 1, 9, 15),\n",
       "       datetime.datetime(2012, 1, 1, 11, 15),\n",
       "       datetime.datetime(2012, 1, 1, 13, 15),\n",
       "       datetime.datetime(2012, 1, 1, 15, 15)], dtype=object)"
      ]
     },
     "execution_count": 82,
     "metadata": {},
     "output_type": "execute_result"
    }
   ],
   "source": [
    "print('First day of observation')\n",
    "print(f'This is the shape of date {date.shape}')\n",
    "date[0:4]\n"
   ]
  },
  {
   "cell_type": "code",
   "execution_count": 114,
   "metadata": {},
   "outputs": [
    {
     "name": "stdout",
     "output_type": "stream",
     "text": [
      "SZA first observation has this shape (81, 81)\n"
     ]
    }
   ],
   "source": [
    "print(f'SZA first observation has this shape {SZA[0,0].shape}')"
   ]
  },
  {
   "cell_type": "markdown",
   "metadata": {},
   "source": [
    "### Observation time: t-45"
   ]
  },
  {
   "cell_type": "code",
   "execution_count": 113,
   "metadata": {},
   "outputs": [
    {
     "name": "stdout",
     "output_type": "stream",
     "text": [
      "2012-01-01 09:15:00\n"
     ]
    },
    {
     "data": {
      "text/plain": [
       "array([[127.36, 127.38, 127.4 , ..., 129.17, 129.2 , 129.22],\n",
       "       [127.35, 127.38, 127.4 , ..., 129.17, 129.19, 129.22],\n",
       "       [127.35, 127.37, 127.4 , ..., 129.17, 129.19, 129.21],\n",
       "       ...,\n",
       "       [127.11, 127.14, 127.16, ..., 128.89, 128.91, 128.94],\n",
       "       [127.11, 127.13, 127.16, ..., 128.89, 128.91, 128.93],\n",
       "       [127.11, 127.13, 127.15, ..., 128.88, 128.9 , 128.93]])"
      ]
     },
     "execution_count": 113,
     "metadata": {},
     "output_type": "execute_result"
    }
   ],
   "source": [
    "print(date[0])\n",
    "SZA[0,0]"
   ]
  },
  {
   "cell_type": "markdown",
   "metadata": {},
   "source": [
    "### Observation time: t-30"
   ]
  },
  {
   "cell_type": "code",
   "execution_count": 116,
   "metadata": {},
   "outputs": [
    {
     "name": "stdout",
     "output_type": "stream",
     "text": [
      "2012-01-01 11:15:00\n"
     ]
    },
    {
     "data": {
      "text/plain": [
       "array([[151.09, 151.12, 151.15, ..., 153.52, 153.55, 153.58],\n",
       "       [151.08, 151.12, 151.15, ..., 153.51, 153.54, 153.58],\n",
       "       [151.08, 151.11, 151.14, ..., 153.51, 153.54, 153.57],\n",
       "       ...,\n",
       "       [150.63, 150.67, 150.7 , ..., 153.08, 153.11, 153.14],\n",
       "       [150.63, 150.66, 150.69, ..., 153.07, 153.1 , 153.14],\n",
       "       [150.62, 150.65, 150.68, ..., 153.07, 153.1 , 153.13]])"
      ]
     },
     "execution_count": 116,
     "metadata": {},
     "output_type": "execute_result"
    }
   ],
   "source": [
    "print(date[1])\n",
    "SZA[1,0]"
   ]
  },
  {
   "cell_type": "markdown",
   "metadata": {},
   "source": [
    "### Observation time: t-15"
   ]
  },
  {
   "cell_type": "code",
   "execution_count": 118,
   "metadata": {},
   "outputs": [
    {
     "name": "stdout",
     "output_type": "stream",
     "text": [
      "2012-01-01 13:15:00\n"
     ]
    },
    {
     "data": {
      "text/plain": [
       "array([[181.14, 181.18, 181.21, ..., 183.91, 183.94, 183.98],\n",
       "       [181.14, 181.18, 181.21, ..., 183.91, 183.94, 183.98],\n",
       "       [181.14, 181.18, 181.21, ..., 183.91, 183.94, 183.98],\n",
       "       ...,\n",
       "       [181.17, 181.2 , 181.24, ..., 183.99, 184.02, 184.06],\n",
       "       [181.17, 181.2 , 181.24, ..., 183.99, 184.03, 184.06],\n",
       "       [181.17, 181.2 , 181.24, ..., 183.99, 184.03, 184.06]])"
      ]
     },
     "execution_count": 118,
     "metadata": {},
     "output_type": "execute_result"
    }
   ],
   "source": [
    "print(date[2])\n",
    "SZA[2,0]"
   ]
  },
  {
   "cell_type": "markdown",
   "metadata": {},
   "source": [
    "### Observation time: t"
   ]
  },
  {
   "cell_type": "code",
   "execution_count": 119,
   "metadata": {},
   "outputs": [
    {
     "name": "stdout",
     "output_type": "stream",
     "text": [
      "2012-01-01 15:15:00\n"
     ]
    },
    {
     "data": {
      "text/plain": [
       "array([[210.88, 210.91, 210.94, ..., 213.2 , 213.23, 213.26],\n",
       "       [210.88, 210.91, 210.94, ..., 213.21, 213.24, 213.27],\n",
       "       [210.89, 210.92, 210.95, ..., 213.21, 213.24, 213.27],\n",
       "       ...,\n",
       "       [211.34, 211.37, 211.4 , ..., 213.67, 213.7 , 213.73],\n",
       "       [211.35, 211.38, 211.41, ..., 213.68, 213.71, 213.74],\n",
       "       [211.35, 211.38, 211.41, ..., 213.68, 213.71, 213.74]])"
      ]
     },
     "execution_count": 119,
     "metadata": {},
     "output_type": "execute_result"
    }
   ],
   "source": [
    "print(date[3])\n",
    "SZA[3,0]"
   ]
  },
  {
   "cell_type": "markdown",
   "metadata": {},
   "source": [
    "### Observation time: t+15"
   ]
  },
  {
   "cell_type": "code",
   "execution_count": 120,
   "metadata": {},
   "outputs": [
    {
     "name": "stdout",
     "output_type": "stream",
     "text": [
      "2012-01-02 09:15:00\n"
     ]
    },
    {
     "data": {
      "text/plain": [
       "array([[127.22, 127.24, 127.26, ..., 129.04, 129.06, 129.08],\n",
       "       [127.22, 127.24, 127.26, ..., 129.03, 129.06, 129.08],\n",
       "       [127.21, 127.24, 127.26, ..., 129.03, 129.05, 129.08],\n",
       "       ...,\n",
       "       [126.98, 127.  , 127.02, ..., 128.75, 128.77, 128.8 ],\n",
       "       [126.97, 127.  , 127.02, ..., 128.75, 128.77, 128.79],\n",
       "       [126.97, 126.99, 127.01, ..., 128.74, 128.77, 128.79]])"
      ]
     },
     "execution_count": 120,
     "metadata": {},
     "output_type": "execute_result"
    }
   ],
   "source": [
    "print(date[4])\n",
    "SZA[4,0]"
   ]
  },
  {
   "cell_type": "markdown",
   "metadata": {},
   "source": [
    "### Observation time: t+30"
   ]
  },
  {
   "cell_type": "code",
   "execution_count": 121,
   "metadata": {},
   "outputs": [
    {
     "name": "stdout",
     "output_type": "stream",
     "text": [
      "2012-01-02 11:15:00\n"
     ]
    },
    {
     "data": {
      "text/plain": [
       "array([[150.95, 150.98, 151.01, ..., 153.37, 153.4 , 153.44],\n",
       "       [150.94, 150.97, 151.  , ..., 153.37, 153.4 , 153.43],\n",
       "       [150.93, 150.96, 151.  , ..., 153.36, 153.39, 153.43],\n",
       "       ...,\n",
       "       [150.49, 150.52, 150.55, ..., 152.93, 152.96, 152.99],\n",
       "       [150.48, 150.51, 150.54, ..., 152.92, 152.96, 152.99],\n",
       "       [150.47, 150.51, 150.54, ..., 152.92, 152.95, 152.98]])"
      ]
     },
     "execution_count": 121,
     "metadata": {},
     "output_type": "execute_result"
    }
   ],
   "source": [
    "print(date[5])\n",
    "SZA[5,0]"
   ]
  },
  {
   "cell_type": "markdown",
   "metadata": {},
   "source": [
    "### Observation time: t+45"
   ]
  },
  {
   "cell_type": "code",
   "execution_count": 122,
   "metadata": {},
   "outputs": [
    {
     "name": "stdout",
     "output_type": "stream",
     "text": [
      "2012-01-02 13:15:00\n"
     ]
    },
    {
     "data": {
      "text/plain": [
       "array([[181.02, 181.05, 181.09, ..., 183.79, 183.82, 183.86],\n",
       "       [181.02, 181.05, 181.09, ..., 183.79, 183.82, 183.86],\n",
       "       [181.02, 181.05, 181.09, ..., 183.79, 183.83, 183.86],\n",
       "       ...,\n",
       "       [181.04, 181.08, 181.11, ..., 183.87, 183.9 , 183.94],\n",
       "       [181.04, 181.08, 181.11, ..., 183.87, 183.91, 183.94],\n",
       "       [181.04, 181.08, 181.11, ..., 183.87, 183.91, 183.94]])"
      ]
     },
     "execution_count": 122,
     "metadata": {},
     "output_type": "execute_result"
    }
   ],
   "source": [
    "print(date[6])\n",
    "SZA[6,0]"
   ]
  },
  {
   "cell_type": "markdown",
   "metadata": {},
   "source": [
    "### Observation time: t+60"
   ]
  },
  {
   "cell_type": "markdown",
   "metadata": {},
   "source": []
  },
  {
   "cell_type": "code",
   "execution_count": 123,
   "metadata": {},
   "outputs": [
    {
     "name": "stdout",
     "output_type": "stream",
     "text": [
      "2012-01-02 15:15:00\n"
     ]
    },
    {
     "data": {
      "text/plain": [
       "array([[210.81, 210.84, 210.87, ..., 213.14, 213.17, 213.2 ],\n",
       "       [210.82, 210.85, 210.88, ..., 213.15, 213.18, 213.21],\n",
       "       [210.82, 210.85, 210.88, ..., 213.15, 213.18, 213.21],\n",
       "       ...,\n",
       "       [211.28, 211.31, 211.34, ..., 213.61, 213.64, 213.67],\n",
       "       [211.28, 211.31, 211.34, ..., 213.62, 213.65, 213.68],\n",
       "       [211.29, 211.32, 211.35, ..., 213.63, 213.66, 213.69]])"
      ]
     },
     "execution_count": 123,
     "metadata": {},
     "output_type": "execute_result"
    }
   ],
   "source": [
    "print(date[7])\n",
    "SZA[7,0]"
   ]
  },
  {
   "cell_type": "code",
   "execution_count": 125,
   "metadata": {},
   "outputs": [
    {
     "name": "stdout",
     "output_type": "stream",
     "text": [
      "2012-01-03 09:15:00\n"
     ]
    },
    {
     "data": {
      "text/plain": [
       "array([[127.08, 127.1 , 127.12, ..., 128.89, 128.92, 128.94],\n",
       "       [127.07, 127.1 , 127.12, ..., 128.89, 128.91, 128.94],\n",
       "       [127.07, 127.09, 127.12, ..., 128.89, 128.91, 128.93],\n",
       "       ...,\n",
       "       [126.84, 126.86, 126.88, ..., 128.61, 128.63, 128.66],\n",
       "       [126.83, 126.85, 126.88, ..., 128.61, 128.63, 128.65],\n",
       "       [126.83, 126.85, 126.87, ..., 128.6 , 128.62, 128.65]])"
      ]
     },
     "execution_count": 125,
     "metadata": {},
     "output_type": "execute_result"
    }
   ],
   "source": []
  },
  {
   "cell_type": "markdown",
   "metadata": {},
   "source": [
    "### Questions on the data set \n",
    "#### 1. What is the meaning of the value inside of the matrix \n",
    "#### "
   ]
  },
  {
   "cell_type": "markdown",
   "metadata": {},
   "source": []
  },
  {
   "cell_type": "code",
   "execution_count": null,
   "metadata": {},
   "outputs": [],
   "source": []
  }
 ],
 "metadata": {
  "kernelspec": {
   "display_name": "Python 3.8.12 64-bit ('shims')",
   "language": "python",
   "name": "python3"
  },
  "language_info": {
   "codemirror_mode": {
    "name": "ipython",
    "version": 3
   },
   "file_extension": ".py",
   "mimetype": "text/x-python",
   "name": "python",
   "nbconvert_exporter": "python",
   "pygments_lexer": "ipython3",
   "version": "3.8.12"
  },
  "orig_nbformat": 4,
  "vscode": {
   "interpreter": {
    "hash": "2c0f36fb2cae117807c78bc055c2e6d6b6e87d3b62b52d1fa14cbc90017ea8bd"
   }
  }
 },
 "nbformat": 4,
 "nbformat_minor": 2
}
